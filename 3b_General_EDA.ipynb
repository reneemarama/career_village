{
 "cells": [
  {
   "cell_type": "markdown",
   "metadata": {
    "toc": true
   },
   "source": [
    "<h1>Table of Contents<span class=\"tocSkip\"></span></h1>\n",
    "<div class=\"toc\"><ul class=\"toc-item\"><li><span><a href=\"#General-EDA\" data-toc-modified-id=\"General-EDA-1\"><span class=\"toc-item-num\">1&nbsp;&nbsp;</span>General EDA</a></span><ul class=\"toc-item\"><li><span><a href=\"#Changing-dates-to-datetime-data-type\" data-toc-modified-id=\"Changing-dates-to-datetime-data-type-1.1\"><span class=\"toc-item-num\">1.1&nbsp;&nbsp;</span>Changing dates to datetime data type</a></span></li><li><span><a href=\"#Exploring-was_answered\" data-toc-modified-id=\"Exploring-was_answered-1.2\"><span class=\"toc-item-num\">1.2&nbsp;&nbsp;</span>Exploring <code>was_answered</code></a></span></li><li><span><a href=\"#Exploring-Sentiment-Values\" data-toc-modified-id=\"Exploring-Sentiment-Values-1.3\"><span class=\"toc-item-num\">1.3&nbsp;&nbsp;</span>Exploring Sentiment Values</a></span><ul class=\"toc-item\"><li><span><a href=\"#Histogram-of-Answers-Sentiment-Scores:\" data-toc-modified-id=\"Histogram-of-Answers-Sentiment-Scores:-1.3.1\"><span class=\"toc-item-num\">1.3.1&nbsp;&nbsp;</span>Histogram of Answers Sentiment Scores:</a></span></li><li><span><a href=\"#Histogram-of-Questions-Sentiment-Scores\" data-toc-modified-id=\"Histogram-of-Questions-Sentiment-Scores-1.3.2\"><span class=\"toc-item-num\">1.3.2&nbsp;&nbsp;</span>Histogram of Questions Sentiment Scores</a></span></li></ul></li><li><span><a href=\"#Exploring-Answers-Authors\" data-toc-modified-id=\"Exploring-Answers-Authors-1.4\"><span class=\"toc-item-num\">1.4&nbsp;&nbsp;</span>Exploring Answers Authors</a></span><ul class=\"toc-item\"><li><ul class=\"toc-item\"><li><span><a href=\"#Checking-the-answers-author-Id's\" data-toc-modified-id=\"Checking-the-answers-author-Id's-1.4.0.1\"><span class=\"toc-item-num\">1.4.0.1&nbsp;&nbsp;</span>Checking the answers author Id's</a></span></li></ul></li></ul></li><li><span><a href=\"#Exploring-Scores\" data-toc-modified-id=\"Exploring-Scores-1.5\"><span class=\"toc-item-num\">1.5&nbsp;&nbsp;</span>Exploring Scores</a></span><ul class=\"toc-item\"><li><span><a href=\"#General-Stats-for-Question-and-Answer-Scores:\" data-toc-modified-id=\"General-Stats-for-Question-and-Answer-Scores:-1.5.1\"><span class=\"toc-item-num\">1.5.1&nbsp;&nbsp;</span>General Stats for Question and Answer Scores:</a></span></li><li><span><a href=\"#Exploring-answer_scores\" data-toc-modified-id=\"Exploring-answer_scores-1.5.2\"><span class=\"toc-item-num\">1.5.2&nbsp;&nbsp;</span>Exploring <code>answer_scores</code></a></span></li><li><span><a href=\"#Exploring-questions_score\" data-toc-modified-id=\"Exploring-questions_score-1.5.3\"><span class=\"toc-item-num\">1.5.3&nbsp;&nbsp;</span>Exploring <code>questions_score</code></a></span><ul class=\"toc-item\"><li><span><a href=\"#Exploring-dates-and-lengths-of-time-answered\" data-toc-modified-id=\"Exploring-dates-and-lengths-of-time-answered-1.5.3.1\"><span class=\"toc-item-num\">1.5.3.1&nbsp;&nbsp;</span>Exploring dates and lengths of time answered</a></span></li></ul></li></ul></li><li><span><a href=\"#Exporting-Data\" data-toc-modified-id=\"Exporting-Data-1.6\"><span class=\"toc-item-num\">1.6&nbsp;&nbsp;</span>Exporting Data</a></span></li></ul></li></ul></div>"
   ]
  },
  {
   "cell_type": "markdown",
   "metadata": {},
   "source": [
    "# General EDA"
   ]
  },
  {
   "cell_type": "code",
   "execution_count": 1,
   "metadata": {},
   "outputs": [],
   "source": [
    "import pandas as pd\n",
    "# import regex as re\n",
    "\n",
    "import matplotlib.pyplot as plt\n",
    "import seaborn as sns\n",
    "\n",
    "# from sklearn.feature_extraction.text import CountVectorizer, TfidfVectorizer\n",
    "# from nltk.tokenize import RegexpTokenizer\n",
    "# from nltk.sentiment.vader import SentimentIntensityAnalyzer\n",
    "# from sklearn.feature_extraction import stop_words, text\n",
    "\n",
    "%config InlineBackend.figure_format = 'retina'\n"
   ]
  },
  {
   "cell_type": "code",
   "execution_count": 2,
   "metadata": {},
   "outputs": [
    {
     "data": {
      "text/html": [
       "<div>\n",
       "<style scoped>\n",
       "    .dataframe tbody tr th:only-of-type {\n",
       "        vertical-align: middle;\n",
       "    }\n",
       "\n",
       "    .dataframe tbody tr th {\n",
       "        vertical-align: top;\n",
       "    }\n",
       "\n",
       "    .dataframe thead th {\n",
       "        text-align: right;\n",
       "    }\n",
       "</style>\n",
       "<table border=\"1\" class=\"dataframe\">\n",
       "  <thead>\n",
       "    <tr style=\"text-align: right;\">\n",
       "      <th></th>\n",
       "      <th>questions_id</th>\n",
       "      <th>questions_author_id</th>\n",
       "      <th>questions_date_added</th>\n",
       "      <th>questions_title</th>\n",
       "      <th>questions_body</th>\n",
       "      <th>questions_score</th>\n",
       "      <th>tag_id</th>\n",
       "      <th>tag_name</th>\n",
       "      <th>answers_id</th>\n",
       "      <th>answers_author_id</th>\n",
       "      <th>answers_date_added</th>\n",
       "      <th>answers_body</th>\n",
       "      <th>answers_score</th>\n",
       "      <th>was_answered</th>\n",
       "      <th>has_tag</th>\n",
       "      <th>questions_sentiment</th>\n",
       "      <th>answers_sentiment</th>\n",
       "    </tr>\n",
       "  </thead>\n",
       "  <tbody>\n",
       "    <tr>\n",
       "      <th>0</th>\n",
       "      <td>332a511f1569444485cf7a7a556a5e54</td>\n",
       "      <td>8f6f374ffd834d258ab69d376dd998f5</td>\n",
       "      <td>2016-04-26 11:14:26+00:00</td>\n",
       "      <td>teacher   career   question</td>\n",
       "      <td>what  is  a  maths  teacher    what  is  a  ma...</td>\n",
       "      <td>1.0</td>\n",
       "      <td>14147.0</td>\n",
       "      <td>lecture</td>\n",
       "      <td>4e5f01128cae4f6d8fd697cec5dca60c</td>\n",
       "      <td>36ff3b3666df400f956f8335cf53e09e</td>\n",
       "      <td>2016-04-29 19:40:14+00:00</td>\n",
       "      <td>hi you are asking a very interesting question ...</td>\n",
       "      <td>0.0</td>\n",
       "      <td>1</td>\n",
       "      <td>1</td>\n",
       "      <td>0.4404</td>\n",
       "      <td>0.8122</td>\n",
       "    </tr>\n",
       "    <tr>\n",
       "      <th>1</th>\n",
       "      <td>332a511f1569444485cf7a7a556a5e54</td>\n",
       "      <td>8f6f374ffd834d258ab69d376dd998f5</td>\n",
       "      <td>2016-04-26 11:14:26+00:00</td>\n",
       "      <td>teacher   career   question</td>\n",
       "      <td>what  is  a  maths  teacher    what  is  a  ma...</td>\n",
       "      <td>1.0</td>\n",
       "      <td>27490.0</td>\n",
       "      <td>college</td>\n",
       "      <td>4e5f01128cae4f6d8fd697cec5dca60c</td>\n",
       "      <td>36ff3b3666df400f956f8335cf53e09e</td>\n",
       "      <td>2016-04-29 19:40:14+00:00</td>\n",
       "      <td>hi you are asking a very interesting question ...</td>\n",
       "      <td>0.0</td>\n",
       "      <td>1</td>\n",
       "      <td>1</td>\n",
       "      <td>0.4404</td>\n",
       "      <td>0.8122</td>\n",
       "    </tr>\n",
       "  </tbody>\n",
       "</table>\n",
       "</div>"
      ],
      "text/plain": [
       "                       questions_id               questions_author_id  \\\n",
       "0  332a511f1569444485cf7a7a556a5e54  8f6f374ffd834d258ab69d376dd998f5   \n",
       "1  332a511f1569444485cf7a7a556a5e54  8f6f374ffd834d258ab69d376dd998f5   \n",
       "\n",
       "        questions_date_added              questions_title  \\\n",
       "0  2016-04-26 11:14:26+00:00  teacher   career   question   \n",
       "1  2016-04-26 11:14:26+00:00  teacher   career   question   \n",
       "\n",
       "                                      questions_body  questions_score  \\\n",
       "0  what  is  a  maths  teacher    what  is  a  ma...              1.0   \n",
       "1  what  is  a  maths  teacher    what  is  a  ma...              1.0   \n",
       "\n",
       "    tag_id tag_name                        answers_id  \\\n",
       "0  14147.0  lecture  4e5f01128cae4f6d8fd697cec5dca60c   \n",
       "1  27490.0  college  4e5f01128cae4f6d8fd697cec5dca60c   \n",
       "\n",
       "                  answers_author_id         answers_date_added  \\\n",
       "0  36ff3b3666df400f956f8335cf53e09e  2016-04-29 19:40:14+00:00   \n",
       "1  36ff3b3666df400f956f8335cf53e09e  2016-04-29 19:40:14+00:00   \n",
       "\n",
       "                                        answers_body  answers_score  \\\n",
       "0  hi you are asking a very interesting question ...            0.0   \n",
       "1  hi you are asking a very interesting question ...            0.0   \n",
       "\n",
       "   was_answered  has_tag  questions_sentiment  answers_sentiment  \n",
       "0             1        1               0.4404             0.8122  \n",
       "1             1        1               0.4404             0.8122  "
      ]
     },
     "execution_count": 2,
     "metadata": {},
     "output_type": "execute_result"
    }
   ],
   "source": [
    "data = pd.read_csv('./Datasets/cleaned_w_sentiment.csv')\n",
    "data.head(2)"
   ]
  },
  {
   "cell_type": "code",
   "execution_count": 3,
   "metadata": {},
   "outputs": [
    {
     "data": {
      "text/html": [
       "<div>\n",
       "<style scoped>\n",
       "    .dataframe tbody tr th:only-of-type {\n",
       "        vertical-align: middle;\n",
       "    }\n",
       "\n",
       "    .dataframe tbody tr th {\n",
       "        vertical-align: top;\n",
       "    }\n",
       "\n",
       "    .dataframe thead th {\n",
       "        text-align: right;\n",
       "    }\n",
       "</style>\n",
       "<table border=\"1\" class=\"dataframe\">\n",
       "  <thead>\n",
       "    <tr style=\"text-align: right;\">\n",
       "      <th></th>\n",
       "      <th>questions_score</th>\n",
       "      <th>tag_id</th>\n",
       "      <th>answers_score</th>\n",
       "      <th>was_answered</th>\n",
       "      <th>has_tag</th>\n",
       "      <th>questions_sentiment</th>\n",
       "      <th>answers_sentiment</th>\n",
       "    </tr>\n",
       "  </thead>\n",
       "  <tbody>\n",
       "    <tr>\n",
       "      <th>count</th>\n",
       "      <td>180376.000000</td>\n",
       "      <td>180376.000000</td>\n",
       "      <td>180376.000000</td>\n",
       "      <td>180376.000000</td>\n",
       "      <td>180376.000000</td>\n",
       "      <td>180376.000000</td>\n",
       "      <td>180376.000000</td>\n",
       "    </tr>\n",
       "    <tr>\n",
       "      <th>mean</th>\n",
       "      <td>4.873115</td>\n",
       "      <td>16850.235325</td>\n",
       "      <td>0.448413</td>\n",
       "      <td>0.987027</td>\n",
       "      <td>0.990575</td>\n",
       "      <td>0.390779</td>\n",
       "      <td>0.763219</td>\n",
       "    </tr>\n",
       "    <tr>\n",
       "      <th>std</th>\n",
       "      <td>7.536732</td>\n",
       "      <td>10280.952759</td>\n",
       "      <td>0.936107</td>\n",
       "      <td>0.113158</td>\n",
       "      <td>0.096623</td>\n",
       "      <td>0.435442</td>\n",
       "      <td>0.359890</td>\n",
       "    </tr>\n",
       "    <tr>\n",
       "      <th>min</th>\n",
       "      <td>0.000000</td>\n",
       "      <td>0.000000</td>\n",
       "      <td>0.000000</td>\n",
       "      <td>0.000000</td>\n",
       "      <td>0.000000</td>\n",
       "      <td>-0.992900</td>\n",
       "      <td>-0.996900</td>\n",
       "    </tr>\n",
       "    <tr>\n",
       "      <th>25%</th>\n",
       "      <td>2.000000</td>\n",
       "      <td>9521.000000</td>\n",
       "      <td>0.000000</td>\n",
       "      <td>1.000000</td>\n",
       "      <td>1.000000</td>\n",
       "      <td>0.000000</td>\n",
       "      <td>0.726900</td>\n",
       "    </tr>\n",
       "    <tr>\n",
       "      <th>50%</th>\n",
       "      <td>4.000000</td>\n",
       "      <td>18351.000000</td>\n",
       "      <td>0.000000</td>\n",
       "      <td>1.000000</td>\n",
       "      <td>1.000000</td>\n",
       "      <td>0.440400</td>\n",
       "      <td>0.931300</td>\n",
       "    </tr>\n",
       "    <tr>\n",
       "      <th>75%</th>\n",
       "      <td>5.000000</td>\n",
       "      <td>25524.000000</td>\n",
       "      <td>1.000000</td>\n",
       "      <td>1.000000</td>\n",
       "      <td>1.000000</td>\n",
       "      <td>0.775500</td>\n",
       "      <td>0.979400</td>\n",
       "    </tr>\n",
       "    <tr>\n",
       "      <th>max</th>\n",
       "      <td>125.000000</td>\n",
       "      <td>39250.000000</td>\n",
       "      <td>30.000000</td>\n",
       "      <td>1.000000</td>\n",
       "      <td>1.000000</td>\n",
       "      <td>0.998300</td>\n",
       "      <td>1.000000</td>\n",
       "    </tr>\n",
       "  </tbody>\n",
       "</table>\n",
       "</div>"
      ],
      "text/plain": [
       "       questions_score         tag_id  answers_score   was_answered  \\\n",
       "count    180376.000000  180376.000000  180376.000000  180376.000000   \n",
       "mean          4.873115   16850.235325       0.448413       0.987027   \n",
       "std           7.536732   10280.952759       0.936107       0.113158   \n",
       "min           0.000000       0.000000       0.000000       0.000000   \n",
       "25%           2.000000    9521.000000       0.000000       1.000000   \n",
       "50%           4.000000   18351.000000       0.000000       1.000000   \n",
       "75%           5.000000   25524.000000       1.000000       1.000000   \n",
       "max         125.000000   39250.000000      30.000000       1.000000   \n",
       "\n",
       "             has_tag  questions_sentiment  answers_sentiment  \n",
       "count  180376.000000        180376.000000      180376.000000  \n",
       "mean        0.990575             0.390779           0.763219  \n",
       "std         0.096623             0.435442           0.359890  \n",
       "min         0.000000            -0.992900          -0.996900  \n",
       "25%         1.000000             0.000000           0.726900  \n",
       "50%         1.000000             0.440400           0.931300  \n",
       "75%         1.000000             0.775500           0.979400  \n",
       "max         1.000000             0.998300           1.000000  "
      ]
     },
     "execution_count": 3,
     "metadata": {},
     "output_type": "execute_result"
    }
   ],
   "source": [
    "data.describe()"
   ]
  },
  {
   "cell_type": "code",
   "execution_count": 4,
   "metadata": {},
   "outputs": [
    {
     "data": {
      "text/plain": [
       "(180376, 17)"
      ]
     },
     "execution_count": 4,
     "metadata": {},
     "output_type": "execute_result"
    }
   ],
   "source": [
    "data.shape"
   ]
  },
  {
   "cell_type": "code",
   "execution_count": 5,
   "metadata": {},
   "outputs": [
    {
     "data": {
      "text/plain": [
       "questions_id             object\n",
       "questions_author_id      object\n",
       "questions_date_added     object\n",
       "questions_title          object\n",
       "questions_body           object\n",
       "questions_score         float64\n",
       "tag_id                  float64\n",
       "tag_name                 object\n",
       "answers_id               object\n",
       "answers_author_id        object\n",
       "answers_date_added       object\n",
       "answers_body             object\n",
       "answers_score           float64\n",
       "was_answered              int64\n",
       "has_tag                   int64\n",
       "questions_sentiment     float64\n",
       "answers_sentiment       float64\n",
       "dtype: object"
      ]
     },
     "execution_count": 5,
     "metadata": {},
     "output_type": "execute_result"
    }
   ],
   "source": [
    "data.dtypes"
   ]
  },
  {
   "cell_type": "code",
   "execution_count": 6,
   "metadata": {},
   "outputs": [
    {
     "data": {
      "text/plain": [
       "questions_id               0\n",
       "questions_author_id        0\n",
       "questions_date_added       0\n",
       "questions_title            0\n",
       "questions_body             0\n",
       "questions_score            0\n",
       "tag_id                     0\n",
       "tag_name                   0\n",
       "answers_id                 0\n",
       "answers_author_id          0\n",
       "answers_date_added      2340\n",
       "answers_body               0\n",
       "answers_score              0\n",
       "was_answered               0\n",
       "has_tag                    0\n",
       "questions_sentiment        0\n",
       "answers_sentiment          0\n",
       "dtype: int64"
      ]
     },
     "execution_count": 6,
     "metadata": {},
     "output_type": "execute_result"
    }
   ],
   "source": [
    "data.isnull().sum()"
   ]
  },
  {
   "cell_type": "markdown",
   "metadata": {},
   "source": [
    "## Changing dates to datetime data type"
   ]
  },
  {
   "cell_type": "code",
   "execution_count": 7,
   "metadata": {},
   "outputs": [],
   "source": [
    "data['answers_date_added'] = pd.to_datetime(data['answers_date_added'])\n",
    "data['questions_date_added'] = pd.to_datetime(data['questions_date_added'])"
   ]
  },
  {
   "cell_type": "code",
   "execution_count": 8,
   "metadata": {},
   "outputs": [
    {
     "data": {
      "text/plain": [
       "0        2016-04-26 11:14:26+00:00\n",
       "1        2016-04-26 11:14:26+00:00\n",
       "2        2016-04-26 11:14:26+00:00\n",
       "3        2016-05-20 16:48:25+00:00\n",
       "4        2016-05-20 16:48:25+00:00\n",
       "                    ...           \n",
       "180371   2015-10-21 20:16:38+00:00\n",
       "180372   2015-10-21 20:16:38+00:00\n",
       "180373   2015-10-21 20:16:38+00:00\n",
       "180374   2015-10-21 20:16:38+00:00\n",
       "180375   2015-10-21 20:16:38+00:00\n",
       "Name: questions_date_added, Length: 180376, dtype: datetime64[ns, UTC]"
      ]
     },
     "execution_count": 8,
     "metadata": {},
     "output_type": "execute_result"
    }
   ],
   "source": [
    "data['questions_date_added']"
   ]
  },
  {
   "cell_type": "markdown",
   "metadata": {},
   "source": [
    "## Exploring `was_answered`\n",
    "\n",
    "An initial look at `was_answered` stats shows that the majority of questions are answered."
   ]
  },
  {
   "cell_type": "code",
   "execution_count": 9,
   "metadata": {},
   "outputs": [
    {
     "data": {
      "text/html": [
       "<div>\n",
       "<style scoped>\n",
       "    .dataframe tbody tr th:only-of-type {\n",
       "        vertical-align: middle;\n",
       "    }\n",
       "\n",
       "    .dataframe tbody tr th {\n",
       "        vertical-align: top;\n",
       "    }\n",
       "\n",
       "    .dataframe thead tr th {\n",
       "        text-align: left;\n",
       "    }\n",
       "\n",
       "    .dataframe thead tr:last-of-type th {\n",
       "        text-align: right;\n",
       "    }\n",
       "</style>\n",
       "<table border=\"1\" class=\"dataframe\">\n",
       "  <thead>\n",
       "    <tr>\n",
       "      <th></th>\n",
       "      <th colspan=\"8\" halign=\"left\">questions_score</th>\n",
       "    </tr>\n",
       "    <tr>\n",
       "      <th></th>\n",
       "      <th>count</th>\n",
       "      <th>mean</th>\n",
       "      <th>std</th>\n",
       "      <th>min</th>\n",
       "      <th>25%</th>\n",
       "      <th>50%</th>\n",
       "      <th>75%</th>\n",
       "      <th>max</th>\n",
       "    </tr>\n",
       "    <tr>\n",
       "      <th>was_answered</th>\n",
       "      <th></th>\n",
       "      <th></th>\n",
       "      <th></th>\n",
       "      <th></th>\n",
       "      <th></th>\n",
       "      <th></th>\n",
       "      <th></th>\n",
       "      <th></th>\n",
       "    </tr>\n",
       "  </thead>\n",
       "  <tbody>\n",
       "    <tr>\n",
       "      <th>0</th>\n",
       "      <td>2340.0</td>\n",
       "      <td>0.755556</td>\n",
       "      <td>3.167693</td>\n",
       "      <td>0.0</td>\n",
       "      <td>0.0</td>\n",
       "      <td>0.0</td>\n",
       "      <td>1.0</td>\n",
       "      <td>123.0</td>\n",
       "    </tr>\n",
       "    <tr>\n",
       "      <th>1</th>\n",
       "      <td>178036.0</td>\n",
       "      <td>4.927234</td>\n",
       "      <td>7.562493</td>\n",
       "      <td>0.0</td>\n",
       "      <td>2.0</td>\n",
       "      <td>4.0</td>\n",
       "      <td>5.0</td>\n",
       "      <td>125.0</td>\n",
       "    </tr>\n",
       "  </tbody>\n",
       "</table>\n",
       "</div>"
      ],
      "text/plain": [
       "             questions_score                                               \n",
       "                       count      mean       std  min  25%  50%  75%    max\n",
       "was_answered                                                               \n",
       "0                     2340.0  0.755556  3.167693  0.0  0.0  0.0  1.0  123.0\n",
       "1                   178036.0  4.927234  7.562493  0.0  2.0  4.0  5.0  125.0"
      ]
     },
     "execution_count": 9,
     "metadata": {},
     "output_type": "execute_result"
    }
   ],
   "source": [
    "data.groupby('was_answered')[['questions_score']].describe()"
   ]
  },
  {
   "cell_type": "code",
   "execution_count": 10,
   "metadata": {},
   "outputs": [
    {
     "data": {
      "text/html": [
       "<div>\n",
       "<style scoped>\n",
       "    .dataframe tbody tr th:only-of-type {\n",
       "        vertical-align: middle;\n",
       "    }\n",
       "\n",
       "    .dataframe tbody tr th {\n",
       "        vertical-align: top;\n",
       "    }\n",
       "\n",
       "    .dataframe thead tr th {\n",
       "        text-align: left;\n",
       "    }\n",
       "\n",
       "    .dataframe thead tr:last-of-type th {\n",
       "        text-align: right;\n",
       "    }\n",
       "</style>\n",
       "<table border=\"1\" class=\"dataframe\">\n",
       "  <thead>\n",
       "    <tr>\n",
       "      <th></th>\n",
       "      <th colspan=\"8\" halign=\"left\">answers_score</th>\n",
       "    </tr>\n",
       "    <tr>\n",
       "      <th></th>\n",
       "      <th>count</th>\n",
       "      <th>mean</th>\n",
       "      <th>std</th>\n",
       "      <th>min</th>\n",
       "      <th>25%</th>\n",
       "      <th>50%</th>\n",
       "      <th>75%</th>\n",
       "      <th>max</th>\n",
       "    </tr>\n",
       "    <tr>\n",
       "      <th>was_answered</th>\n",
       "      <th></th>\n",
       "      <th></th>\n",
       "      <th></th>\n",
       "      <th></th>\n",
       "      <th></th>\n",
       "      <th></th>\n",
       "      <th></th>\n",
       "      <th></th>\n",
       "    </tr>\n",
       "  </thead>\n",
       "  <tbody>\n",
       "    <tr>\n",
       "      <th>0</th>\n",
       "      <td>2340.0</td>\n",
       "      <td>0.000000</td>\n",
       "      <td>0.000000</td>\n",
       "      <td>0.0</td>\n",
       "      <td>0.0</td>\n",
       "      <td>0.0</td>\n",
       "      <td>0.0</td>\n",
       "      <td>0.0</td>\n",
       "    </tr>\n",
       "    <tr>\n",
       "      <th>1</th>\n",
       "      <td>178036.0</td>\n",
       "      <td>0.454307</td>\n",
       "      <td>0.940817</td>\n",
       "      <td>0.0</td>\n",
       "      <td>0.0</td>\n",
       "      <td>0.0</td>\n",
       "      <td>1.0</td>\n",
       "      <td>30.0</td>\n",
       "    </tr>\n",
       "  </tbody>\n",
       "</table>\n",
       "</div>"
      ],
      "text/plain": [
       "             answers_score                                              \n",
       "                     count      mean       std  min  25%  50%  75%   max\n",
       "was_answered                                                            \n",
       "0                   2340.0  0.000000  0.000000  0.0  0.0  0.0  0.0   0.0\n",
       "1                 178036.0  0.454307  0.940817  0.0  0.0  0.0  1.0  30.0"
      ]
     },
     "execution_count": 10,
     "metadata": {},
     "output_type": "execute_result"
    }
   ],
   "source": [
    "data.groupby('was_answered')[['answers_score']].describe()"
   ]
  },
  {
   "cell_type": "markdown",
   "metadata": {},
   "source": [
    "We can see that the average question score for where questions weren't answered was 0.75 and when answered 4.9 (the highest score is 125, with most between 0-10). The scores work similiar to \"upvotes\" or \"likes\", 0 means 0 \"upvotes\", 5 means 5 \"upvotes\" etc. This intuitively makes sense, because questions with low or no upvotes are likely to go unanswered. \n",
    "\n",
    "The other things to note is that average answers_score is .45. Again, on the upvote scale above, so it looks like the majority of answers aren't getting \"upvotes\"."
   ]
  },
  {
   "cell_type": "code",
   "execution_count": 12,
   "metadata": {},
   "outputs": [
    {
     "data": {
      "text/html": [
       "<div>\n",
       "<style scoped>\n",
       "    .dataframe tbody tr th:only-of-type {\n",
       "        vertical-align: middle;\n",
       "    }\n",
       "\n",
       "    .dataframe tbody tr th {\n",
       "        vertical-align: top;\n",
       "    }\n",
       "\n",
       "    .dataframe thead th {\n",
       "        text-align: right;\n",
       "    }\n",
       "</style>\n",
       "<table border=\"1\" class=\"dataframe\">\n",
       "  <thead>\n",
       "    <tr style=\"text-align: right;\">\n",
       "      <th></th>\n",
       "      <th>questions_score</th>\n",
       "      <th>tag_id</th>\n",
       "      <th>answers_score</th>\n",
       "      <th>has_tag</th>\n",
       "      <th>questions_sentiment</th>\n",
       "      <th>answers_sentiment</th>\n",
       "    </tr>\n",
       "    <tr>\n",
       "      <th>was_answered</th>\n",
       "      <th></th>\n",
       "      <th></th>\n",
       "      <th></th>\n",
       "      <th></th>\n",
       "      <th></th>\n",
       "      <th></th>\n",
       "    </tr>\n",
       "  </thead>\n",
       "  <tbody>\n",
       "    <tr>\n",
       "      <th>0</th>\n",
       "      <td>0.755556</td>\n",
       "      <td>19804.312393</td>\n",
       "      <td>0.000000</td>\n",
       "      <td>0.994017</td>\n",
       "      <td>0.273097</td>\n",
       "      <td>0.00000</td>\n",
       "    </tr>\n",
       "    <tr>\n",
       "      <th>1</th>\n",
       "      <td>4.927234</td>\n",
       "      <td>16811.408681</td>\n",
       "      <td>0.454307</td>\n",
       "      <td>0.990530</td>\n",
       "      <td>0.392326</td>\n",
       "      <td>0.77325</td>\n",
       "    </tr>\n",
       "  </tbody>\n",
       "</table>\n",
       "</div>"
      ],
      "text/plain": [
       "              questions_score        tag_id  answers_score   has_tag  \\\n",
       "was_answered                                                           \n",
       "0                    0.755556  19804.312393       0.000000  0.994017   \n",
       "1                    4.927234  16811.408681       0.454307  0.990530   \n",
       "\n",
       "              questions_sentiment  answers_sentiment  \n",
       "was_answered                                          \n",
       "0                        0.273097            0.00000  \n",
       "1                        0.392326            0.77325  "
      ]
     },
     "execution_count": 12,
     "metadata": {},
     "output_type": "execute_result"
    }
   ],
   "source": [
    "data.groupby('was_answered').mean()"
   ]
  },
  {
   "cell_type": "markdown",
   "metadata": {},
   "source": [
    "The majority of questions are answered as shown below: (1: answered, 0:not answered)"
   ]
  },
  {
   "cell_type": "code",
   "execution_count": 13,
   "metadata": {},
   "outputs": [
    {
     "data": {
      "image/png": "[encoded data removed]",
      "text/plain": [
       "<Figure size 640x480 with 1 Axes>"
      ]
     },
     "metadata": {
      "image/png": {
       "height": 413,
       "width": 598
      }
     },
     "output_type": "display_data"
    }
   ],
   "source": [
    "data['was_answered'].hist()\n",
    "plt.ylabel(\"Count\");"
   ]
  },
  {
   "cell_type": "code",
   "execution_count": 14,
   "metadata": {},
   "outputs": [
    {
     "data": {
      "image/png": "[encoded data removed]",
      "text/plain": [
       "<Figure size 640x480 with 2 Axes>"
      ]
     },
     "metadata": {
      "image/png": {
       "height": 419,
       "width": 646
      }
     },
     "output_type": "display_data"
    }
   ],
   "source": [
    "qa_corr = data.drop(columns='tag_id').corr()[['was_answered']].dropna().sort_values('was_answered', ascending=False)\n",
    "\n",
    "sns.heatmap(qa_corr, annot=True);"
   ]
  },
  {
   "cell_type": "markdown",
   "metadata": {},
   "source": [
    "## Exploring Sentiment Values"
   ]
  },
  {
   "cell_type": "markdown",
   "metadata": {},
   "source": [
    "In the NLP EDA notebook, I calculated the 'sentiment score' of the questions and answers body. I did this using the Natural Language Tool Kit (NLTK) library. The sentiment score parses through the text and awards words a positive or negative score. Words like \"like\", \"love\" \"happy\" etc. are attributed to a positive score, while \"dislike\", \"annoyed\" etc. are given negative scores. Words like \"the\", \"it\" etc. are considered neutral. NLTK then aggregates a score based on all the words in the passage. Though this is an imperfect approach (i.e. attributing a positive score to \"don't like\"  or the reverse), it provides a general understanding of the tone of the text. \n",
    "\n",
    "In the stats overview below, grouped by 'was_answered', one can see that the average questions_sentiment is relatively similiar for questions that were answered versus those that were not answered. Since not all the questions are answered, there are all 0's in the `answers_sentiment` score where `was_answered` is 0.\n",
    "\n",
    "**The scores range from -1 to 1.** With 1 being positive, -1: negative."
   ]
  },
  {
   "cell_type": "code",
   "execution_count": 15,
   "metadata": {},
   "outputs": [
    {
     "data": {
      "text/html": [
       "<div>\n",
       "<style scoped>\n",
       "    .dataframe tbody tr th:only-of-type {\n",
       "        vertical-align: middle;\n",
       "    }\n",
       "\n",
       "    .dataframe tbody tr th {\n",
       "        vertical-align: top;\n",
       "    }\n",
       "\n",
       "    .dataframe thead tr th {\n",
       "        text-align: left;\n",
       "    }\n",
       "\n",
       "    .dataframe thead tr:last-of-type th {\n",
       "        text-align: right;\n",
       "    }\n",
       "</style>\n",
       "<table border=\"1\" class=\"dataframe\">\n",
       "  <thead>\n",
       "    <tr>\n",
       "      <th></th>\n",
       "      <th colspan=\"8\" halign=\"left\">questions_sentiment</th>\n",
       "      <th colspan=\"8\" halign=\"left\">answers_sentiment</th>\n",
       "    </tr>\n",
       "    <tr>\n",
       "      <th></th>\n",
       "      <th>count</th>\n",
       "      <th>mean</th>\n",
       "      <th>std</th>\n",
       "      <th>min</th>\n",
       "      <th>25%</th>\n",
       "      <th>50%</th>\n",
       "      <th>75%</th>\n",
       "      <th>max</th>\n",
       "      <th>count</th>\n",
       "      <th>mean</th>\n",
       "      <th>std</th>\n",
       "      <th>min</th>\n",
       "      <th>25%</th>\n",
       "      <th>50%</th>\n",
       "      <th>75%</th>\n",
       "      <th>max</th>\n",
       "    </tr>\n",
       "    <tr>\n",
       "      <th>was_answered</th>\n",
       "      <th></th>\n",
       "      <th></th>\n",
       "      <th></th>\n",
       "      <th></th>\n",
       "      <th></th>\n",
       "      <th></th>\n",
       "      <th></th>\n",
       "      <th></th>\n",
       "      <th></th>\n",
       "      <th></th>\n",
       "      <th></th>\n",
       "      <th></th>\n",
       "      <th></th>\n",
       "      <th></th>\n",
       "      <th></th>\n",
       "      <th></th>\n",
       "    </tr>\n",
       "  </thead>\n",
       "  <tbody>\n",
       "    <tr>\n",
       "      <th>0</th>\n",
       "      <td>2340.0</td>\n",
       "      <td>0.273097</td>\n",
       "      <td>0.403143</td>\n",
       "      <td>-0.9011</td>\n",
       "      <td>0.0</td>\n",
       "      <td>0.2023</td>\n",
       "      <td>0.6369</td>\n",
       "      <td>0.9785</td>\n",
       "      <td>2340.0</td>\n",
       "      <td>0.00000</td>\n",
       "      <td>0.000000</td>\n",
       "      <td>0.0000</td>\n",
       "      <td>0.000</td>\n",
       "      <td>0.0000</td>\n",
       "      <td>0.0000</td>\n",
       "      <td>0.0</td>\n",
       "    </tr>\n",
       "    <tr>\n",
       "      <th>1</th>\n",
       "      <td>178036.0</td>\n",
       "      <td>0.392326</td>\n",
       "      <td>0.435640</td>\n",
       "      <td>-0.9929</td>\n",
       "      <td>0.0</td>\n",
       "      <td>0.4404</td>\n",
       "      <td>0.7783</td>\n",
       "      <td>0.9983</td>\n",
       "      <td>178036.0</td>\n",
       "      <td>0.77325</td>\n",
       "      <td>0.351378</td>\n",
       "      <td>-0.9969</td>\n",
       "      <td>0.743</td>\n",
       "      <td>0.9331</td>\n",
       "      <td>0.9797</td>\n",
       "      <td>1.0</td>\n",
       "    </tr>\n",
       "  </tbody>\n",
       "</table>\n",
       "</div>"
      ],
      "text/plain": [
       "             questions_sentiment                                           \\\n",
       "                           count      mean       std     min  25%     50%   \n",
       "was_answered                                                                \n",
       "0                         2340.0  0.273097  0.403143 -0.9011  0.0  0.2023   \n",
       "1                       178036.0  0.392326  0.435640 -0.9929  0.0  0.4404   \n",
       "\n",
       "                             answers_sentiment                             \\\n",
       "                 75%     max             count     mean       std     min   \n",
       "was_answered                                                                \n",
       "0             0.6369  0.9785            2340.0  0.00000  0.000000  0.0000   \n",
       "1             0.7783  0.9983          178036.0  0.77325  0.351378 -0.9969   \n",
       "\n",
       "                                          \n",
       "                25%     50%     75%  max  \n",
       "was_answered                              \n",
       "0             0.000  0.0000  0.0000  0.0  \n",
       "1             0.743  0.9331  0.9797  1.0  "
      ]
     },
     "execution_count": 15,
     "metadata": {},
     "output_type": "execute_result"
    }
   ],
   "source": [
    "data.groupby('was_answered')[['questions_sentiment', 'answers_sentiment']].describe()"
   ]
  },
  {
   "cell_type": "markdown",
   "metadata": {},
   "source": [
    "### Histogram of Answers Sentiment Scores:\n",
    "\n",
    "The majority of `answers_sentiment` scores are close to 1, with a small bump just below 0. This is good and expected; the point of the platform is to empower and serve youth by answering their career questions. Negative sentiment scores would indicate that the professionals on the platform are not answering kindly, and should be flagged for investigation and possible removal from the platform. That said, humans are much better at discovering tone from the text, and should be reviewed manually or with further analysis before any action is taken."
   ]
  },
  {
   "cell_type": "code",
   "execution_count": 16,
   "metadata": {},
   "outputs": [
    {
     "data": {
      "image/png": "[encoded data removed]",
      "text/plain": [
       "<Figure size 640x480 with 1 Axes>"
      ]
     },
     "metadata": {
      "image/png": {
       "height": 454,
       "width": 598
      }
     },
     "output_type": "display_data"
    }
   ],
   "source": [
    "#Overall\n",
    "data['answers_sentiment'].hist(alpha=.5);\n",
    "plt.title('Answers Sentiment Score, range -1 to 1');\n",
    "plt.ylabel(\"Count\")\n",
    "plt.xlabel(\"Sentiment Score\");"
   ]
  },
  {
   "cell_type": "markdown",
   "metadata": {},
   "source": [
    "### Histogram of Questions Sentiment Scores\n",
    "\n",
    "Though there is a general trend for questions to have a positive sentiment score, we can see that the distribution of scores vary more than the answer scores.\n",
    "\n",
    "#TODO <span style ='color:red'> In further anyalis, it would be interesting to see how the sentiment score correlates to how quickly a question is answered."
   ]
  },
  {
   "cell_type": "code",
   "execution_count": 18,
   "metadata": {},
   "outputs": [
    {
     "data": {
      "image/png": "[encoded data removed]",
      "text/plain": [
       "<Figure size 640x480 with 1 Axes>"
      ]
     },
     "metadata": {
      "image/png": {
       "height": 454,
       "width": 589
      }
     },
     "output_type": "display_data"
    }
   ],
   "source": [
    "data['questions_sentiment'].hist(alpha=.5)\n",
    "plt.title('Questions Sentiment Score, range -1 to 1');\n",
    "plt.ylabel(\"Count\")\n",
    "plt.xlabel(\"Sentiment Score\");"
   ]
  },
  {
   "cell_type": "markdown",
   "metadata": {},
   "source": [
    "## Exploring Answers Authors\n",
    "\n",
    "We wanted to know more about who's answering the questions. Below we're looking at how many people are answering questions and how many questions they're answering.\n",
    "\n",
    "The total number of unique answer authors is 10,170. This is compared to 12,329 question authors and 23,931 unique questions.\n",
    "\n",
    "#TODO : What tags are being answered? Is there a most popular tag? Are the tags they're answering part of their speciality. "
   ]
  },
  {
   "cell_type": "code",
   "execution_count": 20,
   "metadata": {},
   "outputs": [
    {
     "name": "stdout",
     "output_type": "stream",
     "text": [
      "number of unique answer authors:: 10170\n",
      "number of unique question authors: 12329\n",
      "number of unique questions: 23931\n"
     ]
    }
   ],
   "source": [
    "print(\"number of unique answer authors::\", data['answers_author_id'].nunique())\n",
    "print(\"number of unique question authors:\", data['questions_author_id'].nunique())\n",
    "print(\"number of unique questions:\", data['questions_id'].nunique())"
   ]
  },
  {
   "cell_type": "markdown",
   "metadata": {},
   "source": [
    "#### Checking the answers author Id's"
   ]
  },
  {
   "cell_type": "code",
   "execution_count": 25,
   "metadata": {},
   "outputs": [
    {
     "data": {
      "text/html": [
       "<div>\n",
       "<style scoped>\n",
       "    .dataframe tbody tr th:only-of-type {\n",
       "        vertical-align: middle;\n",
       "    }\n",
       "\n",
       "    .dataframe tbody tr th {\n",
       "        vertical-align: top;\n",
       "    }\n",
       "\n",
       "    .dataframe thead th {\n",
       "        text-align: right;\n",
       "    }\n",
       "</style>\n",
       "<table border=\"1\" class=\"dataframe\">\n",
       "  <thead>\n",
       "    <tr style=\"text-align: right;\">\n",
       "      <th></th>\n",
       "      <th>questions_score</th>\n",
       "      <th>tag_id</th>\n",
       "      <th>answers_score</th>\n",
       "      <th>was_answered</th>\n",
       "      <th>has_tag</th>\n",
       "      <th>questions_sentiment</th>\n",
       "      <th>answers_sentiment</th>\n",
       "    </tr>\n",
       "    <tr>\n",
       "      <th>answers_author_id</th>\n",
       "      <th></th>\n",
       "      <th></th>\n",
       "      <th></th>\n",
       "      <th></th>\n",
       "      <th></th>\n",
       "      <th></th>\n",
       "      <th></th>\n",
       "    </tr>\n",
       "  </thead>\n",
       "  <tbody>\n",
       "    <tr>\n",
       "      <th>00009a0f9bda43eba47104e9ac62aff5</th>\n",
       "      <td>5.3</td>\n",
       "      <td>14268.4</td>\n",
       "      <td>0.0</td>\n",
       "      <td>1.0</td>\n",
       "      <td>1.0</td>\n",
       "      <td>0.3</td>\n",
       "      <td>1.0</td>\n",
       "    </tr>\n",
       "    <tr>\n",
       "      <th>000d4635e5da41e3bfd83677ee11dda4</th>\n",
       "      <td>4.2</td>\n",
       "      <td>16175.8</td>\n",
       "      <td>0.0</td>\n",
       "      <td>1.0</td>\n",
       "      <td>1.0</td>\n",
       "      <td>0.5</td>\n",
       "      <td>0.9</td>\n",
       "    </tr>\n",
       "    <tr>\n",
       "      <th>00271cc10e0245fba4a35e76e669c281</th>\n",
       "      <td>3.0</td>\n",
       "      <td>18818.7</td>\n",
       "      <td>0.0</td>\n",
       "      <td>1.0</td>\n",
       "      <td>1.0</td>\n",
       "      <td>0.4</td>\n",
       "      <td>0.9</td>\n",
       "    </tr>\n",
       "    <tr>\n",
       "      <th>003cc21be89d4e42bc4424131a378e86</th>\n",
       "      <td>3.2</td>\n",
       "      <td>16936.2</td>\n",
       "      <td>0.0</td>\n",
       "      <td>1.0</td>\n",
       "      <td>1.0</td>\n",
       "      <td>0.3</td>\n",
       "      <td>0.6</td>\n",
       "    </tr>\n",
       "    <tr>\n",
       "      <th>0046ab8089c04b3a8df3f8c28621a818</th>\n",
       "      <td>8.0</td>\n",
       "      <td>18432.1</td>\n",
       "      <td>0.3</td>\n",
       "      <td>1.0</td>\n",
       "      <td>0.9</td>\n",
       "      <td>-0.0</td>\n",
       "      <td>0.9</td>\n",
       "    </tr>\n",
       "    <tr>\n",
       "      <th>...</th>\n",
       "      <td>...</td>\n",
       "      <td>...</td>\n",
       "      <td>...</td>\n",
       "      <td>...</td>\n",
       "      <td>...</td>\n",
       "      <td>...</td>\n",
       "      <td>...</td>\n",
       "    </tr>\n",
       "    <tr>\n",
       "      <th>ffe2f26d5c174e13b565d026e1d8c503</th>\n",
       "      <td>2.9</td>\n",
       "      <td>14853.4</td>\n",
       "      <td>0.3</td>\n",
       "      <td>1.0</td>\n",
       "      <td>1.0</td>\n",
       "      <td>0.1</td>\n",
       "      <td>0.6</td>\n",
       "    </tr>\n",
       "    <tr>\n",
       "      <th>ffeaf7114b59443581b8acb5a9bfb38a</th>\n",
       "      <td>1.0</td>\n",
       "      <td>13738.0</td>\n",
       "      <td>0.0</td>\n",
       "      <td>1.0</td>\n",
       "      <td>1.0</td>\n",
       "      <td>0.9</td>\n",
       "      <td>1.0</td>\n",
       "    </tr>\n",
       "    <tr>\n",
       "      <th>fffa0ff907ff4a9a84cb1b142911eee1</th>\n",
       "      <td>1.0</td>\n",
       "      <td>15205.3</td>\n",
       "      <td>1.0</td>\n",
       "      <td>1.0</td>\n",
       "      <td>1.0</td>\n",
       "      <td>0.0</td>\n",
       "      <td>1.0</td>\n",
       "    </tr>\n",
       "    <tr>\n",
       "      <th>ffffbe8d854a4a5a8ab1a381224f5b80</th>\n",
       "      <td>2.6</td>\n",
       "      <td>20049.2</td>\n",
       "      <td>0.0</td>\n",
       "      <td>1.0</td>\n",
       "      <td>1.0</td>\n",
       "      <td>0.6</td>\n",
       "      <td>0.9</td>\n",
       "    </tr>\n",
       "    <tr>\n",
       "      <th>none</th>\n",
       "      <td>0.8</td>\n",
       "      <td>19804.3</td>\n",
       "      <td>0.0</td>\n",
       "      <td>0.0</td>\n",
       "      <td>1.0</td>\n",
       "      <td>0.3</td>\n",
       "      <td>0.0</td>\n",
       "    </tr>\n",
       "  </tbody>\n",
       "</table>\n",
       "<p>10170 rows × 7 columns</p>\n",
       "</div>"
      ],
      "text/plain": [
       "                                  questions_score   tag_id  answers_score  \\\n",
       "answers_author_id                                                           \n",
       "00009a0f9bda43eba47104e9ac62aff5              5.3  14268.4            0.0   \n",
       "000d4635e5da41e3bfd83677ee11dda4              4.2  16175.8            0.0   \n",
       "00271cc10e0245fba4a35e76e669c281              3.0  18818.7            0.0   \n",
       "003cc21be89d4e42bc4424131a378e86              3.2  16936.2            0.0   \n",
       "0046ab8089c04b3a8df3f8c28621a818              8.0  18432.1            0.3   \n",
       "...                                           ...      ...            ...   \n",
       "ffe2f26d5c174e13b565d026e1d8c503              2.9  14853.4            0.3   \n",
       "ffeaf7114b59443581b8acb5a9bfb38a              1.0  13738.0            0.0   \n",
       "fffa0ff907ff4a9a84cb1b142911eee1              1.0  15205.3            1.0   \n",
       "ffffbe8d854a4a5a8ab1a381224f5b80              2.6  20049.2            0.0   \n",
       "none                                          0.8  19804.3            0.0   \n",
       "\n",
       "                                  was_answered  has_tag  questions_sentiment  \\\n",
       "answers_author_id                                                              \n",
       "00009a0f9bda43eba47104e9ac62aff5           1.0      1.0                  0.3   \n",
       "000d4635e5da41e3bfd83677ee11dda4           1.0      1.0                  0.5   \n",
       "00271cc10e0245fba4a35e76e669c281           1.0      1.0                  0.4   \n",
       "003cc21be89d4e42bc4424131a378e86           1.0      1.0                  0.3   \n",
       "0046ab8089c04b3a8df3f8c28621a818           1.0      0.9                 -0.0   \n",
       "...                                        ...      ...                  ...   \n",
       "ffe2f26d5c174e13b565d026e1d8c503           1.0      1.0                  0.1   \n",
       "ffeaf7114b59443581b8acb5a9bfb38a           1.0      1.0                  0.9   \n",
       "fffa0ff907ff4a9a84cb1b142911eee1           1.0      1.0                  0.0   \n",
       "ffffbe8d854a4a5a8ab1a381224f5b80           1.0      1.0                  0.6   \n",
       "none                                       0.0      1.0                  0.3   \n",
       "\n",
       "                                  answers_sentiment  \n",
       "answers_author_id                                    \n",
       "00009a0f9bda43eba47104e9ac62aff5                1.0  \n",
       "000d4635e5da41e3bfd83677ee11dda4                0.9  \n",
       "00271cc10e0245fba4a35e76e669c281                0.9  \n",
       "003cc21be89d4e42bc4424131a378e86                0.6  \n",
       "0046ab8089c04b3a8df3f8c28621a818                0.9  \n",
       "...                                             ...  \n",
       "ffe2f26d5c174e13b565d026e1d8c503                0.6  \n",
       "ffeaf7114b59443581b8acb5a9bfb38a                1.0  \n",
       "fffa0ff907ff4a9a84cb1b142911eee1                1.0  \n",
       "ffffbe8d854a4a5a8ab1a381224f5b80                0.9  \n",
       "none                                            0.0  \n",
       "\n",
       "[10170 rows x 7 columns]"
      ]
     },
     "execution_count": 25,
     "metadata": {},
     "output_type": "execute_result"
    }
   ],
   "source": [
    "data.groupby('answers_author_id').mean().round(1)"
   ]
  },
  {
   "cell_type": "markdown",
   "metadata": {},
   "source": [
    "Box plot with data means rounded to 2 decimals:"
   ]
  },
  {
   "cell_type": "code",
   "execution_count": 28,
   "metadata": {
    "scrolled": false
   },
   "outputs": [
    {
     "data": {
      "image/png": "[encoded data removed]",
      "text/plain": [
       "<Figure size 640x480 with 1 Axes>"
      ]
     },
     "metadata": {
      "image/png": {
       "height": 413,
       "width": 543
      }
     },
     "output_type": "display_data"
    }
   ],
   "source": [
    "sns.boxplot(data.groupby('answers_author_id').mean().round(2)['answers_score']);"
   ]
  },
  {
   "cell_type": "markdown",
   "metadata": {},
   "source": [
    "Box plot with data means rounded to 0 decimal places:"
   ]
  },
  {
   "cell_type": "code",
   "execution_count": 29,
   "metadata": {},
   "outputs": [
    {
     "data": {
      "image/png": "[encoded data removed]",
      "text/plain": [
       "<Figure size 640x480 with 1 Axes>"
      ]
     },
     "metadata": {
      "image/png": {
       "height": 413,
       "width": 543
      }
     },
     "output_type": "display_data"
    }
   ],
   "source": [
    "sns.boxplot(data.groupby('answers_author_id').mean().round(0)['answers_score']);"
   ]
  },
  {
   "cell_type": "markdown",
   "metadata": {},
   "source": [
    "In looking at the intital stats above, I wanted understand how many professionals had a high average answer score. Below are a few graphs outputs that look at the top average `answers_score`."
   ]
  },
  {
   "cell_type": "markdown",
   "metadata": {},
   "source": [
    "Authors with top 50 average `answers_score`:"
   ]
  },
  {
   "cell_type": "code",
   "execution_count": 32,
   "metadata": {},
   "outputs": [
    {
     "data": {
      "text/html": [
       "<div>\n",
       "<style scoped>\n",
       "    .dataframe tbody tr th:only-of-type {\n",
       "        vertical-align: middle;\n",
       "    }\n",
       "\n",
       "    .dataframe tbody tr th {\n",
       "        vertical-align: top;\n",
       "    }\n",
       "\n",
       "    .dataframe thead th {\n",
       "        text-align: right;\n",
       "    }\n",
       "</style>\n",
       "<table border=\"1\" class=\"dataframe\">\n",
       "  <thead>\n",
       "    <tr style=\"text-align: right;\">\n",
       "      <th></th>\n",
       "      <th>answers_score</th>\n",
       "      <th>questions_score</th>\n",
       "      <th>answers_sentiment</th>\n",
       "      <th>questions_sentiment</th>\n",
       "    </tr>\n",
       "    <tr>\n",
       "      <th>answers_author_id</th>\n",
       "      <th></th>\n",
       "      <th></th>\n",
       "      <th></th>\n",
       "      <th></th>\n",
       "    </tr>\n",
       "  </thead>\n",
       "  <tbody>\n",
       "    <tr>\n",
       "      <th>4dbdd4b99f80446798b3ab477f049285</th>\n",
       "      <td>11.000000</td>\n",
       "      <td>9.000000</td>\n",
       "      <td>0.994900</td>\n",
       "      <td>0.601900</td>\n",
       "    </tr>\n",
       "    <tr>\n",
       "      <th>c97347e2441b40a69577cf1627b81a6a</th>\n",
       "      <td>10.625000</td>\n",
       "      <td>16.875000</td>\n",
       "      <td>0.988812</td>\n",
       "      <td>0.457612</td>\n",
       "    </tr>\n",
       "    <tr>\n",
       "      <th>a61aa494aed848cc87ba745a24178922</th>\n",
       "      <td>9.714286</td>\n",
       "      <td>16.428571</td>\n",
       "      <td>0.973871</td>\n",
       "      <td>0.823743</td>\n",
       "    </tr>\n",
       "    <tr>\n",
       "      <th>1ec14aee9311480681dfa81b0f193de8</th>\n",
       "      <td>9.100000</td>\n",
       "      <td>15.200000</td>\n",
       "      <td>0.862150</td>\n",
       "      <td>0.180570</td>\n",
       "    </tr>\n",
       "    <tr>\n",
       "      <th>bdcdf938f015413fb3cb981836ca3dab</th>\n",
       "      <td>9.000000</td>\n",
       "      <td>24.000000</td>\n",
       "      <td>0.957800</td>\n",
       "      <td>0.757900</td>\n",
       "    </tr>\n",
       "    <tr>\n",
       "      <th>39a60344b603488ba9bb62c5c8b3be97</th>\n",
       "      <td>8.000000</td>\n",
       "      <td>14.000000</td>\n",
       "      <td>0.993800</td>\n",
       "      <td>0.924800</td>\n",
       "    </tr>\n",
       "    <tr>\n",
       "      <th>9ce1a6a0bb3c4cc49bc6414788b80c49</th>\n",
       "      <td>8.000000</td>\n",
       "      <td>6.000000</td>\n",
       "      <td>0.956400</td>\n",
       "      <td>0.951700</td>\n",
       "    </tr>\n",
       "    <tr>\n",
       "      <th>664a948f3d014b0d9251af1f0469c43e</th>\n",
       "      <td>8.000000</td>\n",
       "      <td>43.000000</td>\n",
       "      <td>0.991600</td>\n",
       "      <td>0.596600</td>\n",
       "    </tr>\n",
       "    <tr>\n",
       "      <th>d2c9d0b9fff54e5f932144d5eb5015f0</th>\n",
       "      <td>7.125000</td>\n",
       "      <td>11.750000</td>\n",
       "      <td>0.981862</td>\n",
       "      <td>0.530875</td>\n",
       "    </tr>\n",
       "    <tr>\n",
       "      <th>e68c903a318244d8988b978879f94e8d</th>\n",
       "      <td>7.000000</td>\n",
       "      <td>17.000000</td>\n",
       "      <td>0.983100</td>\n",
       "      <td>0.635200</td>\n",
       "    </tr>\n",
       "    <tr>\n",
       "      <th>64acecc36386468eae3bbb6f22c2aef9</th>\n",
       "      <td>7.000000</td>\n",
       "      <td>8.000000</td>\n",
       "      <td>0.990300</td>\n",
       "      <td>0.128000</td>\n",
       "    </tr>\n",
       "    <tr>\n",
       "      <th>716d3d3bd66a45dd9c6ff3e4d627bb14</th>\n",
       "      <td>7.000000</td>\n",
       "      <td>13.000000</td>\n",
       "      <td>0.988600</td>\n",
       "      <td>0.421500</td>\n",
       "    </tr>\n",
       "    <tr>\n",
       "      <th>f96c2cdbeb314deb911adcead45b4280</th>\n",
       "      <td>7.000000</td>\n",
       "      <td>5.000000</td>\n",
       "      <td>0.988100</td>\n",
       "      <td>0.534100</td>\n",
       "    </tr>\n",
       "    <tr>\n",
       "      <th>5cbd4a64a328414781df8b75e47ffad3</th>\n",
       "      <td>7.000000</td>\n",
       "      <td>60.000000</td>\n",
       "      <td>0.865800</td>\n",
       "      <td>0.690800</td>\n",
       "    </tr>\n",
       "    <tr>\n",
       "      <th>f567405e9b6d4b58978ff2074c1fe1a6</th>\n",
       "      <td>7.000000</td>\n",
       "      <td>5.000000</td>\n",
       "      <td>0.986200</td>\n",
       "      <td>0.000000</td>\n",
       "    </tr>\n",
       "    <tr>\n",
       "      <th>a96726e8c1e14e099965898bf2c4d2d5</th>\n",
       "      <td>7.000000</td>\n",
       "      <td>3.000000</td>\n",
       "      <td>0.989600</td>\n",
       "      <td>0.896900</td>\n",
       "    </tr>\n",
       "    <tr>\n",
       "      <th>25947a0c475f44139a75e2d3ccd00824</th>\n",
       "      <td>7.000000</td>\n",
       "      <td>5.000000</td>\n",
       "      <td>0.997700</td>\n",
       "      <td>0.661800</td>\n",
       "    </tr>\n",
       "    <tr>\n",
       "      <th>34df5c19a4044e9791978f8ed867a350</th>\n",
       "      <td>6.750000</td>\n",
       "      <td>19.875000</td>\n",
       "      <td>0.974513</td>\n",
       "      <td>0.748463</td>\n",
       "    </tr>\n",
       "    <tr>\n",
       "      <th>c1014a1846bd46e0ac35716dc20c58f2</th>\n",
       "      <td>6.600000</td>\n",
       "      <td>20.000000</td>\n",
       "      <td>0.837340</td>\n",
       "      <td>0.678560</td>\n",
       "    </tr>\n",
       "    <tr>\n",
       "      <th>5f77e0a2c3a144dda336df2294a64530</th>\n",
       "      <td>6.500000</td>\n",
       "      <td>7.000000</td>\n",
       "      <td>0.997517</td>\n",
       "      <td>0.557483</td>\n",
       "    </tr>\n",
       "    <tr>\n",
       "      <th>ff347be2a46543598867792e3e6a54b9</th>\n",
       "      <td>6.000000</td>\n",
       "      <td>17.476190</td>\n",
       "      <td>0.338276</td>\n",
       "      <td>0.304786</td>\n",
       "    </tr>\n",
       "    <tr>\n",
       "      <th>0380464990eb44668ad558d5624aa895</th>\n",
       "      <td>6.000000</td>\n",
       "      <td>3.000000</td>\n",
       "      <td>0.990700</td>\n",
       "      <td>0.381800</td>\n",
       "    </tr>\n",
       "    <tr>\n",
       "      <th>ce77b73a684a45088a3736eda7a57c41</th>\n",
       "      <td>6.000000</td>\n",
       "      <td>5.666667</td>\n",
       "      <td>0.962900</td>\n",
       "      <td>0.586367</td>\n",
       "    </tr>\n",
       "    <tr>\n",
       "      <th>fc993910544c483bb1d8cea5e7120377</th>\n",
       "      <td>6.000000</td>\n",
       "      <td>13.000000</td>\n",
       "      <td>0.983600</td>\n",
       "      <td>0.835400</td>\n",
       "    </tr>\n",
       "    <tr>\n",
       "      <th>f29723e24646426e935274a15e0f13bb</th>\n",
       "      <td>6.000000</td>\n",
       "      <td>3.000000</td>\n",
       "      <td>0.714000</td>\n",
       "      <td>0.916200</td>\n",
       "    </tr>\n",
       "    <tr>\n",
       "      <th>eb571112e2974ecf942da89a7ece3a02</th>\n",
       "      <td>6.000000</td>\n",
       "      <td>6.000000</td>\n",
       "      <td>-0.910000</td>\n",
       "      <td>-0.912600</td>\n",
       "    </tr>\n",
       "    <tr>\n",
       "      <th>2e77a7e4d0d34385bc175a9efb61408c</th>\n",
       "      <td>6.000000</td>\n",
       "      <td>10.000000</td>\n",
       "      <td>0.993400</td>\n",
       "      <td>0.953500</td>\n",
       "    </tr>\n",
       "    <tr>\n",
       "      <th>7cf19084fb1740dba5aa35797c046dee</th>\n",
       "      <td>6.000000</td>\n",
       "      <td>4.000000</td>\n",
       "      <td>0.996400</td>\n",
       "      <td>-0.884800</td>\n",
       "    </tr>\n",
       "    <tr>\n",
       "      <th>7aa36954229345f28bf2434f90c3f282</th>\n",
       "      <td>6.000000</td>\n",
       "      <td>15.000000</td>\n",
       "      <td>0.958300</td>\n",
       "      <td>0.000000</td>\n",
       "    </tr>\n",
       "    <tr>\n",
       "      <th>52e237099b0c471aae4b84c597372145</th>\n",
       "      <td>6.000000</td>\n",
       "      <td>5.000000</td>\n",
       "      <td>0.996700</td>\n",
       "      <td>0.895700</td>\n",
       "    </tr>\n",
       "    <tr>\n",
       "      <th>43da54406c50437890635d06acfba548</th>\n",
       "      <td>5.666667</td>\n",
       "      <td>10.916667</td>\n",
       "      <td>0.969400</td>\n",
       "      <td>0.662408</td>\n",
       "    </tr>\n",
       "    <tr>\n",
       "      <th>591938d455ae4a428589ba3f1c5cf0fb</th>\n",
       "      <td>5.571429</td>\n",
       "      <td>8.428571</td>\n",
       "      <td>0.974614</td>\n",
       "      <td>0.588700</td>\n",
       "    </tr>\n",
       "    <tr>\n",
       "      <th>9c790846805047818338a69efbe7be0b</th>\n",
       "      <td>5.444444</td>\n",
       "      <td>9.500000</td>\n",
       "      <td>0.805078</td>\n",
       "      <td>0.424700</td>\n",
       "    </tr>\n",
       "    <tr>\n",
       "      <th>9d487728738c4ad59b3520fae53cdeaa</th>\n",
       "      <td>5.444444</td>\n",
       "      <td>24.333333</td>\n",
       "      <td>0.911800</td>\n",
       "      <td>0.550689</td>\n",
       "    </tr>\n",
       "    <tr>\n",
       "      <th>861a5e2a40bd4d8cb7322ee9bc9b2f81</th>\n",
       "      <td>5.428571</td>\n",
       "      <td>3.571429</td>\n",
       "      <td>0.950486</td>\n",
       "      <td>0.119786</td>\n",
       "    </tr>\n",
       "    <tr>\n",
       "      <th>a7add7c8b1a145bcb15361436b835a7d</th>\n",
       "      <td>5.296875</td>\n",
       "      <td>66.437500</td>\n",
       "      <td>0.994256</td>\n",
       "      <td>0.063173</td>\n",
       "    </tr>\n",
       "    <tr>\n",
       "      <th>0826bc169092451d850bcbe9759b93a3</th>\n",
       "      <td>5.142857</td>\n",
       "      <td>6.714286</td>\n",
       "      <td>0.971057</td>\n",
       "      <td>0.730343</td>\n",
       "    </tr>\n",
       "    <tr>\n",
       "      <th>d7a053e2ffe844689bc22ed963f6a7e4</th>\n",
       "      <td>5.000000</td>\n",
       "      <td>4.000000</td>\n",
       "      <td>0.931100</td>\n",
       "      <td>0.848400</td>\n",
       "    </tr>\n",
       "    <tr>\n",
       "      <th>60bfb575b826434b84eeaf578854696c</th>\n",
       "      <td>5.000000</td>\n",
       "      <td>4.000000</td>\n",
       "      <td>0.974300</td>\n",
       "      <td>0.077200</td>\n",
       "    </tr>\n",
       "    <tr>\n",
       "      <th>ead33e7a093544028d75155f698a4de9</th>\n",
       "      <td>5.000000</td>\n",
       "      <td>22.000000</td>\n",
       "      <td>0.962200</td>\n",
       "      <td>0.570200</td>\n",
       "    </tr>\n",
       "    <tr>\n",
       "      <th>94ba583b81ed4e98acd15f291172bf8b</th>\n",
       "      <td>5.000000</td>\n",
       "      <td>6.000000</td>\n",
       "      <td>0.980100</td>\n",
       "      <td>0.918400</td>\n",
       "    </tr>\n",
       "    <tr>\n",
       "      <th>615cdd5c43864c17b832ad5378ba4641</th>\n",
       "      <td>5.000000</td>\n",
       "      <td>7.000000</td>\n",
       "      <td>0.972700</td>\n",
       "      <td>0.177900</td>\n",
       "    </tr>\n",
       "    <tr>\n",
       "      <th>577476bad15d4e3885f71451fb9150c9</th>\n",
       "      <td>5.000000</td>\n",
       "      <td>3.000000</td>\n",
       "      <td>0.995600</td>\n",
       "      <td>0.932500</td>\n",
       "    </tr>\n",
       "    <tr>\n",
       "      <th>ac75fb8c9f884d0fbbce259074ded429</th>\n",
       "      <td>5.000000</td>\n",
       "      <td>6.000000</td>\n",
       "      <td>0.765000</td>\n",
       "      <td>0.802000</td>\n",
       "    </tr>\n",
       "    <tr>\n",
       "      <th>9ced4ce7519049c0944147afb75a8ce3</th>\n",
       "      <td>5.000000</td>\n",
       "      <td>6.000000</td>\n",
       "      <td>0.997900</td>\n",
       "      <td>0.318200</td>\n",
       "    </tr>\n",
       "    <tr>\n",
       "      <th>9c6312f59b624c309242ed7b87988e0b</th>\n",
       "      <td>5.000000</td>\n",
       "      <td>15.000000</td>\n",
       "      <td>0.990200</td>\n",
       "      <td>0.444000</td>\n",
       "    </tr>\n",
       "    <tr>\n",
       "      <th>a988338992704827839b76fd8421728d</th>\n",
       "      <td>5.000000</td>\n",
       "      <td>4.000000</td>\n",
       "      <td>0.999500</td>\n",
       "      <td>0.000000</td>\n",
       "    </tr>\n",
       "    <tr>\n",
       "      <th>0a709e8b011c4ae5a30373643cae34cb</th>\n",
       "      <td>5.000000</td>\n",
       "      <td>4.000000</td>\n",
       "      <td>0.978700</td>\n",
       "      <td>0.827100</td>\n",
       "    </tr>\n",
       "    <tr>\n",
       "      <th>9a80df78bb644ec5876c8206ca5cc3c7</th>\n",
       "      <td>4.875000</td>\n",
       "      <td>6.375000</td>\n",
       "      <td>0.845025</td>\n",
       "      <td>-0.043025</td>\n",
       "    </tr>\n",
       "    <tr>\n",
       "      <th>01b3e033848b41f6b7a55cefc59ba61a</th>\n",
       "      <td>4.818182</td>\n",
       "      <td>3.545455</td>\n",
       "      <td>0.893900</td>\n",
       "      <td>0.625355</td>\n",
       "    </tr>\n",
       "  </tbody>\n",
       "</table>\n",
       "</div>"
      ],
      "text/plain": [
       "                                  answers_score  questions_score  \\\n",
       "answers_author_id                                                  \n",
       "4dbdd4b99f80446798b3ab477f049285      11.000000         9.000000   \n",
       "c97347e2441b40a69577cf1627b81a6a      10.625000        16.875000   \n",
       "a61aa494aed848cc87ba745a24178922       9.714286        16.428571   \n",
       "1ec14aee9311480681dfa81b0f193de8       9.100000        15.200000   \n",
       "bdcdf938f015413fb3cb981836ca3dab       9.000000        24.000000   \n",
       "39a60344b603488ba9bb62c5c8b3be97       8.000000        14.000000   \n",
       "9ce1a6a0bb3c4cc49bc6414788b80c49       8.000000         6.000000   \n",
       "664a948f3d014b0d9251af1f0469c43e       8.000000        43.000000   \n",
       "d2c9d0b9fff54e5f932144d5eb5015f0       7.125000        11.750000   \n",
       "e68c903a318244d8988b978879f94e8d       7.000000        17.000000   \n",
       "64acecc36386468eae3bbb6f22c2aef9       7.000000         8.000000   \n",
       "716d3d3bd66a45dd9c6ff3e4d627bb14       7.000000        13.000000   \n",
       "f96c2cdbeb314deb911adcead45b4280       7.000000         5.000000   \n",
       "5cbd4a64a328414781df8b75e47ffad3       7.000000        60.000000   \n",
       "f567405e9b6d4b58978ff2074c1fe1a6       7.000000         5.000000   \n",
       "a96726e8c1e14e099965898bf2c4d2d5       7.000000         3.000000   \n",
       "25947a0c475f44139a75e2d3ccd00824       7.000000         5.000000   \n",
       "34df5c19a4044e9791978f8ed867a350       6.750000        19.875000   \n",
       "c1014a1846bd46e0ac35716dc20c58f2       6.600000        20.000000   \n",
       "5f77e0a2c3a144dda336df2294a64530       6.500000         7.000000   \n",
       "ff347be2a46543598867792e3e6a54b9       6.000000        17.476190   \n",
       "0380464990eb44668ad558d5624aa895       6.000000         3.000000   \n",
       "ce77b73a684a45088a3736eda7a57c41       6.000000         5.666667   \n",
       "fc993910544c483bb1d8cea5e7120377       6.000000        13.000000   \n",
       "f29723e24646426e935274a15e0f13bb       6.000000         3.000000   \n",
       "eb571112e2974ecf942da89a7ece3a02       6.000000         6.000000   \n",
       "2e77a7e4d0d34385bc175a9efb61408c       6.000000        10.000000   \n",
       "7cf19084fb1740dba5aa35797c046dee       6.000000         4.000000   \n",
       "7aa36954229345f28bf2434f90c3f282       6.000000        15.000000   \n",
       "52e237099b0c471aae4b84c597372145       6.000000         5.000000   \n",
       "43da54406c50437890635d06acfba548       5.666667        10.916667   \n",
       "591938d455ae4a428589ba3f1c5cf0fb       5.571429         8.428571   \n",
       "9c790846805047818338a69efbe7be0b       5.444444         9.500000   \n",
       "9d487728738c4ad59b3520fae53cdeaa       5.444444        24.333333   \n",
       "861a5e2a40bd4d8cb7322ee9bc9b2f81       5.428571         3.571429   \n",
       "a7add7c8b1a145bcb15361436b835a7d       5.296875        66.437500   \n",
       "0826bc169092451d850bcbe9759b93a3       5.142857         6.714286   \n",
       "d7a053e2ffe844689bc22ed963f6a7e4       5.000000         4.000000   \n",
       "60bfb575b826434b84eeaf578854696c       5.000000         4.000000   \n",
       "ead33e7a093544028d75155f698a4de9       5.000000        22.000000   \n",
       "94ba583b81ed4e98acd15f291172bf8b       5.000000         6.000000   \n",
       "615cdd5c43864c17b832ad5378ba4641       5.000000         7.000000   \n",
       "577476bad15d4e3885f71451fb9150c9       5.000000         3.000000   \n",
       "ac75fb8c9f884d0fbbce259074ded429       5.000000         6.000000   \n",
       "9ced4ce7519049c0944147afb75a8ce3       5.000000         6.000000   \n",
       "9c6312f59b624c309242ed7b87988e0b       5.000000        15.000000   \n",
       "a988338992704827839b76fd8421728d       5.000000         4.000000   \n",
       "0a709e8b011c4ae5a30373643cae34cb       5.000000         4.000000   \n",
       "9a80df78bb644ec5876c8206ca5cc3c7       4.875000         6.375000   \n",
       "01b3e033848b41f6b7a55cefc59ba61a       4.818182         3.545455   \n",
       "\n",
       "                                  answers_sentiment  questions_sentiment  \n",
       "answers_author_id                                                         \n",
       "4dbdd4b99f80446798b3ab477f049285           0.994900             0.601900  \n",
       "c97347e2441b40a69577cf1627b81a6a           0.988812             0.457612  \n",
       "a61aa494aed848cc87ba745a24178922           0.973871             0.823743  \n",
       "1ec14aee9311480681dfa81b0f193de8           0.862150             0.180570  \n",
       "bdcdf938f015413fb3cb981836ca3dab           0.957800             0.757900  \n",
       "39a60344b603488ba9bb62c5c8b3be97           0.993800             0.924800  \n",
       "9ce1a6a0bb3c4cc49bc6414788b80c49           0.956400             0.951700  \n",
       "664a948f3d014b0d9251af1f0469c43e           0.991600             0.596600  \n",
       "d2c9d0b9fff54e5f932144d5eb5015f0           0.981862             0.530875  \n",
       "e68c903a318244d8988b978879f94e8d           0.983100             0.635200  \n",
       "64acecc36386468eae3bbb6f22c2aef9           0.990300             0.128000  \n",
       "716d3d3bd66a45dd9c6ff3e4d627bb14           0.988600             0.421500  \n",
       "f96c2cdbeb314deb911adcead45b4280           0.988100             0.534100  \n",
       "5cbd4a64a328414781df8b75e47ffad3           0.865800             0.690800  \n",
       "f567405e9b6d4b58978ff2074c1fe1a6           0.986200             0.000000  \n",
       "a96726e8c1e14e099965898bf2c4d2d5           0.989600             0.896900  \n",
       "25947a0c475f44139a75e2d3ccd00824           0.997700             0.661800  \n",
       "34df5c19a4044e9791978f8ed867a350           0.974513             0.748463  \n",
       "c1014a1846bd46e0ac35716dc20c58f2           0.837340             0.678560  \n",
       "5f77e0a2c3a144dda336df2294a64530           0.997517             0.557483  \n",
       "ff347be2a46543598867792e3e6a54b9           0.338276             0.304786  \n",
       "0380464990eb44668ad558d5624aa895           0.990700             0.381800  \n",
       "ce77b73a684a45088a3736eda7a57c41           0.962900             0.586367  \n",
       "fc993910544c483bb1d8cea5e7120377           0.983600             0.835400  \n",
       "f29723e24646426e935274a15e0f13bb           0.714000             0.916200  \n",
       "eb571112e2974ecf942da89a7ece3a02          -0.910000            -0.912600  \n",
       "2e77a7e4d0d34385bc175a9efb61408c           0.993400             0.953500  \n",
       "7cf19084fb1740dba5aa35797c046dee           0.996400            -0.884800  \n",
       "7aa36954229345f28bf2434f90c3f282           0.958300             0.000000  \n",
       "52e237099b0c471aae4b84c597372145           0.996700             0.895700  \n",
       "43da54406c50437890635d06acfba548           0.969400             0.662408  \n",
       "591938d455ae4a428589ba3f1c5cf0fb           0.974614             0.588700  \n",
       "9c790846805047818338a69efbe7be0b           0.805078             0.424700  \n",
       "9d487728738c4ad59b3520fae53cdeaa           0.911800             0.550689  \n",
       "861a5e2a40bd4d8cb7322ee9bc9b2f81           0.950486             0.119786  \n",
       "a7add7c8b1a145bcb15361436b835a7d           0.994256             0.063173  \n",
       "0826bc169092451d850bcbe9759b93a3           0.971057             0.730343  \n",
       "d7a053e2ffe844689bc22ed963f6a7e4           0.931100             0.848400  \n",
       "60bfb575b826434b84eeaf578854696c           0.974300             0.077200  \n",
       "ead33e7a093544028d75155f698a4de9           0.962200             0.570200  \n",
       "94ba583b81ed4e98acd15f291172bf8b           0.980100             0.918400  \n",
       "615cdd5c43864c17b832ad5378ba4641           0.972700             0.177900  \n",
       "577476bad15d4e3885f71451fb9150c9           0.995600             0.932500  \n",
       "ac75fb8c9f884d0fbbce259074ded429           0.765000             0.802000  \n",
       "9ced4ce7519049c0944147afb75a8ce3           0.997900             0.318200  \n",
       "9c6312f59b624c309242ed7b87988e0b           0.990200             0.444000  \n",
       "a988338992704827839b76fd8421728d           0.999500             0.000000  \n",
       "0a709e8b011c4ae5a30373643cae34cb           0.978700             0.827100  \n",
       "9a80df78bb644ec5876c8206ca5cc3c7           0.845025            -0.043025  \n",
       "01b3e033848b41f6b7a55cefc59ba61a           0.893900             0.625355  "
      ]
     },
     "execution_count": 32,
     "metadata": {},
     "output_type": "execute_result"
    }
   ],
   "source": [
    "data.groupby('answers_author_id').mean().sort_values('answers_score', ascending=False).head(50)[['answers_score', 'questions_score','answers_sentiment','questions_sentiment']]"
   ]
  },
  {
   "cell_type": "markdown",
   "metadata": {},
   "source": [
    "How many professionals had an average `answers_score` above 2.0? After some trial and error we can see that 319 out of 10170 professionals have an `answers_score` above 2.0"
   ]
  },
  {
   "cell_type": "code",
   "execution_count": 33,
   "metadata": {},
   "outputs": [
    {
     "data": {
      "text/html": [
       "<div>\n",
       "<style scoped>\n",
       "    .dataframe tbody tr th:only-of-type {\n",
       "        vertical-align: middle;\n",
       "    }\n",
       "\n",
       "    .dataframe tbody tr th {\n",
       "        vertical-align: top;\n",
       "    }\n",
       "\n",
       "    .dataframe thead th {\n",
       "        text-align: right;\n",
       "    }\n",
       "</style>\n",
       "<table border=\"1\" class=\"dataframe\">\n",
       "  <thead>\n",
       "    <tr style=\"text-align: right;\">\n",
       "      <th></th>\n",
       "      <th>answers_score</th>\n",
       "    </tr>\n",
       "    <tr>\n",
       "      <th>answers_author_id</th>\n",
       "      <th></th>\n",
       "    </tr>\n",
       "  </thead>\n",
       "  <tbody>\n",
       "    <tr>\n",
       "      <th>4dbdd4b99f80446798b3ab477f049285</th>\n",
       "      <td>True</td>\n",
       "    </tr>\n",
       "    <tr>\n",
       "      <th>c97347e2441b40a69577cf1627b81a6a</th>\n",
       "      <td>True</td>\n",
       "    </tr>\n",
       "    <tr>\n",
       "      <th>a61aa494aed848cc87ba745a24178922</th>\n",
       "      <td>True</td>\n",
       "    </tr>\n",
       "    <tr>\n",
       "      <th>1ec14aee9311480681dfa81b0f193de8</th>\n",
       "      <td>True</td>\n",
       "    </tr>\n",
       "    <tr>\n",
       "      <th>bdcdf938f015413fb3cb981836ca3dab</th>\n",
       "      <td>True</td>\n",
       "    </tr>\n",
       "    <tr>\n",
       "      <th>...</th>\n",
       "      <td>...</td>\n",
       "    </tr>\n",
       "    <tr>\n",
       "      <th>6f03318a272f460d8df27914cd6de1f1</th>\n",
       "      <td>False</td>\n",
       "    </tr>\n",
       "    <tr>\n",
       "      <th>6f02a3e55abe417a8cde5f803a224381</th>\n",
       "      <td>False</td>\n",
       "    </tr>\n",
       "    <tr>\n",
       "      <th>6efbe6486ab546649f427401b17a8f32</th>\n",
       "      <td>False</td>\n",
       "    </tr>\n",
       "    <tr>\n",
       "      <th>6eec6b36b98b4eb5b4d9c006fc152146</th>\n",
       "      <td>False</td>\n",
       "    </tr>\n",
       "    <tr>\n",
       "      <th>none</th>\n",
       "      <td>False</td>\n",
       "    </tr>\n",
       "  </tbody>\n",
       "</table>\n",
       "<p>10170 rows × 1 columns</p>\n",
       "</div>"
      ],
      "text/plain": [
       "                                  answers_score\n",
       "answers_author_id                              \n",
       "4dbdd4b99f80446798b3ab477f049285           True\n",
       "c97347e2441b40a69577cf1627b81a6a           True\n",
       "a61aa494aed848cc87ba745a24178922           True\n",
       "1ec14aee9311480681dfa81b0f193de8           True\n",
       "bdcdf938f015413fb3cb981836ca3dab           True\n",
       "...                                         ...\n",
       "6f03318a272f460d8df27914cd6de1f1          False\n",
       "6f02a3e55abe417a8cde5f803a224381          False\n",
       "6efbe6486ab546649f427401b17a8f32          False\n",
       "6eec6b36b98b4eb5b4d9c006fc152146          False\n",
       "none                                      False\n",
       "\n",
       "[10170 rows x 1 columns]"
      ]
     },
     "execution_count": 33,
     "metadata": {},
     "output_type": "execute_result"
    }
   ],
   "source": [
    "data.groupby('answers_author_id').mean().sort_values('answers_score', ascending=False)[['answers_score']] > 2"
   ]
  },
  {
   "cell_type": "code",
   "execution_count": 37,
   "metadata": {},
   "outputs": [
    {
     "data": {
      "text/html": [
       "<div>\n",
       "<style scoped>\n",
       "    .dataframe tbody tr th:only-of-type {\n",
       "        vertical-align: middle;\n",
       "    }\n",
       "\n",
       "    .dataframe tbody tr th {\n",
       "        vertical-align: top;\n",
       "    }\n",
       "\n",
       "    .dataframe thead th {\n",
       "        text-align: right;\n",
       "    }\n",
       "</style>\n",
       "<table border=\"1\" class=\"dataframe\">\n",
       "  <thead>\n",
       "    <tr style=\"text-align: right;\">\n",
       "      <th></th>\n",
       "      <th>questions_score</th>\n",
       "      <th>tag_id</th>\n",
       "      <th>answers_score</th>\n",
       "      <th>was_answered</th>\n",
       "      <th>has_tag</th>\n",
       "      <th>questions_sentiment</th>\n",
       "      <th>answers_sentiment</th>\n",
       "    </tr>\n",
       "    <tr>\n",
       "      <th>answers_author_id</th>\n",
       "      <th></th>\n",
       "      <th></th>\n",
       "      <th></th>\n",
       "      <th></th>\n",
       "      <th></th>\n",
       "      <th></th>\n",
       "      <th></th>\n",
       "    </tr>\n",
       "  </thead>\n",
       "  <tbody>\n",
       "    <tr>\n",
       "      <th>4dbdd4b99f80446798b3ab477f049285</th>\n",
       "      <td>9.000000</td>\n",
       "      <td>9181.000000</td>\n",
       "      <td>11.000000</td>\n",
       "      <td>1.0</td>\n",
       "      <td>1.000000</td>\n",
       "      <td>0.601900</td>\n",
       "      <td>0.994900</td>\n",
       "    </tr>\n",
       "    <tr>\n",
       "      <th>c97347e2441b40a69577cf1627b81a6a</th>\n",
       "      <td>16.875000</td>\n",
       "      <td>10614.125000</td>\n",
       "      <td>10.625000</td>\n",
       "      <td>1.0</td>\n",
       "      <td>1.000000</td>\n",
       "      <td>0.457612</td>\n",
       "      <td>0.988812</td>\n",
       "    </tr>\n",
       "    <tr>\n",
       "      <th>a61aa494aed848cc87ba745a24178922</th>\n",
       "      <td>16.428571</td>\n",
       "      <td>15048.000000</td>\n",
       "      <td>9.714286</td>\n",
       "      <td>1.0</td>\n",
       "      <td>1.000000</td>\n",
       "      <td>0.823743</td>\n",
       "      <td>0.973871</td>\n",
       "    </tr>\n",
       "    <tr>\n",
       "      <th>1ec14aee9311480681dfa81b0f193de8</th>\n",
       "      <td>15.200000</td>\n",
       "      <td>9751.500000</td>\n",
       "      <td>9.100000</td>\n",
       "      <td>1.0</td>\n",
       "      <td>1.000000</td>\n",
       "      <td>0.180570</td>\n",
       "      <td>0.862150</td>\n",
       "    </tr>\n",
       "    <tr>\n",
       "      <th>bdcdf938f015413fb3cb981836ca3dab</th>\n",
       "      <td>24.000000</td>\n",
       "      <td>14096.000000</td>\n",
       "      <td>9.000000</td>\n",
       "      <td>1.0</td>\n",
       "      <td>1.000000</td>\n",
       "      <td>0.757900</td>\n",
       "      <td>0.957800</td>\n",
       "    </tr>\n",
       "    <tr>\n",
       "      <th>...</th>\n",
       "      <td>...</td>\n",
       "      <td>...</td>\n",
       "      <td>...</td>\n",
       "      <td>...</td>\n",
       "      <td>...</td>\n",
       "      <td>...</td>\n",
       "      <td>...</td>\n",
       "    </tr>\n",
       "    <tr>\n",
       "      <th>94477b1600174ba8a6caf491dbe3bc5b</th>\n",
       "      <td>5.100000</td>\n",
       "      <td>12608.200000</td>\n",
       "      <td>2.100000</td>\n",
       "      <td>1.0</td>\n",
       "      <td>1.000000</td>\n",
       "      <td>0.511190</td>\n",
       "      <td>0.510350</td>\n",
       "    </tr>\n",
       "    <tr>\n",
       "      <th>fe49d48526dd4c92977224777b25aee2</th>\n",
       "      <td>4.031250</td>\n",
       "      <td>16529.187500</td>\n",
       "      <td>2.093750</td>\n",
       "      <td>1.0</td>\n",
       "      <td>1.000000</td>\n",
       "      <td>0.160106</td>\n",
       "      <td>0.903906</td>\n",
       "    </tr>\n",
       "    <tr>\n",
       "      <th>d05414b6022f4a279fc4c47be2dd8372</th>\n",
       "      <td>5.262500</td>\n",
       "      <td>13871.712500</td>\n",
       "      <td>2.087500</td>\n",
       "      <td>1.0</td>\n",
       "      <td>1.000000</td>\n",
       "      <td>0.053438</td>\n",
       "      <td>0.773060</td>\n",
       "    </tr>\n",
       "    <tr>\n",
       "      <th>2de6424897f6469b8a5598bf18124fb2</th>\n",
       "      <td>5.500000</td>\n",
       "      <td>20945.500000</td>\n",
       "      <td>2.083333</td>\n",
       "      <td>1.0</td>\n",
       "      <td>0.916667</td>\n",
       "      <td>0.693033</td>\n",
       "      <td>0.889075</td>\n",
       "    </tr>\n",
       "    <tr>\n",
       "      <th>b7d1223032c446d686cb258c654aa115</th>\n",
       "      <td>11.692308</td>\n",
       "      <td>16575.923077</td>\n",
       "      <td>2.076923</td>\n",
       "      <td>1.0</td>\n",
       "      <td>0.923077</td>\n",
       "      <td>0.783008</td>\n",
       "      <td>0.957731</td>\n",
       "    </tr>\n",
       "  </tbody>\n",
       "</table>\n",
       "<p>319 rows × 7 columns</p>\n",
       "</div>"
      ],
      "text/plain": [
       "                                  questions_score        tag_id  \\\n",
       "answers_author_id                                                 \n",
       "4dbdd4b99f80446798b3ab477f049285         9.000000   9181.000000   \n",
       "c97347e2441b40a69577cf1627b81a6a        16.875000  10614.125000   \n",
       "a61aa494aed848cc87ba745a24178922        16.428571  15048.000000   \n",
       "1ec14aee9311480681dfa81b0f193de8        15.200000   9751.500000   \n",
       "bdcdf938f015413fb3cb981836ca3dab        24.000000  14096.000000   \n",
       "...                                           ...           ...   \n",
       "94477b1600174ba8a6caf491dbe3bc5b         5.100000  12608.200000   \n",
       "fe49d48526dd4c92977224777b25aee2         4.031250  16529.187500   \n",
       "d05414b6022f4a279fc4c47be2dd8372         5.262500  13871.712500   \n",
       "2de6424897f6469b8a5598bf18124fb2         5.500000  20945.500000   \n",
       "b7d1223032c446d686cb258c654aa115        11.692308  16575.923077   \n",
       "\n",
       "                                  answers_score  was_answered   has_tag  \\\n",
       "answers_author_id                                                         \n",
       "4dbdd4b99f80446798b3ab477f049285      11.000000           1.0  1.000000   \n",
       "c97347e2441b40a69577cf1627b81a6a      10.625000           1.0  1.000000   \n",
       "a61aa494aed848cc87ba745a24178922       9.714286           1.0  1.000000   \n",
       "1ec14aee9311480681dfa81b0f193de8       9.100000           1.0  1.000000   \n",
       "bdcdf938f015413fb3cb981836ca3dab       9.000000           1.0  1.000000   \n",
       "...                                         ...           ...       ...   \n",
       "94477b1600174ba8a6caf491dbe3bc5b       2.100000           1.0  1.000000   \n",
       "fe49d48526dd4c92977224777b25aee2       2.093750           1.0  1.000000   \n",
       "d05414b6022f4a279fc4c47be2dd8372       2.087500           1.0  1.000000   \n",
       "2de6424897f6469b8a5598bf18124fb2       2.083333           1.0  0.916667   \n",
       "b7d1223032c446d686cb258c654aa115       2.076923           1.0  0.923077   \n",
       "\n",
       "                                  questions_sentiment  answers_sentiment  \n",
       "answers_author_id                                                         \n",
       "4dbdd4b99f80446798b3ab477f049285             0.601900           0.994900  \n",
       "c97347e2441b40a69577cf1627b81a6a             0.457612           0.988812  \n",
       "a61aa494aed848cc87ba745a24178922             0.823743           0.973871  \n",
       "1ec14aee9311480681dfa81b0f193de8             0.180570           0.862150  \n",
       "bdcdf938f015413fb3cb981836ca3dab             0.757900           0.957800  \n",
       "...                                               ...                ...  \n",
       "94477b1600174ba8a6caf491dbe3bc5b             0.511190           0.510350  \n",
       "fe49d48526dd4c92977224777b25aee2             0.160106           0.903906  \n",
       "d05414b6022f4a279fc4c47be2dd8372             0.053438           0.773060  \n",
       "2de6424897f6469b8a5598bf18124fb2             0.693033           0.889075  \n",
       "b7d1223032c446d686cb258c654aa115             0.783008           0.957731  \n",
       "\n",
       "[319 rows x 7 columns]"
      ]
     },
     "execution_count": 37,
     "metadata": {},
     "output_type": "execute_result"
    }
   ],
   "source": [
    "data.groupby('answers_author_id').mean().sort_values('answers_score', ascending=False).loc[\\\n",
    "    data.groupby('answers_author_id').mean().sort_values('answers_score', ascending=False)['answers_score'] > 2]"
   ]
  },
  {
   "cell_type": "code",
   "execution_count": 38,
   "metadata": {},
   "outputs": [
    {
     "data": {
      "text/html": [
       "<div>\n",
       "<style scoped>\n",
       "    .dataframe tbody tr th:only-of-type {\n",
       "        vertical-align: middle;\n",
       "    }\n",
       "\n",
       "    .dataframe tbody tr th {\n",
       "        vertical-align: top;\n",
       "    }\n",
       "\n",
       "    .dataframe thead th {\n",
       "        text-align: right;\n",
       "    }\n",
       "</style>\n",
       "<table border=\"1\" class=\"dataframe\">\n",
       "  <thead>\n",
       "    <tr style=\"text-align: right;\">\n",
       "      <th></th>\n",
       "      <th>answers_score</th>\n",
       "      <th>questions_score</th>\n",
       "    </tr>\n",
       "    <tr>\n",
       "      <th>answers_author_id</th>\n",
       "      <th></th>\n",
       "      <th></th>\n",
       "    </tr>\n",
       "  </thead>\n",
       "  <tbody>\n",
       "    <tr>\n",
       "      <th>4dbdd4b99f80446798b3ab477f049285</th>\n",
       "      <td>11.000000</td>\n",
       "      <td>9.000000</td>\n",
       "    </tr>\n",
       "    <tr>\n",
       "      <th>c97347e2441b40a69577cf1627b81a6a</th>\n",
       "      <td>10.625000</td>\n",
       "      <td>16.875000</td>\n",
       "    </tr>\n",
       "    <tr>\n",
       "      <th>a61aa494aed848cc87ba745a24178922</th>\n",
       "      <td>9.714286</td>\n",
       "      <td>16.428571</td>\n",
       "    </tr>\n",
       "    <tr>\n",
       "      <th>1ec14aee9311480681dfa81b0f193de8</th>\n",
       "      <td>9.100000</td>\n",
       "      <td>15.200000</td>\n",
       "    </tr>\n",
       "    <tr>\n",
       "      <th>bdcdf938f015413fb3cb981836ca3dab</th>\n",
       "      <td>9.000000</td>\n",
       "      <td>24.000000</td>\n",
       "    </tr>\n",
       "    <tr>\n",
       "      <th>...</th>\n",
       "      <td>...</td>\n",
       "      <td>...</td>\n",
       "    </tr>\n",
       "    <tr>\n",
       "      <th>94477b1600174ba8a6caf491dbe3bc5b</th>\n",
       "      <td>2.100000</td>\n",
       "      <td>5.100000</td>\n",
       "    </tr>\n",
       "    <tr>\n",
       "      <th>fe49d48526dd4c92977224777b25aee2</th>\n",
       "      <td>2.093750</td>\n",
       "      <td>4.031250</td>\n",
       "    </tr>\n",
       "    <tr>\n",
       "      <th>d05414b6022f4a279fc4c47be2dd8372</th>\n",
       "      <td>2.087500</td>\n",
       "      <td>5.262500</td>\n",
       "    </tr>\n",
       "    <tr>\n",
       "      <th>2de6424897f6469b8a5598bf18124fb2</th>\n",
       "      <td>2.083333</td>\n",
       "      <td>5.500000</td>\n",
       "    </tr>\n",
       "    <tr>\n",
       "      <th>b7d1223032c446d686cb258c654aa115</th>\n",
       "      <td>2.076923</td>\n",
       "      <td>11.692308</td>\n",
       "    </tr>\n",
       "  </tbody>\n",
       "</table>\n",
       "<p>319 rows × 2 columns</p>\n",
       "</div>"
      ],
      "text/plain": [
       "                                  answers_score  questions_score\n",
       "answers_author_id                                               \n",
       "4dbdd4b99f80446798b3ab477f049285      11.000000         9.000000\n",
       "c97347e2441b40a69577cf1627b81a6a      10.625000        16.875000\n",
       "a61aa494aed848cc87ba745a24178922       9.714286        16.428571\n",
       "1ec14aee9311480681dfa81b0f193de8       9.100000        15.200000\n",
       "bdcdf938f015413fb3cb981836ca3dab       9.000000        24.000000\n",
       "...                                         ...              ...\n",
       "94477b1600174ba8a6caf491dbe3bc5b       2.100000         5.100000\n",
       "fe49d48526dd4c92977224777b25aee2       2.093750         4.031250\n",
       "d05414b6022f4a279fc4c47be2dd8372       2.087500         5.262500\n",
       "2de6424897f6469b8a5598bf18124fb2       2.083333         5.500000\n",
       "b7d1223032c446d686cb258c654aa115       2.076923        11.692308\n",
       "\n",
       "[319 rows x 2 columns]"
      ]
     },
     "execution_count": 38,
     "metadata": {},
     "output_type": "execute_result"
    }
   ],
   "source": [
    "# Saving the professionals with the highest answers_score in a dataframe called: top_prof_df\n",
    "top_prof_df = data.groupby('answers_author_id').mean().sort_values('answers_score', ascending=False).head(319)\n",
    "\n",
    "# Viewing the professionals with the highest answers_score in a dataframe called: top_prof_df\n",
    "top_prof_df[['answers_score', 'questions_score']]"
   ]
  },
  {
   "cell_type": "markdown",
   "metadata": {},
   "source": [
    "How many professionals had an average answers_score above 1.0?"
   ]
  },
  {
   "cell_type": "code",
   "execution_count": 40,
   "metadata": {},
   "outputs": [
    {
     "data": {
      "text/html": [
       "<div>\n",
       "<style scoped>\n",
       "    .dataframe tbody tr th:only-of-type {\n",
       "        vertical-align: middle;\n",
       "    }\n",
       "\n",
       "    .dataframe tbody tr th {\n",
       "        vertical-align: top;\n",
       "    }\n",
       "\n",
       "    .dataframe thead th {\n",
       "        text-align: right;\n",
       "    }\n",
       "</style>\n",
       "<table border=\"1\" class=\"dataframe\">\n",
       "  <thead>\n",
       "    <tr style=\"text-align: right;\">\n",
       "      <th></th>\n",
       "      <th>questions_score</th>\n",
       "      <th>tag_id</th>\n",
       "      <th>answers_score</th>\n",
       "      <th>was_answered</th>\n",
       "      <th>has_tag</th>\n",
       "      <th>questions_sentiment</th>\n",
       "      <th>answers_sentiment</th>\n",
       "    </tr>\n",
       "    <tr>\n",
       "      <th>answers_author_id</th>\n",
       "      <th></th>\n",
       "      <th></th>\n",
       "      <th></th>\n",
       "      <th></th>\n",
       "      <th></th>\n",
       "      <th></th>\n",
       "      <th></th>\n",
       "    </tr>\n",
       "  </thead>\n",
       "  <tbody>\n",
       "    <tr>\n",
       "      <th>4dbdd4b99f80446798b3ab477f049285</th>\n",
       "      <td>9.000000</td>\n",
       "      <td>9181.000000</td>\n",
       "      <td>11.000000</td>\n",
       "      <td>1.0</td>\n",
       "      <td>1.000000</td>\n",
       "      <td>0.601900</td>\n",
       "      <td>0.994900</td>\n",
       "    </tr>\n",
       "    <tr>\n",
       "      <th>c97347e2441b40a69577cf1627b81a6a</th>\n",
       "      <td>16.875000</td>\n",
       "      <td>10614.125000</td>\n",
       "      <td>10.625000</td>\n",
       "      <td>1.0</td>\n",
       "      <td>1.000000</td>\n",
       "      <td>0.457612</td>\n",
       "      <td>0.988812</td>\n",
       "    </tr>\n",
       "    <tr>\n",
       "      <th>a61aa494aed848cc87ba745a24178922</th>\n",
       "      <td>16.428571</td>\n",
       "      <td>15048.000000</td>\n",
       "      <td>9.714286</td>\n",
       "      <td>1.0</td>\n",
       "      <td>1.000000</td>\n",
       "      <td>0.823743</td>\n",
       "      <td>0.973871</td>\n",
       "    </tr>\n",
       "    <tr>\n",
       "      <th>1ec14aee9311480681dfa81b0f193de8</th>\n",
       "      <td>15.200000</td>\n",
       "      <td>9751.500000</td>\n",
       "      <td>9.100000</td>\n",
       "      <td>1.0</td>\n",
       "      <td>1.000000</td>\n",
       "      <td>0.180570</td>\n",
       "      <td>0.862150</td>\n",
       "    </tr>\n",
       "    <tr>\n",
       "      <th>bdcdf938f015413fb3cb981836ca3dab</th>\n",
       "      <td>24.000000</td>\n",
       "      <td>14096.000000</td>\n",
       "      <td>9.000000</td>\n",
       "      <td>1.0</td>\n",
       "      <td>1.000000</td>\n",
       "      <td>0.757900</td>\n",
       "      <td>0.957800</td>\n",
       "    </tr>\n",
       "    <tr>\n",
       "      <th>...</th>\n",
       "      <td>...</td>\n",
       "      <td>...</td>\n",
       "      <td>...</td>\n",
       "      <td>...</td>\n",
       "      <td>...</td>\n",
       "      <td>...</td>\n",
       "      <td>...</td>\n",
       "    </tr>\n",
       "    <tr>\n",
       "      <th>6d3aeebadc6a403a814b2ceafd79862b</th>\n",
       "      <td>5.222222</td>\n",
       "      <td>17259.691358</td>\n",
       "      <td>1.037037</td>\n",
       "      <td>1.0</td>\n",
       "      <td>0.987654</td>\n",
       "      <td>0.469678</td>\n",
       "      <td>0.952719</td>\n",
       "    </tr>\n",
       "    <tr>\n",
       "      <th>e589ea1d909f4eee9c85b936512dc9b2</th>\n",
       "      <td>3.807229</td>\n",
       "      <td>16954.939759</td>\n",
       "      <td>1.036145</td>\n",
       "      <td>1.0</td>\n",
       "      <td>0.975904</td>\n",
       "      <td>0.320699</td>\n",
       "      <td>0.954370</td>\n",
       "    </tr>\n",
       "    <tr>\n",
       "      <th>321e45d8cbf74a0d96c43e48448b6c2b</th>\n",
       "      <td>3.727273</td>\n",
       "      <td>16671.848485</td>\n",
       "      <td>1.030303</td>\n",
       "      <td>1.0</td>\n",
       "      <td>1.000000</td>\n",
       "      <td>0.162309</td>\n",
       "      <td>0.947267</td>\n",
       "    </tr>\n",
       "    <tr>\n",
       "      <th>dfffd276cafe415e9ab18a0ad5564a9c</th>\n",
       "      <td>10.000000</td>\n",
       "      <td>13367.400000</td>\n",
       "      <td>1.028571</td>\n",
       "      <td>1.0</td>\n",
       "      <td>0.971429</td>\n",
       "      <td>0.516431</td>\n",
       "      <td>0.658269</td>\n",
       "    </tr>\n",
       "    <tr>\n",
       "      <th>2796213fb0324530bb206915156dd136</th>\n",
       "      <td>3.777778</td>\n",
       "      <td>15320.027778</td>\n",
       "      <td>1.027778</td>\n",
       "      <td>1.0</td>\n",
       "      <td>1.000000</td>\n",
       "      <td>0.259239</td>\n",
       "      <td>0.897519</td>\n",
       "    </tr>\n",
       "  </tbody>\n",
       "</table>\n",
       "<p>1017 rows × 7 columns</p>\n",
       "</div>"
      ],
      "text/plain": [
       "                                  questions_score        tag_id  \\\n",
       "answers_author_id                                                 \n",
       "4dbdd4b99f80446798b3ab477f049285         9.000000   9181.000000   \n",
       "c97347e2441b40a69577cf1627b81a6a        16.875000  10614.125000   \n",
       "a61aa494aed848cc87ba745a24178922        16.428571  15048.000000   \n",
       "1ec14aee9311480681dfa81b0f193de8        15.200000   9751.500000   \n",
       "bdcdf938f015413fb3cb981836ca3dab        24.000000  14096.000000   \n",
       "...                                           ...           ...   \n",
       "6d3aeebadc6a403a814b2ceafd79862b         5.222222  17259.691358   \n",
       "e589ea1d909f4eee9c85b936512dc9b2         3.807229  16954.939759   \n",
       "321e45d8cbf74a0d96c43e48448b6c2b         3.727273  16671.848485   \n",
       "dfffd276cafe415e9ab18a0ad5564a9c        10.000000  13367.400000   \n",
       "2796213fb0324530bb206915156dd136         3.777778  15320.027778   \n",
       "\n",
       "                                  answers_score  was_answered   has_tag  \\\n",
       "answers_author_id                                                         \n",
       "4dbdd4b99f80446798b3ab477f049285      11.000000           1.0  1.000000   \n",
       "c97347e2441b40a69577cf1627b81a6a      10.625000           1.0  1.000000   \n",
       "a61aa494aed848cc87ba745a24178922       9.714286           1.0  1.000000   \n",
       "1ec14aee9311480681dfa81b0f193de8       9.100000           1.0  1.000000   \n",
       "bdcdf938f015413fb3cb981836ca3dab       9.000000           1.0  1.000000   \n",
       "...                                         ...           ...       ...   \n",
       "6d3aeebadc6a403a814b2ceafd79862b       1.037037           1.0  0.987654   \n",
       "e589ea1d909f4eee9c85b936512dc9b2       1.036145           1.0  0.975904   \n",
       "321e45d8cbf74a0d96c43e48448b6c2b       1.030303           1.0  1.000000   \n",
       "dfffd276cafe415e9ab18a0ad5564a9c       1.028571           1.0  0.971429   \n",
       "2796213fb0324530bb206915156dd136       1.027778           1.0  1.000000   \n",
       "\n",
       "                                  questions_sentiment  answers_sentiment  \n",
       "answers_author_id                                                         \n",
       "4dbdd4b99f80446798b3ab477f049285             0.601900           0.994900  \n",
       "c97347e2441b40a69577cf1627b81a6a             0.457612           0.988812  \n",
       "a61aa494aed848cc87ba745a24178922             0.823743           0.973871  \n",
       "1ec14aee9311480681dfa81b0f193de8             0.180570           0.862150  \n",
       "bdcdf938f015413fb3cb981836ca3dab             0.757900           0.957800  \n",
       "...                                               ...                ...  \n",
       "6d3aeebadc6a403a814b2ceafd79862b             0.469678           0.952719  \n",
       "e589ea1d909f4eee9c85b936512dc9b2             0.320699           0.954370  \n",
       "321e45d8cbf74a0d96c43e48448b6c2b             0.162309           0.947267  \n",
       "dfffd276cafe415e9ab18a0ad5564a9c             0.516431           0.658269  \n",
       "2796213fb0324530bb206915156dd136             0.259239           0.897519  \n",
       "\n",
       "[1017 rows x 7 columns]"
      ]
     },
     "execution_count": 40,
     "metadata": {},
     "output_type": "execute_result"
    }
   ],
   "source": [
    "data.groupby('answers_author_id').mean().sort_values('answers_score', ascending=False).loc[\\\n",
    "    data.groupby('answers_author_id').mean().sort_values('answers_score', ascending=False)['answers_score'] > 1]"
   ]
  },
  {
   "cell_type": "markdown",
   "metadata": {},
   "source": [
    "## Exploring Scores\n",
    "\n",
    "Below is a look at the general stats, grouped by `was_answered` for question and answer scores. Unsurprisingly the average question score for questions that were answered is several points higher than wasn't answered. That said, it's interesting to see that the average score for questions that weren't answered was above 0, or almost zero. In looking at the max `question_score` for questions that weren't answered, we see a question had 123 \"upvotes\" and still wasn't answered. This is an anomaly, but interesting. "
   ]
  },
  {
   "cell_type": "markdown",
   "metadata": {},
   "source": [
    "### General Stats for Question and Answer Scores:"
   ]
  },
  {
   "cell_type": "code",
   "execution_count": 41,
   "metadata": {},
   "outputs": [
    {
     "data": {
      "text/html": [
       "<div>\n",
       "<style scoped>\n",
       "    .dataframe tbody tr th:only-of-type {\n",
       "        vertical-align: middle;\n",
       "    }\n",
       "\n",
       "    .dataframe tbody tr th {\n",
       "        vertical-align: top;\n",
       "    }\n",
       "\n",
       "    .dataframe thead tr th {\n",
       "        text-align: left;\n",
       "    }\n",
       "\n",
       "    .dataframe thead tr:last-of-type th {\n",
       "        text-align: right;\n",
       "    }\n",
       "</style>\n",
       "<table border=\"1\" class=\"dataframe\">\n",
       "  <thead>\n",
       "    <tr>\n",
       "      <th></th>\n",
       "      <th colspan=\"8\" halign=\"left\">questions_score</th>\n",
       "      <th colspan=\"8\" halign=\"left\">answers_score</th>\n",
       "    </tr>\n",
       "    <tr>\n",
       "      <th></th>\n",
       "      <th>count</th>\n",
       "      <th>mean</th>\n",
       "      <th>std</th>\n",
       "      <th>min</th>\n",
       "      <th>25%</th>\n",
       "      <th>50%</th>\n",
       "      <th>75%</th>\n",
       "      <th>max</th>\n",
       "      <th>count</th>\n",
       "      <th>mean</th>\n",
       "      <th>std</th>\n",
       "      <th>min</th>\n",
       "      <th>25%</th>\n",
       "      <th>50%</th>\n",
       "      <th>75%</th>\n",
       "      <th>max</th>\n",
       "    </tr>\n",
       "    <tr>\n",
       "      <th>was_answered</th>\n",
       "      <th></th>\n",
       "      <th></th>\n",
       "      <th></th>\n",
       "      <th></th>\n",
       "      <th></th>\n",
       "      <th></th>\n",
       "      <th></th>\n",
       "      <th></th>\n",
       "      <th></th>\n",
       "      <th></th>\n",
       "      <th></th>\n",
       "      <th></th>\n",
       "      <th></th>\n",
       "      <th></th>\n",
       "      <th></th>\n",
       "      <th></th>\n",
       "    </tr>\n",
       "  </thead>\n",
       "  <tbody>\n",
       "    <tr>\n",
       "      <th>0</th>\n",
       "      <td>2340.0</td>\n",
       "      <td>0.755556</td>\n",
       "      <td>3.167693</td>\n",
       "      <td>0.0</td>\n",
       "      <td>0.0</td>\n",
       "      <td>0.0</td>\n",
       "      <td>1.0</td>\n",
       "      <td>123.0</td>\n",
       "      <td>2340.0</td>\n",
       "      <td>0.000000</td>\n",
       "      <td>0.000000</td>\n",
       "      <td>0.0</td>\n",
       "      <td>0.0</td>\n",
       "      <td>0.0</td>\n",
       "      <td>0.0</td>\n",
       "      <td>0.0</td>\n",
       "    </tr>\n",
       "    <tr>\n",
       "      <th>1</th>\n",
       "      <td>178036.0</td>\n",
       "      <td>4.927234</td>\n",
       "      <td>7.562493</td>\n",
       "      <td>0.0</td>\n",
       "      <td>2.0</td>\n",
       "      <td>4.0</td>\n",
       "      <td>5.0</td>\n",
       "      <td>125.0</td>\n",
       "      <td>178036.0</td>\n",
       "      <td>0.454307</td>\n",
       "      <td>0.940817</td>\n",
       "      <td>0.0</td>\n",
       "      <td>0.0</td>\n",
       "      <td>0.0</td>\n",
       "      <td>1.0</td>\n",
       "      <td>30.0</td>\n",
       "    </tr>\n",
       "  </tbody>\n",
       "</table>\n",
       "</div>"
      ],
      "text/plain": [
       "             questions_score                                                 \\\n",
       "                       count      mean       std  min  25%  50%  75%    max   \n",
       "was_answered                                                                  \n",
       "0                     2340.0  0.755556  3.167693  0.0  0.0  0.0  1.0  123.0   \n",
       "1                   178036.0  4.927234  7.562493  0.0  2.0  4.0  5.0  125.0   \n",
       "\n",
       "             answers_score                                                \n",
       "                     count      mean       std  min  25%  50%  75%   max  \n",
       "was_answered                                                              \n",
       "0                   2340.0  0.000000  0.000000  0.0  0.0  0.0  0.0   0.0  \n",
       "1                 178036.0  0.454307  0.940817  0.0  0.0  0.0  1.0  30.0  "
      ]
     },
     "execution_count": 41,
     "metadata": {},
     "output_type": "execute_result"
    }
   ],
   "source": [
    "data.groupby('was_answered')[['questions_score', 'answers_score']].describe()"
   ]
  },
  {
   "cell_type": "markdown",
   "metadata": {},
   "source": [
    "### Exploring `answer_scores`"
   ]
  },
  {
   "cell_type": "code",
   "execution_count": 53,
   "metadata": {},
   "outputs": [
    {
     "data": {
      "image/png": "[encoded data removed]",
      "text/plain": [
       "<Figure size 640x480 with 1 Axes>"
      ]
     },
     "metadata": {
      "image/png": {
       "height": 454,
       "width": 598
      }
     },
     "output_type": "display_data"
    }
   ],
   "source": [
    "data['answers_score'].hist();\n",
    "plt.title('Answers Score histogram');\n",
    "plt.ylabel(\"Count\")\n",
    "plt.xlabel(\"Answers Score\");"
   ]
  },
  {
   "cell_type": "markdown",
   "metadata": {},
   "source": [
    "There are 23 unique values for answer scores"
   ]
  },
  {
   "cell_type": "code",
   "execution_count": 43,
   "metadata": {},
   "outputs": [
    {
     "data": {
      "text/plain": [
       "23"
      ]
     },
     "execution_count": 43,
     "metadata": {},
     "output_type": "execute_result"
    }
   ],
   "source": [
    "data['answers_score'].nunique()"
   ]
  },
  {
   "cell_type": "markdown",
   "metadata": {},
   "source": [
    "Below outputs the frequency for how often each answer score value occurs:"
   ]
  },
  {
   "cell_type": "code",
   "execution_count": 44,
   "metadata": {},
   "outputs": [
    {
     "data": {
      "text/plain": [
       "0.0     127954\n",
       "1.0      36007\n",
       "2.0      10334\n",
       "3.0       3404\n",
       "4.0       1414\n",
       "5.0        562\n",
       "6.0        278\n",
       "7.0        164\n",
       "8.0        110\n",
       "9.0         35\n",
       "12.0        26\n",
       "11.0        24\n",
       "10.0        15\n",
       "14.0        13\n",
       "13.0        13\n",
       "15.0         6\n",
       "17.0         4\n",
       "18.0         3\n",
       "25.0         3\n",
       "22.0         3\n",
       "20.0         2\n",
       "19.0         1\n",
       "30.0         1\n",
       "Name: answers_score, dtype: int64"
      ]
     },
     "execution_count": 44,
     "metadata": {},
     "output_type": "execute_result"
    }
   ],
   "source": [
    "data['answers_score'].value_counts()"
   ]
  },
  {
   "cell_type": "markdown",
   "metadata": {},
   "source": [
    "Similar to above, below graphs the frequency for how often each answer score value occurs:"
   ]
  },
  {
   "cell_type": "code",
   "execution_count": 54,
   "metadata": {},
   "outputs": [
    {
     "data": {
      "image/png": "[encoded data removed]",
      "text/plain": [
       "<Figure size 640x480 with 1 Axes>"
      ]
     },
     "metadata": {
      "image/png": {
       "height": 454,
       "width": 576
      }
     },
     "output_type": "display_data"
    }
   ],
   "source": [
    "data['answers_score'].value_counts().hist();\n",
    "plt.title('Answers Score Histogram Inverted');\n",
    "plt.ylabel(\"Answers Score\")\n",
    "plt.xlabel(\"Count of Occurrences\");"
   ]
  },
  {
   "cell_type": "markdown",
   "metadata": {},
   "source": [
    "Taking a closer look at the general stats, distribution, and quartiles for answer_scores:"
   ]
  },
  {
   "cell_type": "code",
   "execution_count": 55,
   "metadata": {},
   "outputs": [
    {
     "data": {
      "text/plain": [
       "count    180376.000000\n",
       "mean          0.448413\n",
       "std           0.936107\n",
       "min           0.000000\n",
       "25%           0.000000\n",
       "50%           0.000000\n",
       "75%           1.000000\n",
       "max          30.000000\n",
       "Name: answers_score, dtype: float64"
      ]
     },
     "execution_count": 55,
     "metadata": {},
     "output_type": "execute_result"
    }
   ],
   "source": [
    "data['answers_score'].describe()"
   ]
  },
  {
   "cell_type": "markdown",
   "metadata": {},
   "source": [
    "The boxplot provides a good visual for how the answer scores and spread. The majority of scores are between 0 and 1. With outliers above about 2. Since there can't be negative scores, there are no outliers to the left of the graph."
   ]
  },
  {
   "cell_type": "code",
   "execution_count": 59,
   "metadata": {},
   "outputs": [
    {
     "data": {
      "image/png": "[encoded data removed]",
      "text/plain": [
       "<Figure size 640x480 with 1 Axes>"
      ]
     },
     "metadata": {
      "image/png": {
       "height": 413,
       "width": 534
      }
     },
     "output_type": "display_data"
    }
   ],
   "source": [
    "sns.boxplot(data['answers_score'], orient='h');"
   ]
  },
  {
   "cell_type": "markdown",
   "metadata": {},
   "source": [
    "### Exploring `questions_score`"
   ]
  },
  {
   "cell_type": "markdown",
   "metadata": {},
   "source": [
    "There are 75 unique question scores"
   ]
  },
  {
   "cell_type": "code",
   "execution_count": 60,
   "metadata": {},
   "outputs": [
    {
     "data": {
      "text/plain": [
       "75"
      ]
     },
     "execution_count": 60,
     "metadata": {},
     "output_type": "execute_result"
    }
   ],
   "source": [
    "data['questions_score'].nunique()"
   ]
  },
  {
   "cell_type": "markdown",
   "metadata": {},
   "source": [
    "Taking a closer look at the general stats, distribution, and quartiles for answer_scores:"
   ]
  },
  {
   "cell_type": "code",
   "execution_count": 61,
   "metadata": {},
   "outputs": [
    {
     "data": {
      "text/plain": [
       "count    180376.000000\n",
       "mean          4.873115\n",
       "std           7.536732\n",
       "min           0.000000\n",
       "25%           2.000000\n",
       "50%           4.000000\n",
       "75%           5.000000\n",
       "max         125.000000\n",
       "Name: questions_score, dtype: float64"
      ]
     },
     "execution_count": 61,
     "metadata": {},
     "output_type": "execute_result"
    }
   ],
   "source": [
    "data['questions_score'].describe()"
   ]
  },
  {
   "cell_type": "markdown",
   "metadata": {},
   "source": [
    "The boxplot provides a good visual for how the question scores and spread. The majority of scores are between 2 and 4. With outliers above about 9. "
   ]
  },
  {
   "cell_type": "code",
   "execution_count": 62,
   "metadata": {},
   "outputs": [
    {
     "data": {
      "image/png": "[encoded data removed]",
      "text/plain": [
       "<Figure size 640x480 with 1 Axes>"
      ]
     },
     "metadata": {
      "image/png": {
       "height": 413,
       "width": 534
      }
     },
     "output_type": "display_data"
    }
   ],
   "source": [
    "sns.boxplot(data['questions_score'], orient='h');"
   ]
  },
  {
   "cell_type": "markdown",
   "metadata": {},
   "source": [
    "A deeper dive into the distribution of `quesions_scores`shows just how many of the scores are between 0-5, and how few are above 5."
   ]
  },
  {
   "cell_type": "code",
   "execution_count": 64,
   "metadata": {},
   "outputs": [
    {
     "data": {
      "text/plain": [
       "Text(0.5, 0, 'Questions Score')"
      ]
     },
     "execution_count": 64,
     "metadata": {},
     "output_type": "execute_result"
    },
    {
     "data": {
      "image/png": "[encoded data removed]",
      "text/plain": [
       "<Figure size 640x480 with 1 Axes>"
      ]
     },
     "metadata": {
      "image/png": {
       "height": 432,
       "width": 589
      }
     },
     "output_type": "display_data"
    }
   ],
   "source": [
    "data['questions_score'].plot(kind='hist', bins=100);\n",
    "plt.xlabel('Questions Score')"
   ]
  },
  {
   "cell_type": "markdown",
   "metadata": {},
   "source": [
    "#### Exploring dates and lengths of time answered"
   ]
  },
  {
   "cell_type": "markdown",
   "metadata": {},
   "source": [
    "Creating a column called `time_to_answer` that is a calcuation of the `answers_date_added` minus `questions_date_added` columns. The data is in date time units."
   ]
  },
  {
   "cell_type": "code",
   "execution_count": 83,
   "metadata": {},
   "outputs": [
    {
     "data": {
      "text/html": [
       "<div>\n",
       "<style scoped>\n",
       "    .dataframe tbody tr th:only-of-type {\n",
       "        vertical-align: middle;\n",
       "    }\n",
       "\n",
       "    .dataframe tbody tr th {\n",
       "        vertical-align: top;\n",
       "    }\n",
       "\n",
       "    .dataframe thead th {\n",
       "        text-align: right;\n",
       "    }\n",
       "</style>\n",
       "<table border=\"1\" class=\"dataframe\">\n",
       "  <thead>\n",
       "    <tr style=\"text-align: right;\">\n",
       "      <th></th>\n",
       "      <th>questions_id</th>\n",
       "      <th>questions_author_id</th>\n",
       "      <th>questions_date_added</th>\n",
       "      <th>questions_title</th>\n",
       "      <th>questions_body</th>\n",
       "      <th>questions_score</th>\n",
       "      <th>tag_id</th>\n",
       "      <th>tag_name</th>\n",
       "      <th>answers_id</th>\n",
       "      <th>answers_author_id</th>\n",
       "      <th>answers_date_added</th>\n",
       "      <th>answers_body</th>\n",
       "      <th>answers_score</th>\n",
       "      <th>was_answered</th>\n",
       "      <th>questions_length</th>\n",
       "      <th>answers_length</th>\n",
       "      <th>has_tag</th>\n",
       "      <th>questions_sentiment</th>\n",
       "      <th>answers_sentiment</th>\n",
       "      <th>time_to_answer</th>\n",
       "    </tr>\n",
       "  </thead>\n",
       "  <tbody>\n",
       "    <tr>\n",
       "      <th>0</th>\n",
       "      <td>332a511f1569444485cf7a7a556a5e54</td>\n",
       "      <td>8f6f374ffd834d258ab69d376dd998f5</td>\n",
       "      <td>2016-04-26 11:14:26+00:00</td>\n",
       "      <td>teacher   career   question</td>\n",
       "      <td>what  is  a  maths  teacher    what  is  a  ma...</td>\n",
       "      <td>1.0</td>\n",
       "      <td>14147.0</td>\n",
       "      <td>lecture</td>\n",
       "      <td>4e5f01128cae4f6d8fd697cec5dca60c</td>\n",
       "      <td>36ff3b3666df400f956f8335cf53e09e</td>\n",
       "      <td>2016-04-29 19:40:14+00:00</td>\n",
       "      <td>hi you are asking a very interesting question ...</td>\n",
       "      <td>0.0</td>\n",
       "      <td>1</td>\n",
       "      <td>180376</td>\n",
       "      <td>180376</td>\n",
       "      <td>1</td>\n",
       "      <td>0.4404</td>\n",
       "      <td>0.8122</td>\n",
       "      <td>3 days 08:25:48</td>\n",
       "    </tr>\n",
       "    <tr>\n",
       "      <th>1</th>\n",
       "      <td>332a511f1569444485cf7a7a556a5e54</td>\n",
       "      <td>8f6f374ffd834d258ab69d376dd998f5</td>\n",
       "      <td>2016-04-26 11:14:26+00:00</td>\n",
       "      <td>teacher   career   question</td>\n",
       "      <td>what  is  a  maths  teacher    what  is  a  ma...</td>\n",
       "      <td>1.0</td>\n",
       "      <td>27490.0</td>\n",
       "      <td>college</td>\n",
       "      <td>4e5f01128cae4f6d8fd697cec5dca60c</td>\n",
       "      <td>36ff3b3666df400f956f8335cf53e09e</td>\n",
       "      <td>2016-04-29 19:40:14+00:00</td>\n",
       "      <td>hi you are asking a very interesting question ...</td>\n",
       "      <td>0.0</td>\n",
       "      <td>1</td>\n",
       "      <td>180376</td>\n",
       "      <td>180376</td>\n",
       "      <td>1</td>\n",
       "      <td>0.4404</td>\n",
       "      <td>0.8122</td>\n",
       "      <td>3 days 08:25:48</td>\n",
       "    </tr>\n",
       "  </tbody>\n",
       "</table>\n",
       "</div>"
      ],
      "text/plain": [
       "                       questions_id               questions_author_id  \\\n",
       "0  332a511f1569444485cf7a7a556a5e54  8f6f374ffd834d258ab69d376dd998f5   \n",
       "1  332a511f1569444485cf7a7a556a5e54  8f6f374ffd834d258ab69d376dd998f5   \n",
       "\n",
       "       questions_date_added              questions_title  \\\n",
       "0 2016-04-26 11:14:26+00:00  teacher   career   question   \n",
       "1 2016-04-26 11:14:26+00:00  teacher   career   question   \n",
       "\n",
       "                                      questions_body  questions_score  \\\n",
       "0  what  is  a  maths  teacher    what  is  a  ma...              1.0   \n",
       "1  what  is  a  maths  teacher    what  is  a  ma...              1.0   \n",
       "\n",
       "    tag_id tag_name                        answers_id  \\\n",
       "0  14147.0  lecture  4e5f01128cae4f6d8fd697cec5dca60c   \n",
       "1  27490.0  college  4e5f01128cae4f6d8fd697cec5dca60c   \n",
       "\n",
       "                  answers_author_id        answers_date_added  \\\n",
       "0  36ff3b3666df400f956f8335cf53e09e 2016-04-29 19:40:14+00:00   \n",
       "1  36ff3b3666df400f956f8335cf53e09e 2016-04-29 19:40:14+00:00   \n",
       "\n",
       "                                        answers_body  answers_score  \\\n",
       "0  hi you are asking a very interesting question ...            0.0   \n",
       "1  hi you are asking a very interesting question ...            0.0   \n",
       "\n",
       "   was_answered  questions_length  answers_length  has_tag  \\\n",
       "0             1            180376          180376        1   \n",
       "1             1            180376          180376        1   \n",
       "\n",
       "   questions_sentiment  answers_sentiment  time_to_answer  \n",
       "0               0.4404             0.8122 3 days 08:25:48  \n",
       "1               0.4404             0.8122 3 days 08:25:48  "
      ]
     },
     "execution_count": 83,
     "metadata": {},
     "output_type": "execute_result"
    }
   ],
   "source": [
    "data['time_to_answer'] = data['answers_date_added'] - data['questions_date_added']\n",
    "\n",
    "# [x.strftime(\"%Y-%m-%d %H:%M:%S\") for x in data['time_to_answer']]\n",
    "data.head(2)"
   ]
  },
  {
   "cell_type": "code",
   "execution_count": 88,
   "metadata": {},
   "outputs": [
    {
     "data": {
      "text/html": [
       "<div>\n",
       "<style scoped>\n",
       "    .dataframe tbody tr th:only-of-type {\n",
       "        vertical-align: middle;\n",
       "    }\n",
       "\n",
       "    .dataframe tbody tr th {\n",
       "        vertical-align: top;\n",
       "    }\n",
       "\n",
       "    .dataframe thead th {\n",
       "        text-align: right;\n",
       "    }\n",
       "</style>\n",
       "<table border=\"1\" class=\"dataframe\">\n",
       "  <thead>\n",
       "    <tr style=\"text-align: right;\">\n",
       "      <th></th>\n",
       "      <th>time_to_answer</th>\n",
       "    </tr>\n",
       "  </thead>\n",
       "  <tbody>\n",
       "    <tr>\n",
       "      <th>0</th>\n",
       "      <td>3 days 08:25:48</td>\n",
       "    </tr>\n",
       "    <tr>\n",
       "      <th>1</th>\n",
       "      <td>3 days 08:25:48</td>\n",
       "    </tr>\n",
       "    <tr>\n",
       "      <th>2</th>\n",
       "      <td>3 days 08:25:48</td>\n",
       "    </tr>\n",
       "    <tr>\n",
       "      <th>3</th>\n",
       "      <td>710 days 21:30:43</td>\n",
       "    </tr>\n",
       "    <tr>\n",
       "      <th>4</th>\n",
       "      <td>711 days 09:52:37</td>\n",
       "    </tr>\n",
       "  </tbody>\n",
       "</table>\n",
       "</div>"
      ],
      "text/plain": [
       "     time_to_answer\n",
       "0   3 days 08:25:48\n",
       "1   3 days 08:25:48\n",
       "2   3 days 08:25:48\n",
       "3 710 days 21:30:43\n",
       "4 711 days 09:52:37"
      ]
     },
     "execution_count": 88,
     "metadata": {},
     "output_type": "execute_result"
    }
   ],
   "source": [
    "data[['time_to_answer']].head()"
   ]
  },
  {
   "cell_type": "markdown",
   "metadata": {},
   "source": [
    "General stats for how long it takes for a question to be answered. As we can see here that the mean is 142 days, while the median is 22 days. The average is heavily skewed by the max amount of days it took to answer a question; 2,562, which is about 7 years. This is highly suspicious that a question took 7 years to be answered. Additionally, the min is negative, and an answer to a question can't be posted before it was asked. Since the data was likely auto-generated from the site, it's unlikely it's an imputation error. It may be a merging error due to how messy the data has been in general. The other possibility is that if an answer was posted for a different similar question, it might be linked to the new question (this would have to be confirmed by careervillage.com)."
   ]
  },
  {
   "cell_type": "code",
   "execution_count": 32,
   "metadata": {},
   "outputs": [
    {
     "data": {
      "text/html": [
       "<div>\n",
       "<style scoped>\n",
       "    .dataframe tbody tr th:only-of-type {\n",
       "        vertical-align: middle;\n",
       "    }\n",
       "\n",
       "    .dataframe tbody tr th {\n",
       "        vertical-align: top;\n",
       "    }\n",
       "\n",
       "    .dataframe thead th {\n",
       "        text-align: right;\n",
       "    }\n",
       "</style>\n",
       "<table border=\"1\" class=\"dataframe\">\n",
       "  <thead>\n",
       "    <tr style=\"text-align: right;\">\n",
       "      <th></th>\n",
       "      <th>time_to_answer</th>\n",
       "    </tr>\n",
       "  </thead>\n",
       "  <tbody>\n",
       "    <tr>\n",
       "      <th>count</th>\n",
       "      <td>178036</td>\n",
       "    </tr>\n",
       "    <tr>\n",
       "      <th>mean</th>\n",
       "      <td>142 days 11:55:39.236727</td>\n",
       "    </tr>\n",
       "    <tr>\n",
       "      <th>std</th>\n",
       "      <td>234 days 20:08:43.999799</td>\n",
       "    </tr>\n",
       "    <tr>\n",
       "      <th>min</th>\n",
       "      <td>-1 days +23:50:01</td>\n",
       "    </tr>\n",
       "    <tr>\n",
       "      <th>25%</th>\n",
       "      <td>1 days 03:44:17</td>\n",
       "    </tr>\n",
       "    <tr>\n",
       "      <th>50%</th>\n",
       "      <td>22 days 12:47:39</td>\n",
       "    </tr>\n",
       "    <tr>\n",
       "      <th>75%</th>\n",
       "      <td>183 days 14:58:54</td>\n",
       "    </tr>\n",
       "    <tr>\n",
       "      <th>max</th>\n",
       "      <td>2562 days 16:48:29</td>\n",
       "    </tr>\n",
       "  </tbody>\n",
       "</table>\n",
       "</div>"
      ],
      "text/plain": [
       "                 time_to_answer\n",
       "count                    178036\n",
       "mean   142 days 11:55:39.236727\n",
       "std    234 days 20:08:43.999799\n",
       "min           -1 days +23:50:01\n",
       "25%             1 days 03:44:17\n",
       "50%            22 days 12:47:39\n",
       "75%           183 days 14:58:54\n",
       "max          2562 days 16:48:29"
      ]
     },
     "execution_count": 32,
     "metadata": {},
     "output_type": "execute_result"
    }
   ],
   "source": [
    "data[data['was_answered'] ==1][['time_to_answer']].describe()"
   ]
  },
  {
   "cell_type": "code",
   "execution_count": 84,
   "metadata": {},
   "outputs": [
    {
     "data": {
      "text/html": [
       "<div>\n",
       "<style scoped>\n",
       "    .dataframe tbody tr th:only-of-type {\n",
       "        vertical-align: middle;\n",
       "    }\n",
       "\n",
       "    .dataframe tbody tr th {\n",
       "        vertical-align: top;\n",
       "    }\n",
       "\n",
       "    .dataframe thead th {\n",
       "        text-align: right;\n",
       "    }\n",
       "</style>\n",
       "<table border=\"1\" class=\"dataframe\">\n",
       "  <thead>\n",
       "    <tr style=\"text-align: right;\">\n",
       "      <th></th>\n",
       "      <th>time_to_answer</th>\n",
       "    </tr>\n",
       "  </thead>\n",
       "  <tbody>\n",
       "    <tr>\n",
       "      <th>119703</th>\n",
       "      <td>-1 days +23:50:01</td>\n",
       "    </tr>\n",
       "    <tr>\n",
       "      <th>119700</th>\n",
       "      <td>-1 days +23:50:01</td>\n",
       "    </tr>\n",
       "    <tr>\n",
       "      <th>14765</th>\n",
       "      <td>-1 days +23:52:47</td>\n",
       "    </tr>\n",
       "    <tr>\n",
       "      <th>14767</th>\n",
       "      <td>-1 days +23:52:47</td>\n",
       "    </tr>\n",
       "    <tr>\n",
       "      <th>14766</th>\n",
       "      <td>-1 days +23:52:47</td>\n",
       "    </tr>\n",
       "    <tr>\n",
       "      <th>...</th>\n",
       "      <td>...</td>\n",
       "    </tr>\n",
       "    <tr>\n",
       "      <th>130702</th>\n",
       "      <td>2562 days 16:48:29</td>\n",
       "    </tr>\n",
       "    <tr>\n",
       "      <th>130706</th>\n",
       "      <td>2562 days 16:48:29</td>\n",
       "    </tr>\n",
       "    <tr>\n",
       "      <th>130714</th>\n",
       "      <td>2562 days 16:48:29</td>\n",
       "    </tr>\n",
       "    <tr>\n",
       "      <th>130694</th>\n",
       "      <td>2562 days 16:48:29</td>\n",
       "    </tr>\n",
       "    <tr>\n",
       "      <th>130710</th>\n",
       "      <td>2562 days 16:48:29</td>\n",
       "    </tr>\n",
       "  </tbody>\n",
       "</table>\n",
       "<p>178036 rows × 1 columns</p>\n",
       "</div>"
      ],
      "text/plain": [
       "           time_to_answer\n",
       "119703  -1 days +23:50:01\n",
       "119700  -1 days +23:50:01\n",
       "14765   -1 days +23:52:47\n",
       "14767   -1 days +23:52:47\n",
       "14766   -1 days +23:52:47\n",
       "...                   ...\n",
       "130702 2562 days 16:48:29\n",
       "130706 2562 days 16:48:29\n",
       "130714 2562 days 16:48:29\n",
       "130694 2562 days 16:48:29\n",
       "130710 2562 days 16:48:29\n",
       "\n",
       "[178036 rows x 1 columns]"
      ]
     },
     "execution_count": 84,
     "metadata": {},
     "output_type": "execute_result"
    }
   ],
   "source": [
    "data[data['was_answered'] ==1][['time_to_answer']].sort_values('time_to_answer')"
   ]
  },
  {
   "cell_type": "code",
   "execution_count": 33,
   "metadata": {},
   "outputs": [
    {
     "data": {
      "text/plain": [
       "time_to_answer   142 days 11:55:39.236727\n",
       "dtype: timedelta64[ns]"
      ]
     },
     "execution_count": 33,
     "metadata": {},
     "output_type": "execute_result"
    }
   ],
   "source": [
    "data[['time_to_answer']].mean()"
   ]
  },
  {
   "cell_type": "code",
   "execution_count": 34,
   "metadata": {},
   "outputs": [
    {
     "data": {
      "image/png": "[encoded data removed]",
      "text/plain": [
       "<Figure size 432x288 with 1 Axes>"
      ]
     },
     "metadata": {
      "image/png": {
       "height": 276,
       "width": 394
      },
      "needs_background": "light"
     },
     "output_type": "display_data"
    }
   ],
   "source": [
    "time_nulless = data[['time_to_answer']].dropna().astype(int)\n",
    "time_nulless.hist();"
   ]
  },
  {
   "cell_type": "markdown",
   "metadata": {},
   "source": [
    "## Exporting Data"
   ]
  },
  {
   "cell_type": "code",
   "execution_count": 35,
   "metadata": {},
   "outputs": [],
   "source": [
    "# data.to_csv('./Datasets/cleaned_w_sentiment.csv', index=False)"
   ]
  },
  {
   "cell_type": "code",
   "execution_count": null,
   "metadata": {},
   "outputs": [],
   "source": []
  }
 ],
 "metadata": {
  "kernelspec": {
   "display_name": "Python 3 (ipykernel)",
   "language": "python",
   "name": "python3"
  },
  "language_info": {
   "codemirror_mode": {
    "name": "ipython",
    "version": 3
   },
   "file_extension": ".py",
   "mimetype": "text/x-python",
   "name": "python",
   "nbconvert_exporter": "python",
   "pygments_lexer": "ipython3",
   "version": "3.9.13"
  },
  "toc": {
   "base_numbering": 1,
   "nav_menu": {
    "height": "408.4px",
    "width": "462.6px"
   },
   "number_sections": true,
   "sideBar": true,
   "skip_h1_title": false,
   "title_cell": "Table of Contents",
   "title_sidebar": "Contents",
   "toc_cell": true,
   "toc_position": {
    "height": "calc(100% - 180px)",
    "left": "10px",
    "top": "150px",
    "width": "348.082px"
   },
   "toc_section_display": true,
   "toc_window_display": true
  },
  "varInspector": {
   "cols": {
    "lenName": 16,
    "lenType": 16,
    "lenVar": 40
   },
   "kernels_config": {
    "python": {
     "delete_cmd_postfix": "",
     "delete_cmd_prefix": "del ",
     "library": "var_list.py",
     "varRefreshCmd": "print(var_dic_list())"
    },
    "r": {
     "delete_cmd_postfix": ") ",
     "delete_cmd_prefix": "rm(",
     "library": "var_list.r",
     "varRefreshCmd": "cat(var_dic_list()) "
    }
   },
   "oldHeight": 150.728888,
   "position": {
    "height": "40px",
    "left": "1250.11px",
    "right": "20px",
    "top": "120px",
    "width": "329.887px"
   },
   "types_to_exclude": [
    "module",
    "function",
    "builtin_function_or_method",
    "instance",
    "_Feature"
   ],
   "varInspector_section_display": "none",
   "window_display": true
  }
 },
 "nbformat": 4,
 "nbformat_minor": 4
}
