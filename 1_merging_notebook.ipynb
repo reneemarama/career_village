{
 "cells": [
  {
   "cell_type": "markdown",
   "metadata": {
    "toc": true
   },
   "source": [
    "<h1>Table of Contents<span class=\"tocSkip\"></span></h1>\n",
    "<div class=\"toc\"><ul class=\"toc-item\"><li><span><a href=\"#Merging-DataFrames-Notebook\" data-toc-modified-id=\"Merging-DataFrames-Notebook-1\"><span class=\"toc-item-num\">1&nbsp;&nbsp;</span>Merging DataFrames Notebook</a></span><ul class=\"toc-item\"><li><span><a href=\"#CSV's-Used\" data-toc-modified-id=\"CSV's-Used-1.1\"><span class=\"toc-item-num\">1.1&nbsp;&nbsp;</span>CSV's Used</a></span></li><li><span><a href=\"#Unused-CSV's\" data-toc-modified-id=\"Unused-CSV's-1.2\"><span class=\"toc-item-num\">1.2&nbsp;&nbsp;</span>Unused CSV's</a></span></li><li><span><a href=\"#Notebook-Approach\" data-toc-modified-id=\"Notebook-Approach-1.3\"><span class=\"toc-item-num\">1.3&nbsp;&nbsp;</span>Notebook Approach</a></span></li></ul></li><li><span><a href=\"#Answers\" data-toc-modified-id=\"Answers-2\"><span class=\"toc-item-num\">2&nbsp;&nbsp;</span>Answers</a></span><ul class=\"toc-item\"><li><span><a href=\"#Renaming-Columns\" data-toc-modified-id=\"Renaming-Columns-2.1\"><span class=\"toc-item-num\">2.1&nbsp;&nbsp;</span>Renaming Columns</a></span></li><li><span><a href=\"#Merging\" data-toc-modified-id=\"Merging-2.2\"><span class=\"toc-item-num\">2.2&nbsp;&nbsp;</span>Merging</a></span></li></ul></li><li><span><a href=\"#Questions\" data-toc-modified-id=\"Questions-3\"><span class=\"toc-item-num\">3&nbsp;&nbsp;</span>Questions</a></span><ul class=\"toc-item\"><li><span><a href=\"#Renaming-Columns\" data-toc-modified-id=\"Renaming-Columns-3.1\"><span class=\"toc-item-num\">3.1&nbsp;&nbsp;</span>Renaming Columns</a></span></li><li><span><a href=\"#Merging\" data-toc-modified-id=\"Merging-3.2\"><span class=\"toc-item-num\">3.2&nbsp;&nbsp;</span>Merging</a></span></li></ul></li><li><span><a href=\"#Tags\" data-toc-modified-id=\"Tags-4\"><span class=\"toc-item-num\">4&nbsp;&nbsp;</span>Tags</a></span><ul class=\"toc-item\"><li><span><a href=\"#Renaming-Columns\" data-toc-modified-id=\"Renaming-Columns-4.1\"><span class=\"toc-item-num\">4.1&nbsp;&nbsp;</span>Renaming Columns</a></span></li><li><span><a href=\"#Merging\" data-toc-modified-id=\"Merging-4.2\"><span class=\"toc-item-num\">4.2&nbsp;&nbsp;</span>Merging</a></span></li><li><span><a href=\"#Export\" data-toc-modified-id=\"Export-4.3\"><span class=\"toc-item-num\">4.3&nbsp;&nbsp;</span>Export</a></span></li></ul></li><li><span><a href=\"#Questions-+-Tags\" data-toc-modified-id=\"Questions-+-Tags-5\"><span class=\"toc-item-num\">5&nbsp;&nbsp;</span>Questions + Tags</a></span><ul class=\"toc-item\"><li><span><a href=\"#Export\" data-toc-modified-id=\"Export-5.1\"><span class=\"toc-item-num\">5.1&nbsp;&nbsp;</span>Export</a></span></li></ul></li><li><span><a href=\"#Questions-+-Answers\" data-toc-modified-id=\"Questions-+-Answers-6\"><span class=\"toc-item-num\">6&nbsp;&nbsp;</span>Questions + Answers</a></span><ul class=\"toc-item\"><li><span><a href=\"#Export\" data-toc-modified-id=\"Export-6.1\"><span class=\"toc-item-num\">6.1&nbsp;&nbsp;</span>Export</a></span></li></ul></li><li><span><a href=\"#Tags/Questions-+-Answers\" data-toc-modified-id=\"Tags/Questions-+-Answers-7\"><span class=\"toc-item-num\">7&nbsp;&nbsp;</span>Tags/Questions + Answers</a></span><ul class=\"toc-item\"><li><span><a href=\"#Export\" data-toc-modified-id=\"Export-7.1\"><span class=\"toc-item-num\">7.1&nbsp;&nbsp;</span>Export</a></span></li></ul></li><li><span><a href=\"#Questions-with-Tagged-+-Answered-Indicator\" data-toc-modified-id=\"Questions-with-Tagged-+-Answered-Indicator-8\"><span class=\"toc-item-num\">8&nbsp;&nbsp;</span>Questions with Tagged + Answered Indicator</a></span><ul class=\"toc-item\"><li><span><a href=\"#Exporting-for-EDA\" data-toc-modified-id=\"Exporting-for-EDA-8.1\"><span class=\"toc-item-num\">8.1&nbsp;&nbsp;</span>Exporting for EDA</a></span></li></ul></li><li><span><a href=\"#Identifying-Answered-Questions\" data-toc-modified-id=\"Identifying-Answered-Questions-9\"><span class=\"toc-item-num\">9&nbsp;&nbsp;</span>Identifying Answered Questions</a></span><ul class=\"toc-item\"><li><span><a href=\"#Exporting-for-Modeling\" data-toc-modified-id=\"Exporting-for-Modeling-9.1\"><span class=\"toc-item-num\">9.1&nbsp;&nbsp;</span>Exporting for Modeling</a></span></li></ul></li></ul></div>"
   ]
  },
  {
   "cell_type": "code",
   "execution_count": 1,
   "metadata": {},
   "outputs": [],
   "source": [
    "import pandas as pd"
   ]
  },
  {
   "cell_type": "markdown",
   "metadata": {},
   "source": [
    "# Merging DataFrames Notebook"
   ]
  },
  {
   "cell_type": "markdown",
   "metadata": {},
   "source": [
    "This notebook is specifically dedicated to merging DataFrames.\n",
    "\n",
    "For the career village recommender system, we were given 15 CSV's to work with. To make future processing easier and to find significant relationships, we're merging DataFrames relevant to the problem statement.\n",
    "\n",
    "After intially opening and playing around with the dataframes it became apparent that simply merging them wouldn't be very simple. The dataframe columns don't line up well, and when merging information would either be lost or would have to be simulated. In this notebook, I did an initial run at merging the notebooks so that I could delve further into the data with some cleaning and EDA. After cleaning and EDA, I tweaked how I merged the data for optimal information. For best results, it would be beneficial to spend more time fitting the datasets together with minimal data loss and minimal simulated information.\n",
    "\n",
    "For general cleaning, EDA, and modeling I merged:\n",
    "- answers.csv\n",
    "- answer_scores.csv\n",
    "- question_scores.csv\n",
    "- questions.csv\n",
    "- tag_questions.csv\n",
    "- tags.csv\n",
    "- professionals.csv\n",
    "\n",
    "To merge the dataframes, I identified the ID columns as a common data point across the given data sets. I then merged the answer csv's first, the question csv's next, and then the tag csv's. With these three dataframes handy, I merged them into one master dataframe for cleaning, EDA and modeling.\n",
    "\n",
    "NOTE: Dataframes with the \"**\\_df**\" suffix contain the raw data set provided by the Kaggle competition. On the otherhand, dataframes with the prefix \"**df\\_**\" are derived/combined from the raw datasets.\n"
   ]
  },
  {
   "cell_type": "markdown",
   "metadata": {},
   "source": [
    "## CSV's Used"
   ]
  },
  {
   "cell_type": "code",
   "execution_count": 2,
   "metadata": {},
   "outputs": [],
   "source": [
    "# Answers\n",
    "answers_df = pd.read_csv('./Datasets/provided_csvs/answers.csv')\n",
    "answer_score_df = pd.read_csv('./Datasets/provided_csvs/answer_scores.csv')\n",
    "\n",
    "# Questions\n",
    "q_score_df = pd.read_csv('./Datasets/provided_csvs/question_scores.csv')\n",
    "ques_df = pd.read_csv('./Datasets/provided_csvs/questions.csv')\n",
    "\n",
    "# Tags\n",
    "tag_q_df = pd.read_csv('./Datasets/provided_csvs/tag_questions.csv')\n",
    "tags_df = pd.read_csv('./Datasets/provided_csvs/tags.csv')"
   ]
  },
  {
   "cell_type": "markdown",
   "metadata": {},
   "source": [
    "## Unused CSV's\n",
    "\n",
    "Given limited time, I only worked with 7/15 data sets. I did not include the tag_users.csv because it was not compatible with the other data sets and we would have been filling in NaN entries with inaccurate information. The remaining 8 data sets were not used because they were not important for predicting which questions are most likely to get answered. Merging these 8 data sets would also skew the information."
   ]
  },
  {
   "cell_type": "code",
   "execution_count": 3,
   "metadata": {},
   "outputs": [],
   "source": [
    "# #Unused Tags\n",
    "# tag_users_df = pd.read_csv('./Datasets/provided_csvs/tag_users.csv')\n",
    "\n",
    "# # Others\n",
    "# coms_df = pd.read_csv('./Datasets/provided_csvs/comments.csv')\n",
    "# emails_df = pd.read_csv('./Datasets/provided_csvs/emails.csv')\n",
    "# group_mem_df = pd.read_csv('./Datasets/provided_csvs/group_memberships.csv')\n",
    "# groups_df = pd.read_csv('./Datasets/provided_csvs/groups.csv')\n",
    "# school_mem_df = pd.read_csv('./Datasets/provided_csvs/school_memberships.csv')\n",
    "# students_df = pd.read_csv('./Datasets/provided_csvs/students.csv')\n",
    "# matches_df = pd.read_csv('./Datasets/provided_csvs/matches.csv')\n",
    "# pros_df = pd.read_csv('./Datasets/provided_csvs/professionals.csv')"
   ]
  },
  {
   "attachments": {
    "join_methods.png": {
     "image/png": "[encoded data removed]"
    }
   },
   "cell_type": "markdown",
   "metadata": {},
   "source": [
    "## Notebook Approach\n",
    "\n",
    "1. View the dataframe's first few rows\n",
    "\n",
    "2. Check the shape of the dataframe (to enable manual merge confirmation)\n",
    "\n",
    "3. Rename columns\n",
    "    1. avoids column conflicts\n",
    "    2. enables merging on columns with related data\n",
    "\n",
    "5. Merging, all the merges are merged on a column shared by both dataframes with a left merge\n",
    "\n",
    "6. Export to the Datasets folder\n",
    "\n",
    "![join_methods.png](attachment:join_methods.png)"
   ]
  },
  {
   "cell_type": "markdown",
   "metadata": {},
   "source": [
    "# Answers"
   ]
  },
  {
   "cell_type": "markdown",
   "metadata": {},
   "source": [
    "**`answers_df`**"
   ]
  },
  {
   "cell_type": "code",
   "execution_count": 4,
   "metadata": {},
   "outputs": [
    {
     "name": "stdout",
     "output_type": "stream",
     "text": [
      "shape: (51123, 5)\n"
     ]
    },
    {
     "data": {
      "text/html": [
       "<div>\n",
       "<style scoped>\n",
       "    .dataframe tbody tr th:only-of-type {\n",
       "        vertical-align: middle;\n",
       "    }\n",
       "\n",
       "    .dataframe tbody tr th {\n",
       "        vertical-align: top;\n",
       "    }\n",
       "\n",
       "    .dataframe thead th {\n",
       "        text-align: right;\n",
       "    }\n",
       "</style>\n",
       "<table border=\"1\" class=\"dataframe\">\n",
       "  <thead>\n",
       "    <tr style=\"text-align: right;\">\n",
       "      <th></th>\n",
       "      <th>answers_id</th>\n",
       "      <th>answers_author_id</th>\n",
       "      <th>answers_question_id</th>\n",
       "      <th>answers_date_added</th>\n",
       "      <th>answers_body</th>\n",
       "    </tr>\n",
       "  </thead>\n",
       "  <tbody>\n",
       "    <tr>\n",
       "      <th>0</th>\n",
       "      <td>4e5f01128cae4f6d8fd697cec5dca60c</td>\n",
       "      <td>36ff3b3666df400f956f8335cf53e09e</td>\n",
       "      <td>332a511f1569444485cf7a7a556a5e54</td>\n",
       "      <td>2016-04-29 19:40:14 UTC+0000</td>\n",
       "      <td>&lt;p&gt;Hi!&lt;/p&gt;\\n&lt;p&gt;You are asking a very interesti...</td>\n",
       "    </tr>\n",
       "    <tr>\n",
       "      <th>1</th>\n",
       "      <td>ada720538c014e9b8a6dceed09385ee3</td>\n",
       "      <td>2aa47af241bf42a4b874c453f0381bd4</td>\n",
       "      <td>eb80205482e4424cad8f16bc25aa2d9c</td>\n",
       "      <td>2018-05-01 14:19:08 UTC+0000</td>\n",
       "      <td>&lt;p&gt;Hi. I joined the Army after I attended coll...</td>\n",
       "    </tr>\n",
       "  </tbody>\n",
       "</table>\n",
       "</div>"
      ],
      "text/plain": [
       "                         answers_id                 answers_author_id  \\\n",
       "0  4e5f01128cae4f6d8fd697cec5dca60c  36ff3b3666df400f956f8335cf53e09e   \n",
       "1  ada720538c014e9b8a6dceed09385ee3  2aa47af241bf42a4b874c453f0381bd4   \n",
       "\n",
       "                answers_question_id            answers_date_added  \\\n",
       "0  332a511f1569444485cf7a7a556a5e54  2016-04-29 19:40:14 UTC+0000   \n",
       "1  eb80205482e4424cad8f16bc25aa2d9c  2018-05-01 14:19:08 UTC+0000   \n",
       "\n",
       "                                        answers_body  \n",
       "0  <p>Hi!</p>\\n<p>You are asking a very interesti...  \n",
       "1  <p>Hi. I joined the Army after I attended coll...  "
      ]
     },
     "execution_count": 4,
     "metadata": {},
     "output_type": "execute_result"
    }
   ],
   "source": [
    "print(\"shape:\", answers_df.shape)\n",
    "answers_df.head(2)"
   ]
  },
  {
   "cell_type": "markdown",
   "metadata": {},
   "source": [
    "**`answer_scores_df`**"
   ]
  },
  {
   "cell_type": "code",
   "execution_count": 5,
   "metadata": {},
   "outputs": [
    {
     "name": "stdout",
     "output_type": "stream",
     "text": [
      "shape: (51138, 2)\n"
     ]
    },
    {
     "data": {
      "text/html": [
       "<div>\n",
       "<style scoped>\n",
       "    .dataframe tbody tr th:only-of-type {\n",
       "        vertical-align: middle;\n",
       "    }\n",
       "\n",
       "    .dataframe tbody tr th {\n",
       "        vertical-align: top;\n",
       "    }\n",
       "\n",
       "    .dataframe thead th {\n",
       "        text-align: right;\n",
       "    }\n",
       "</style>\n",
       "<table border=\"1\" class=\"dataframe\">\n",
       "  <thead>\n",
       "    <tr style=\"text-align: right;\">\n",
       "      <th></th>\n",
       "      <th>id</th>\n",
       "      <th>score</th>\n",
       "    </tr>\n",
       "  </thead>\n",
       "  <tbody>\n",
       "    <tr>\n",
       "      <th>0</th>\n",
       "      <td>7b2bb0fc0d384e298cffa6afde9cf6ab</td>\n",
       "      <td>1</td>\n",
       "    </tr>\n",
       "    <tr>\n",
       "      <th>1</th>\n",
       "      <td>7640a6e5d5224c8681cc58de860858f4</td>\n",
       "      <td>5</td>\n",
       "    </tr>\n",
       "    <tr>\n",
       "      <th>2</th>\n",
       "      <td>3ce32e236fa9435183b2180fb213375c</td>\n",
       "      <td>2</td>\n",
       "    </tr>\n",
       "    <tr>\n",
       "      <th>3</th>\n",
       "      <td>fa30fe4c016043e382c441a7ef743bfb</td>\n",
       "      <td>0</td>\n",
       "    </tr>\n",
       "    <tr>\n",
       "      <th>4</th>\n",
       "      <td>71229eb293314c8a9e545057ecc32c93</td>\n",
       "      <td>2</td>\n",
       "    </tr>\n",
       "  </tbody>\n",
       "</table>\n",
       "</div>"
      ],
      "text/plain": [
       "                                 id  score\n",
       "0  7b2bb0fc0d384e298cffa6afde9cf6ab      1\n",
       "1  7640a6e5d5224c8681cc58de860858f4      5\n",
       "2  3ce32e236fa9435183b2180fb213375c      2\n",
       "3  fa30fe4c016043e382c441a7ef743bfb      0\n",
       "4  71229eb293314c8a9e545057ecc32c93      2"
      ]
     },
     "execution_count": 5,
     "metadata": {},
     "output_type": "execute_result"
    }
   ],
   "source": [
    "print(\"shape:\", answer_score_df.shape)\n",
    "answer_score_df.head()"
   ]
  },
  {
   "cell_type": "code",
   "execution_count": 7,
   "metadata": {},
   "outputs": [
    {
     "data": {
      "text/plain": [
       "0     37301\n",
       "1      9615\n",
       "2      2660\n",
       "3       854\n",
       "4       362\n",
       "5       159\n",
       "6        67\n",
       "7        45\n",
       "8        28\n",
       "9        13\n",
       "10        8\n",
       "12        7\n",
       "11        5\n",
       "13        3\n",
       "14        3\n",
       "22        1\n",
       "19        1\n",
       "30        1\n",
       "20        1\n",
       "17        1\n",
       "18        1\n",
       "25        1\n",
       "15        1\n",
       "Name: score, dtype: int64"
      ]
     },
     "execution_count": 7,
     "metadata": {},
     "output_type": "execute_result"
    }
   ],
   "source": [
    "answer_score_df['score'].value_counts()"
   ]
  },
  {
   "cell_type": "markdown",
   "metadata": {},
   "source": [
    "## Renaming Columns\n",
    "\n",
    "Renaming columns to enable merging later on:\n",
    "\n",
    "1. `answer_score_df`\n",
    "\n",
    "   * `id` -> `answers_id`\n",
    "\n",
    "   * `score` -> `answers_score`\n",
    "\n",
    "\n",
    "2. `answers_df`\n",
    "\n",
    "   * `answers_question_id` -> `questions_id`"
   ]
  },
  {
   "cell_type": "code",
   "execution_count": 8,
   "metadata": {
    "scrolled": true
   },
   "outputs": [
    {
     "data": {
      "text/html": [
       "<div>\n",
       "<style scoped>\n",
       "    .dataframe tbody tr th:only-of-type {\n",
       "        vertical-align: middle;\n",
       "    }\n",
       "\n",
       "    .dataframe tbody tr th {\n",
       "        vertical-align: top;\n",
       "    }\n",
       "\n",
       "    .dataframe thead th {\n",
       "        text-align: right;\n",
       "    }\n",
       "</style>\n",
       "<table border=\"1\" class=\"dataframe\">\n",
       "  <thead>\n",
       "    <tr style=\"text-align: right;\">\n",
       "      <th></th>\n",
       "      <th>answers_id</th>\n",
       "      <th>answers_score</th>\n",
       "    </tr>\n",
       "  </thead>\n",
       "  <tbody>\n",
       "    <tr>\n",
       "      <th>0</th>\n",
       "      <td>7b2bb0fc0d384e298cffa6afde9cf6ab</td>\n",
       "      <td>1</td>\n",
       "    </tr>\n",
       "  </tbody>\n",
       "</table>\n",
       "</div>"
      ],
      "text/plain": [
       "                         answers_id  answers_score\n",
       "0  7b2bb0fc0d384e298cffa6afde9cf6ab              1"
      ]
     },
     "execution_count": 8,
     "metadata": {},
     "output_type": "execute_result"
    }
   ],
   "source": [
    "answer_score_df.rename(columns={'id': 'answers_id', 'score': 'answers_score'}, inplace=True)\n",
    "answer_score_df.head(1)"
   ]
  },
  {
   "cell_type": "code",
   "execution_count": 9,
   "metadata": {},
   "outputs": [
    {
     "data": {
      "text/html": [
       "<div>\n",
       "<style scoped>\n",
       "    .dataframe tbody tr th:only-of-type {\n",
       "        vertical-align: middle;\n",
       "    }\n",
       "\n",
       "    .dataframe tbody tr th {\n",
       "        vertical-align: top;\n",
       "    }\n",
       "\n",
       "    .dataframe thead th {\n",
       "        text-align: right;\n",
       "    }\n",
       "</style>\n",
       "<table border=\"1\" class=\"dataframe\">\n",
       "  <thead>\n",
       "    <tr style=\"text-align: right;\">\n",
       "      <th></th>\n",
       "      <th>answers_id</th>\n",
       "      <th>answers_author_id</th>\n",
       "      <th>questions_id</th>\n",
       "      <th>answers_date_added</th>\n",
       "      <th>answers_body</th>\n",
       "    </tr>\n",
       "  </thead>\n",
       "  <tbody>\n",
       "    <tr>\n",
       "      <th>0</th>\n",
       "      <td>4e5f01128cae4f6d8fd697cec5dca60c</td>\n",
       "      <td>36ff3b3666df400f956f8335cf53e09e</td>\n",
       "      <td>332a511f1569444485cf7a7a556a5e54</td>\n",
       "      <td>2016-04-29 19:40:14 UTC+0000</td>\n",
       "      <td>&lt;p&gt;Hi!&lt;/p&gt;\\n&lt;p&gt;You are asking a very interesti...</td>\n",
       "    </tr>\n",
       "  </tbody>\n",
       "</table>\n",
       "</div>"
      ],
      "text/plain": [
       "                         answers_id                 answers_author_id  \\\n",
       "0  4e5f01128cae4f6d8fd697cec5dca60c  36ff3b3666df400f956f8335cf53e09e   \n",
       "\n",
       "                       questions_id            answers_date_added  \\\n",
       "0  332a511f1569444485cf7a7a556a5e54  2016-04-29 19:40:14 UTC+0000   \n",
       "\n",
       "                                        answers_body  \n",
       "0  <p>Hi!</p>\\n<p>You are asking a very interesti...  "
      ]
     },
     "execution_count": 9,
     "metadata": {},
     "output_type": "execute_result"
    }
   ],
   "source": [
    "answers_df.rename(columns={'answers_question_id' :'questions_id'}, inplace=True)\n",
    "answers_df.head(1)"
   ]
  },
  {
   "cell_type": "markdown",
   "metadata": {},
   "source": [
    "## Merging\n",
    "\n",
    "Merging `answers_df` and `answer_scores`  dataframes on `answer_id`, how ='left', and saving new dataframe as `df_answer`"
   ]
  },
  {
   "cell_type": "code",
   "execution_count": 10,
   "metadata": {},
   "outputs": [
    {
     "name": "stdout",
     "output_type": "stream",
     "text": [
      "shape: (51123, 6)\n"
     ]
    },
    {
     "data": {
      "text/html": [
       "<div>\n",
       "<style scoped>\n",
       "    .dataframe tbody tr th:only-of-type {\n",
       "        vertical-align: middle;\n",
       "    }\n",
       "\n",
       "    .dataframe tbody tr th {\n",
       "        vertical-align: top;\n",
       "    }\n",
       "\n",
       "    .dataframe thead th {\n",
       "        text-align: right;\n",
       "    }\n",
       "</style>\n",
       "<table border=\"1\" class=\"dataframe\">\n",
       "  <thead>\n",
       "    <tr style=\"text-align: right;\">\n",
       "      <th></th>\n",
       "      <th>answers_id</th>\n",
       "      <th>answers_author_id</th>\n",
       "      <th>questions_id</th>\n",
       "      <th>answers_date_added</th>\n",
       "      <th>answers_body</th>\n",
       "      <th>answers_score</th>\n",
       "    </tr>\n",
       "  </thead>\n",
       "  <tbody>\n",
       "    <tr>\n",
       "      <th>0</th>\n",
       "      <td>4e5f01128cae4f6d8fd697cec5dca60c</td>\n",
       "      <td>36ff3b3666df400f956f8335cf53e09e</td>\n",
       "      <td>332a511f1569444485cf7a7a556a5e54</td>\n",
       "      <td>2016-04-29 19:40:14 UTC+0000</td>\n",
       "      <td>&lt;p&gt;Hi!&lt;/p&gt;\\n&lt;p&gt;You are asking a very interesti...</td>\n",
       "      <td>0.0</td>\n",
       "    </tr>\n",
       "    <tr>\n",
       "      <th>1</th>\n",
       "      <td>ada720538c014e9b8a6dceed09385ee3</td>\n",
       "      <td>2aa47af241bf42a4b874c453f0381bd4</td>\n",
       "      <td>eb80205482e4424cad8f16bc25aa2d9c</td>\n",
       "      <td>2018-05-01 14:19:08 UTC+0000</td>\n",
       "      <td>&lt;p&gt;Hi. I joined the Army after I attended coll...</td>\n",
       "      <td>0.0</td>\n",
       "    </tr>\n",
       "  </tbody>\n",
       "</table>\n",
       "</div>"
      ],
      "text/plain": [
       "                         answers_id                 answers_author_id  \\\n",
       "0  4e5f01128cae4f6d8fd697cec5dca60c  36ff3b3666df400f956f8335cf53e09e   \n",
       "1  ada720538c014e9b8a6dceed09385ee3  2aa47af241bf42a4b874c453f0381bd4   \n",
       "\n",
       "                       questions_id            answers_date_added  \\\n",
       "0  332a511f1569444485cf7a7a556a5e54  2016-04-29 19:40:14 UTC+0000   \n",
       "1  eb80205482e4424cad8f16bc25aa2d9c  2018-05-01 14:19:08 UTC+0000   \n",
       "\n",
       "                                        answers_body  answers_score  \n",
       "0  <p>Hi!</p>\\n<p>You are asking a very interesti...            0.0  \n",
       "1  <p>Hi. I joined the Army after I attended coll...            0.0  "
      ]
     },
     "execution_count": 10,
     "metadata": {},
     "output_type": "execute_result"
    }
   ],
   "source": [
    "df_answer = answers_df.merge(answer_score_df, on='answers_id', how='left')\n",
    "print(\"shape:\", df_answer.shape)\n",
    "df_answer.head(2)"
   ]
  },
  {
   "cell_type": "markdown",
   "metadata": {},
   "source": [
    "---\n",
    "# Questions"
   ]
  },
  {
   "cell_type": "markdown",
   "metadata": {},
   "source": [
    "`q_score_df`"
   ]
  },
  {
   "cell_type": "code",
   "execution_count": 11,
   "metadata": {
    "scrolled": true
   },
   "outputs": [
    {
     "name": "stdout",
     "output_type": "stream",
     "text": [
      "shape: (23928, 2)\n"
     ]
    },
    {
     "data": {
      "text/html": [
       "<div>\n",
       "<style scoped>\n",
       "    .dataframe tbody tr th:only-of-type {\n",
       "        vertical-align: middle;\n",
       "    }\n",
       "\n",
       "    .dataframe tbody tr th {\n",
       "        vertical-align: top;\n",
       "    }\n",
       "\n",
       "    .dataframe thead th {\n",
       "        text-align: right;\n",
       "    }\n",
       "</style>\n",
       "<table border=\"1\" class=\"dataframe\">\n",
       "  <thead>\n",
       "    <tr style=\"text-align: right;\">\n",
       "      <th></th>\n",
       "      <th>id</th>\n",
       "      <th>score</th>\n",
       "    </tr>\n",
       "  </thead>\n",
       "  <tbody>\n",
       "    <tr>\n",
       "      <th>0</th>\n",
       "      <td>38436aadef3d4b608ad089cf53ab0fe7</td>\n",
       "      <td>5</td>\n",
       "    </tr>\n",
       "    <tr>\n",
       "      <th>1</th>\n",
       "      <td>edb8c179c5d64c9cb812a59a32045f55</td>\n",
       "      <td>4</td>\n",
       "    </tr>\n",
       "  </tbody>\n",
       "</table>\n",
       "</div>"
      ],
      "text/plain": [
       "                                 id  score\n",
       "0  38436aadef3d4b608ad089cf53ab0fe7      5\n",
       "1  edb8c179c5d64c9cb812a59a32045f55      4"
      ]
     },
     "execution_count": 11,
     "metadata": {},
     "output_type": "execute_result"
    }
   ],
   "source": [
    "print(\"shape:\", q_score_df.shape)\n",
    "q_score_df.head(2)"
   ]
  },
  {
   "cell_type": "markdown",
   "metadata": {},
   "source": [
    "`ques_df`"
   ]
  },
  {
   "cell_type": "code",
   "execution_count": 12,
   "metadata": {},
   "outputs": [
    {
     "name": "stdout",
     "output_type": "stream",
     "text": [
      "shape: (23931, 5)\n"
     ]
    },
    {
     "data": {
      "text/html": [
       "<div>\n",
       "<style scoped>\n",
       "    .dataframe tbody tr th:only-of-type {\n",
       "        vertical-align: middle;\n",
       "    }\n",
       "\n",
       "    .dataframe tbody tr th {\n",
       "        vertical-align: top;\n",
       "    }\n",
       "\n",
       "    .dataframe thead th {\n",
       "        text-align: right;\n",
       "    }\n",
       "</style>\n",
       "<table border=\"1\" class=\"dataframe\">\n",
       "  <thead>\n",
       "    <tr style=\"text-align: right;\">\n",
       "      <th></th>\n",
       "      <th>questions_id</th>\n",
       "      <th>questions_author_id</th>\n",
       "      <th>questions_date_added</th>\n",
       "      <th>questions_title</th>\n",
       "      <th>questions_body</th>\n",
       "    </tr>\n",
       "  </thead>\n",
       "  <tbody>\n",
       "    <tr>\n",
       "      <th>0</th>\n",
       "      <td>332a511f1569444485cf7a7a556a5e54</td>\n",
       "      <td>8f6f374ffd834d258ab69d376dd998f5</td>\n",
       "      <td>2016-04-26 11:14:26 UTC+0000</td>\n",
       "      <td>Teacher   career   question</td>\n",
       "      <td>What  is  a  maths  teacher?   what  is  a  ma...</td>\n",
       "    </tr>\n",
       "    <tr>\n",
       "      <th>1</th>\n",
       "      <td>eb80205482e4424cad8f16bc25aa2d9c</td>\n",
       "      <td>acccbda28edd4362ab03fb8b6fd2d67b</td>\n",
       "      <td>2016-05-20 16:48:25 UTC+0000</td>\n",
       "      <td>I want to become an army officer. What can I d...</td>\n",
       "      <td>I am Priyanka from Bangalore . Now am in 10th ...</td>\n",
       "    </tr>\n",
       "  </tbody>\n",
       "</table>\n",
       "</div>"
      ],
      "text/plain": [
       "                       questions_id               questions_author_id  \\\n",
       "0  332a511f1569444485cf7a7a556a5e54  8f6f374ffd834d258ab69d376dd998f5   \n",
       "1  eb80205482e4424cad8f16bc25aa2d9c  acccbda28edd4362ab03fb8b6fd2d67b   \n",
       "\n",
       "           questions_date_added  \\\n",
       "0  2016-04-26 11:14:26 UTC+0000   \n",
       "1  2016-05-20 16:48:25 UTC+0000   \n",
       "\n",
       "                                     questions_title  \\\n",
       "0                        Teacher   career   question   \n",
       "1  I want to become an army officer. What can I d...   \n",
       "\n",
       "                                      questions_body  \n",
       "0  What  is  a  maths  teacher?   what  is  a  ma...  \n",
       "1  I am Priyanka from Bangalore . Now am in 10th ...  "
      ]
     },
     "execution_count": 12,
     "metadata": {},
     "output_type": "execute_result"
    }
   ],
   "source": [
    "print(\"shape:\", ques_df.shape)\n",
    "ques_df.head(2)"
   ]
  },
  {
   "cell_type": "markdown",
   "metadata": {},
   "source": [
    "## Renaming Columns\n",
    "\n",
    "Renaming columns to enable merging later on:\n",
    "\n",
    "1. `q_score_df`\n",
    "\n",
    "   * `id` -> `questions_id`\n",
    "\n",
    "   * `score` -> `questions_score`\n",
    "\n",
    "\n",
    "2. `ques_df`\n",
    "\n",
    "   * n/a"
   ]
  },
  {
   "cell_type": "code",
   "execution_count": 13,
   "metadata": {},
   "outputs": [
    {
     "data": {
      "text/html": [
       "<div>\n",
       "<style scoped>\n",
       "    .dataframe tbody tr th:only-of-type {\n",
       "        vertical-align: middle;\n",
       "    }\n",
       "\n",
       "    .dataframe tbody tr th {\n",
       "        vertical-align: top;\n",
       "    }\n",
       "\n",
       "    .dataframe thead th {\n",
       "        text-align: right;\n",
       "    }\n",
       "</style>\n",
       "<table border=\"1\" class=\"dataframe\">\n",
       "  <thead>\n",
       "    <tr style=\"text-align: right;\">\n",
       "      <th></th>\n",
       "      <th>questions_id</th>\n",
       "      <th>questions_score</th>\n",
       "    </tr>\n",
       "  </thead>\n",
       "  <tbody>\n",
       "    <tr>\n",
       "      <th>0</th>\n",
       "      <td>38436aadef3d4b608ad089cf53ab0fe7</td>\n",
       "      <td>5</td>\n",
       "    </tr>\n",
       "  </tbody>\n",
       "</table>\n",
       "</div>"
      ],
      "text/plain": [
       "                       questions_id  questions_score\n",
       "0  38436aadef3d4b608ad089cf53ab0fe7                5"
      ]
     },
     "execution_count": 13,
     "metadata": {},
     "output_type": "execute_result"
    }
   ],
   "source": [
    "q_score_df.rename(columns={'id':'questions_id', 'score': 'questions_score'}, inplace= True)\n",
    "q_score_df.head(1)"
   ]
  },
  {
   "cell_type": "markdown",
   "metadata": {},
   "source": [
    "## Merging\n",
    "\n",
    "Creating a new DataFrame `df_questions` from the merged `ques_df` and `q_score_df`"
   ]
  },
  {
   "cell_type": "code",
   "execution_count": 14,
   "metadata": {},
   "outputs": [
    {
     "name": "stdout",
     "output_type": "stream",
     "text": [
      "shape: (23931, 6)\n"
     ]
    },
    {
     "data": {
      "text/html": [
       "<div>\n",
       "<style scoped>\n",
       "    .dataframe tbody tr th:only-of-type {\n",
       "        vertical-align: middle;\n",
       "    }\n",
       "\n",
       "    .dataframe tbody tr th {\n",
       "        vertical-align: top;\n",
       "    }\n",
       "\n",
       "    .dataframe thead th {\n",
       "        text-align: right;\n",
       "    }\n",
       "</style>\n",
       "<table border=\"1\" class=\"dataframe\">\n",
       "  <thead>\n",
       "    <tr style=\"text-align: right;\">\n",
       "      <th></th>\n",
       "      <th>questions_id</th>\n",
       "      <th>questions_author_id</th>\n",
       "      <th>questions_date_added</th>\n",
       "      <th>questions_title</th>\n",
       "      <th>questions_body</th>\n",
       "      <th>questions_score</th>\n",
       "    </tr>\n",
       "  </thead>\n",
       "  <tbody>\n",
       "    <tr>\n",
       "      <th>0</th>\n",
       "      <td>332a511f1569444485cf7a7a556a5e54</td>\n",
       "      <td>8f6f374ffd834d258ab69d376dd998f5</td>\n",
       "      <td>2016-04-26 11:14:26 UTC+0000</td>\n",
       "      <td>Teacher   career   question</td>\n",
       "      <td>What  is  a  maths  teacher?   what  is  a  ma...</td>\n",
       "      <td>1.0</td>\n",
       "    </tr>\n",
       "    <tr>\n",
       "      <th>1</th>\n",
       "      <td>eb80205482e4424cad8f16bc25aa2d9c</td>\n",
       "      <td>acccbda28edd4362ab03fb8b6fd2d67b</td>\n",
       "      <td>2016-05-20 16:48:25 UTC+0000</td>\n",
       "      <td>I want to become an army officer. What can I d...</td>\n",
       "      <td>I am Priyanka from Bangalore . Now am in 10th ...</td>\n",
       "      <td>5.0</td>\n",
       "    </tr>\n",
       "  </tbody>\n",
       "</table>\n",
       "</div>"
      ],
      "text/plain": [
       "                       questions_id               questions_author_id  \\\n",
       "0  332a511f1569444485cf7a7a556a5e54  8f6f374ffd834d258ab69d376dd998f5   \n",
       "1  eb80205482e4424cad8f16bc25aa2d9c  acccbda28edd4362ab03fb8b6fd2d67b   \n",
       "\n",
       "           questions_date_added  \\\n",
       "0  2016-04-26 11:14:26 UTC+0000   \n",
       "1  2016-05-20 16:48:25 UTC+0000   \n",
       "\n",
       "                                     questions_title  \\\n",
       "0                        Teacher   career   question   \n",
       "1  I want to become an army officer. What can I d...   \n",
       "\n",
       "                                      questions_body  questions_score  \n",
       "0  What  is  a  maths  teacher?   what  is  a  ma...              1.0  \n",
       "1  I am Priyanka from Bangalore . Now am in 10th ...              5.0  "
      ]
     },
     "execution_count": 14,
     "metadata": {},
     "output_type": "execute_result"
    }
   ],
   "source": [
    "df_questions = ques_df.merge(q_score_df, on = 'questions_id', how='left')\n",
    "print(\"shape:\", df_questions.shape)\n",
    "df_questions.head(2)"
   ]
  },
  {
   "cell_type": "markdown",
   "metadata": {},
   "source": [
    "---\n",
    "# Tags"
   ]
  },
  {
   "cell_type": "markdown",
   "metadata": {},
   "source": [
    "Merging the `tag_q_df` and the `tags_df`. We're merging on the `tag_id` column with a left merge. We're doing this to keep all the information in the tag_q_df while matching up (and sometimes duplicating) information in the tags_df. \n",
    "\n",
    "We're not merging the `tag_users` dataframe because:\n",
    "\n",
    "1. the information isn't crucial to later EDA and modeling and \n",
    "\n",
    "2. more importantly, because we'd either be making up information, duplicating rows that shouldn't be duplicated, or losing significant amounts of information. \n",
    "\n",
    "<a href=\"https://pluspng.com/png-tag-3318.html\" title=\"Image from pluspng.com\"><img src=\"https://pluspng.com/img-png/png-tag-big-image-png-2400.png\" alt=\"PNG Tag\" style=\"width:100px;height:100px;\"></a>"
   ]
  },
  {
   "cell_type": "code",
   "execution_count": 15,
   "metadata": {},
   "outputs": [
    {
     "name": "stdout",
     "output_type": "stream",
     "text": [
      "shape: (76553, 2)\n"
     ]
    },
    {
     "data": {
      "text/html": [
       "<div>\n",
       "<style scoped>\n",
       "    .dataframe tbody tr th:only-of-type {\n",
       "        vertical-align: middle;\n",
       "    }\n",
       "\n",
       "    .dataframe tbody tr th {\n",
       "        vertical-align: top;\n",
       "    }\n",
       "\n",
       "    .dataframe thead th {\n",
       "        text-align: right;\n",
       "    }\n",
       "</style>\n",
       "<table border=\"1\" class=\"dataframe\">\n",
       "  <thead>\n",
       "    <tr style=\"text-align: right;\">\n",
       "      <th></th>\n",
       "      <th>tag_questions_tag_id</th>\n",
       "      <th>tag_questions_question_id</th>\n",
       "    </tr>\n",
       "  </thead>\n",
       "  <tbody>\n",
       "    <tr>\n",
       "      <th>0</th>\n",
       "      <td>28930</td>\n",
       "      <td>cb43ebee01364c68ac61d347a393ae39</td>\n",
       "    </tr>\n",
       "    <tr>\n",
       "      <th>1</th>\n",
       "      <td>28930</td>\n",
       "      <td>47f55e85ce944242a5a347ab85a8ffb4</td>\n",
       "    </tr>\n",
       "  </tbody>\n",
       "</table>\n",
       "</div>"
      ],
      "text/plain": [
       "   tag_questions_tag_id         tag_questions_question_id\n",
       "0                 28930  cb43ebee01364c68ac61d347a393ae39\n",
       "1                 28930  47f55e85ce944242a5a347ab85a8ffb4"
      ]
     },
     "execution_count": 15,
     "metadata": {},
     "output_type": "execute_result"
    }
   ],
   "source": [
    "print(\"shape:\", tag_q_df.shape)\n",
    "tag_q_df.head(2)"
   ]
  },
  {
   "cell_type": "code",
   "execution_count": 16,
   "metadata": {},
   "outputs": [
    {
     "name": "stdout",
     "output_type": "stream",
     "text": [
      "shape: (16269, 2)\n"
     ]
    },
    {
     "data": {
      "text/html": [
       "<div>\n",
       "<style scoped>\n",
       "    .dataframe tbody tr th:only-of-type {\n",
       "        vertical-align: middle;\n",
       "    }\n",
       "\n",
       "    .dataframe tbody tr th {\n",
       "        vertical-align: top;\n",
       "    }\n",
       "\n",
       "    .dataframe thead th {\n",
       "        text-align: right;\n",
       "    }\n",
       "</style>\n",
       "<table border=\"1\" class=\"dataframe\">\n",
       "  <thead>\n",
       "    <tr style=\"text-align: right;\">\n",
       "      <th></th>\n",
       "      <th>tags_tag_id</th>\n",
       "      <th>tags_tag_name</th>\n",
       "    </tr>\n",
       "  </thead>\n",
       "  <tbody>\n",
       "    <tr>\n",
       "      <th>0</th>\n",
       "      <td>27490</td>\n",
       "      <td>college</td>\n",
       "    </tr>\n",
       "    <tr>\n",
       "      <th>1</th>\n",
       "      <td>461</td>\n",
       "      <td>computer-science</td>\n",
       "    </tr>\n",
       "  </tbody>\n",
       "</table>\n",
       "</div>"
      ],
      "text/plain": [
       "   tags_tag_id     tags_tag_name\n",
       "0        27490           college\n",
       "1          461  computer-science"
      ]
     },
     "execution_count": 16,
     "metadata": {},
     "output_type": "execute_result"
    }
   ],
   "source": [
    "print(\"shape:\", tags_df.shape)\n",
    "tags_df.head(2)"
   ]
  },
  {
   "cell_type": "markdown",
   "metadata": {},
   "source": [
    "## Renaming Columns\n",
    "\n",
    "Renaming columns so can merge on `tag_id`, provide compatability with the\n",
    "`df_questions` dataframe, and for general clarity.\n",
    "\n",
    "1. `tag_q_df`\n",
    "\n",
    "   * `tag_questions_tag_id` -> `tag_id`\n",
    "\n",
    "   * `tag_questions_question_id` -> `questions_id`\n",
    "\n",
    "\n",
    "2. `tags_df`\n",
    "\n",
    "   * `tags_tag_id` -> `tag_id`\n",
    "\n",
    "   * `tags_tag_name` -> `tag_name`"
   ]
  },
  {
   "cell_type": "code",
   "execution_count": 17,
   "metadata": {},
   "outputs": [
    {
     "data": {
      "text/html": [
       "<div>\n",
       "<style scoped>\n",
       "    .dataframe tbody tr th:only-of-type {\n",
       "        vertical-align: middle;\n",
       "    }\n",
       "\n",
       "    .dataframe tbody tr th {\n",
       "        vertical-align: top;\n",
       "    }\n",
       "\n",
       "    .dataframe thead th {\n",
       "        text-align: right;\n",
       "    }\n",
       "</style>\n",
       "<table border=\"1\" class=\"dataframe\">\n",
       "  <thead>\n",
       "    <tr style=\"text-align: right;\">\n",
       "      <th></th>\n",
       "      <th>tag_id</th>\n",
       "      <th>questions_id</th>\n",
       "    </tr>\n",
       "  </thead>\n",
       "  <tbody>\n",
       "    <tr>\n",
       "      <th>0</th>\n",
       "      <td>28930</td>\n",
       "      <td>cb43ebee01364c68ac61d347a393ae39</td>\n",
       "    </tr>\n",
       "  </tbody>\n",
       "</table>\n",
       "</div>"
      ],
      "text/plain": [
       "   tag_id                      questions_id\n",
       "0   28930  cb43ebee01364c68ac61d347a393ae39"
      ]
     },
     "execution_count": 17,
     "metadata": {},
     "output_type": "execute_result"
    }
   ],
   "source": [
    "tag_q_df.rename(columns ={'tag_questions_tag_id': 'tag_id', 'tag_questions_question_id': 'questions_id'}, inplace = True)\n",
    "tag_q_df.head(1)"
   ]
  },
  {
   "cell_type": "code",
   "execution_count": 18,
   "metadata": {},
   "outputs": [
    {
     "data": {
      "text/html": [
       "<div>\n",
       "<style scoped>\n",
       "    .dataframe tbody tr th:only-of-type {\n",
       "        vertical-align: middle;\n",
       "    }\n",
       "\n",
       "    .dataframe tbody tr th {\n",
       "        vertical-align: top;\n",
       "    }\n",
       "\n",
       "    .dataframe thead th {\n",
       "        text-align: right;\n",
       "    }\n",
       "</style>\n",
       "<table border=\"1\" class=\"dataframe\">\n",
       "  <thead>\n",
       "    <tr style=\"text-align: right;\">\n",
       "      <th></th>\n",
       "      <th>tag_id</th>\n",
       "      <th>tag_name</th>\n",
       "    </tr>\n",
       "  </thead>\n",
       "  <tbody>\n",
       "    <tr>\n",
       "      <th>0</th>\n",
       "      <td>27490</td>\n",
       "      <td>college</td>\n",
       "    </tr>\n",
       "  </tbody>\n",
       "</table>\n",
       "</div>"
      ],
      "text/plain": [
       "   tag_id tag_name\n",
       "0   27490  college"
      ]
     },
     "execution_count": 18,
     "metadata": {},
     "output_type": "execute_result"
    }
   ],
   "source": [
    "tags_df.rename(columns={\"tags_tag_id\": \"tag_id\",  'tags_tag_name':'tag_name'}, inplace=True)\n",
    "tags_df.head(1)"
   ]
  },
  {
   "cell_type": "markdown",
   "metadata": {},
   "source": [
    "## Merging\n",
    "\n",
    "Merging the tag columns on `tag_id`. We doing a left merge because we want to keep all the information in the `tag_q_df` and don't mind if the `tags_df` is duplicated or deleted."
   ]
  },
  {
   "cell_type": "code",
   "execution_count": 19,
   "metadata": {},
   "outputs": [],
   "source": [
    "df_tags = tag_q_df.merge(tags_df, on = \"tag_id\", how=\"left\")"
   ]
  },
  {
   "cell_type": "code",
   "execution_count": 20,
   "metadata": {},
   "outputs": [
    {
     "name": "stdout",
     "output_type": "stream",
     "text": [
      "shape: (76553, 3)\n"
     ]
    },
    {
     "data": {
      "text/html": [
       "<div>\n",
       "<style scoped>\n",
       "    .dataframe tbody tr th:only-of-type {\n",
       "        vertical-align: middle;\n",
       "    }\n",
       "\n",
       "    .dataframe tbody tr th {\n",
       "        vertical-align: top;\n",
       "    }\n",
       "\n",
       "    .dataframe thead th {\n",
       "        text-align: right;\n",
       "    }\n",
       "</style>\n",
       "<table border=\"1\" class=\"dataframe\">\n",
       "  <thead>\n",
       "    <tr style=\"text-align: right;\">\n",
       "      <th></th>\n",
       "      <th>tag_id</th>\n",
       "      <th>questions_id</th>\n",
       "      <th>tag_name</th>\n",
       "    </tr>\n",
       "  </thead>\n",
       "  <tbody>\n",
       "    <tr>\n",
       "      <th>0</th>\n",
       "      <td>28930</td>\n",
       "      <td>cb43ebee01364c68ac61d347a393ae39</td>\n",
       "      <td>minor</td>\n",
       "    </tr>\n",
       "    <tr>\n",
       "      <th>1</th>\n",
       "      <td>28930</td>\n",
       "      <td>47f55e85ce944242a5a347ab85a8ffb4</td>\n",
       "      <td>minor</td>\n",
       "    </tr>\n",
       "  </tbody>\n",
       "</table>\n",
       "</div>"
      ],
      "text/plain": [
       "   tag_id                      questions_id tag_name\n",
       "0   28930  cb43ebee01364c68ac61d347a393ae39    minor\n",
       "1   28930  47f55e85ce944242a5a347ab85a8ffb4    minor"
      ]
     },
     "execution_count": 20,
     "metadata": {},
     "output_type": "execute_result"
    }
   ],
   "source": [
    "print(\"shape:\", df_tags.shape)\n",
    "df_tags.head(2)"
   ]
  },
  {
   "cell_type": "code",
   "execution_count": 21,
   "metadata": {},
   "outputs": [
    {
     "data": {
      "text/html": [
       "<div>\n",
       "<style scoped>\n",
       "    .dataframe tbody tr th:only-of-type {\n",
       "        vertical-align: middle;\n",
       "    }\n",
       "\n",
       "    .dataframe tbody tr th {\n",
       "        vertical-align: top;\n",
       "    }\n",
       "\n",
       "    .dataframe thead th {\n",
       "        text-align: right;\n",
       "    }\n",
       "</style>\n",
       "<table border=\"1\" class=\"dataframe\">\n",
       "  <thead>\n",
       "    <tr style=\"text-align: right;\">\n",
       "      <th></th>\n",
       "      <th>tag_id</th>\n",
       "      <th>questions_id</th>\n",
       "      <th>tag_name</th>\n",
       "    </tr>\n",
       "  </thead>\n",
       "  <tbody>\n",
       "    <tr>\n",
       "      <th>76548</th>\n",
       "      <td>39183</td>\n",
       "      <td>72affe86909d49c09761a1d376476c92</td>\n",
       "      <td>austria</td>\n",
       "    </tr>\n",
       "    <tr>\n",
       "      <th>76549</th>\n",
       "      <td>39248</td>\n",
       "      <td>5b86153f2b6c46a4801bb39e10e01281</td>\n",
       "      <td>weldernation</td>\n",
       "    </tr>\n",
       "    <tr>\n",
       "      <th>76550</th>\n",
       "      <td>39249</td>\n",
       "      <td>0946a81d511b48c58376fd59058d3b12</td>\n",
       "      <td>welder</td>\n",
       "    </tr>\n",
       "    <tr>\n",
       "      <th>76551</th>\n",
       "      <td>39249</td>\n",
       "      <td>b4de8ccfcd874481bfc80ceacb0caac8</td>\n",
       "      <td>welder</td>\n",
       "    </tr>\n",
       "    <tr>\n",
       "      <th>76552</th>\n",
       "      <td>39250</td>\n",
       "      <td>0946a81d511b48c58376fd59058d3b12</td>\n",
       "      <td>nation</td>\n",
       "    </tr>\n",
       "  </tbody>\n",
       "</table>\n",
       "</div>"
      ],
      "text/plain": [
       "       tag_id                      questions_id      tag_name\n",
       "76548   39183  72affe86909d49c09761a1d376476c92       austria\n",
       "76549   39248  5b86153f2b6c46a4801bb39e10e01281  weldernation\n",
       "76550   39249  0946a81d511b48c58376fd59058d3b12        welder\n",
       "76551   39249  b4de8ccfcd874481bfc80ceacb0caac8        welder\n",
       "76552   39250  0946a81d511b48c58376fd59058d3b12        nation"
      ]
     },
     "execution_count": 21,
     "metadata": {},
     "output_type": "execute_result"
    }
   ],
   "source": [
    "df_tags.tail()"
   ]
  },
  {
   "cell_type": "markdown",
   "metadata": {},
   "source": [
    "## Export\n",
    "\n",
    "This will enable EDA on the tags without messing up the other dataframes or merged data"
   ]
  },
  {
   "cell_type": "code",
   "execution_count": 22,
   "metadata": {},
   "outputs": [],
   "source": [
    "df_tags.to_csv('./Datasets/df_merged_tag.csv',index=False)"
   ]
  },
  {
   "cell_type": "markdown",
   "metadata": {},
   "source": [
    "---"
   ]
  },
  {
   "cell_type": "markdown",
   "metadata": {},
   "source": [
    "# Questions + Tags\n",
    "\n",
    "`df_questions` + `df_tags`"
   ]
  },
  {
   "cell_type": "code",
   "execution_count": 23,
   "metadata": {},
   "outputs": [
    {
     "name": "stdout",
     "output_type": "stream",
     "text": [
      "df_qeustions shape: (23931, 6)\n"
     ]
    },
    {
     "data": {
      "text/html": [
       "<div>\n",
       "<style scoped>\n",
       "    .dataframe tbody tr th:only-of-type {\n",
       "        vertical-align: middle;\n",
       "    }\n",
       "\n",
       "    .dataframe tbody tr th {\n",
       "        vertical-align: top;\n",
       "    }\n",
       "\n",
       "    .dataframe thead th {\n",
       "        text-align: right;\n",
       "    }\n",
       "</style>\n",
       "<table border=\"1\" class=\"dataframe\">\n",
       "  <thead>\n",
       "    <tr style=\"text-align: right;\">\n",
       "      <th></th>\n",
       "      <th>questions_id</th>\n",
       "      <th>questions_author_id</th>\n",
       "      <th>questions_date_added</th>\n",
       "      <th>questions_title</th>\n",
       "      <th>questions_body</th>\n",
       "      <th>questions_score</th>\n",
       "    </tr>\n",
       "  </thead>\n",
       "  <tbody>\n",
       "    <tr>\n",
       "      <th>0</th>\n",
       "      <td>332a511f1569444485cf7a7a556a5e54</td>\n",
       "      <td>8f6f374ffd834d258ab69d376dd998f5</td>\n",
       "      <td>2016-04-26 11:14:26 UTC+0000</td>\n",
       "      <td>Teacher   career   question</td>\n",
       "      <td>What  is  a  maths  teacher?   what  is  a  ma...</td>\n",
       "      <td>1.0</td>\n",
       "    </tr>\n",
       "  </tbody>\n",
       "</table>\n",
       "</div>"
      ],
      "text/plain": [
       "                       questions_id               questions_author_id  \\\n",
       "0  332a511f1569444485cf7a7a556a5e54  8f6f374ffd834d258ab69d376dd998f5   \n",
       "\n",
       "           questions_date_added              questions_title  \\\n",
       "0  2016-04-26 11:14:26 UTC+0000  Teacher   career   question   \n",
       "\n",
       "                                      questions_body  questions_score  \n",
       "0  What  is  a  maths  teacher?   what  is  a  ma...              1.0  "
      ]
     },
     "execution_count": 23,
     "metadata": {},
     "output_type": "execute_result"
    }
   ],
   "source": [
    "print(\"df_qeustions shape:\", df_questions.shape)\n",
    "df_questions.head(1)"
   ]
  },
  {
   "cell_type": "code",
   "execution_count": 24,
   "metadata": {},
   "outputs": [
    {
     "name": "stdout",
     "output_type": "stream",
     "text": [
      "df_tags shape: (76553, 3)\n"
     ]
    },
    {
     "data": {
      "text/html": [
       "<div>\n",
       "<style scoped>\n",
       "    .dataframe tbody tr th:only-of-type {\n",
       "        vertical-align: middle;\n",
       "    }\n",
       "\n",
       "    .dataframe tbody tr th {\n",
       "        vertical-align: top;\n",
       "    }\n",
       "\n",
       "    .dataframe thead th {\n",
       "        text-align: right;\n",
       "    }\n",
       "</style>\n",
       "<table border=\"1\" class=\"dataframe\">\n",
       "  <thead>\n",
       "    <tr style=\"text-align: right;\">\n",
       "      <th></th>\n",
       "      <th>tag_id</th>\n",
       "      <th>questions_id</th>\n",
       "      <th>tag_name</th>\n",
       "    </tr>\n",
       "  </thead>\n",
       "  <tbody>\n",
       "    <tr>\n",
       "      <th>0</th>\n",
       "      <td>28930</td>\n",
       "      <td>cb43ebee01364c68ac61d347a393ae39</td>\n",
       "      <td>minor</td>\n",
       "    </tr>\n",
       "  </tbody>\n",
       "</table>\n",
       "</div>"
      ],
      "text/plain": [
       "   tag_id                      questions_id tag_name\n",
       "0   28930  cb43ebee01364c68ac61d347a393ae39    minor"
      ]
     },
     "execution_count": 24,
     "metadata": {},
     "output_type": "execute_result"
    }
   ],
   "source": [
    "print(\"df_tags shape:\", df_tags.shape)\n",
    "df_tags.head(1)"
   ]
  },
  {
   "cell_type": "code",
   "execution_count": 25,
   "metadata": {},
   "outputs": [
    {
     "name": "stdout",
     "output_type": "stream",
     "text": [
      "df_tag_ques shape: (77196, 8)\n"
     ]
    },
    {
     "data": {
      "text/html": [
       "<div>\n",
       "<style scoped>\n",
       "    .dataframe tbody tr th:only-of-type {\n",
       "        vertical-align: middle;\n",
       "    }\n",
       "\n",
       "    .dataframe tbody tr th {\n",
       "        vertical-align: top;\n",
       "    }\n",
       "\n",
       "    .dataframe thead th {\n",
       "        text-align: right;\n",
       "    }\n",
       "</style>\n",
       "<table border=\"1\" class=\"dataframe\">\n",
       "  <thead>\n",
       "    <tr style=\"text-align: right;\">\n",
       "      <th></th>\n",
       "      <th>questions_id</th>\n",
       "      <th>questions_author_id</th>\n",
       "      <th>questions_date_added</th>\n",
       "      <th>questions_title</th>\n",
       "      <th>questions_body</th>\n",
       "      <th>questions_score</th>\n",
       "      <th>tag_id</th>\n",
       "      <th>tag_name</th>\n",
       "    </tr>\n",
       "  </thead>\n",
       "  <tbody>\n",
       "    <tr>\n",
       "      <th>0</th>\n",
       "      <td>332a511f1569444485cf7a7a556a5e54</td>\n",
       "      <td>8f6f374ffd834d258ab69d376dd998f5</td>\n",
       "      <td>2016-04-26 11:14:26 UTC+0000</td>\n",
       "      <td>Teacher   career   question</td>\n",
       "      <td>What  is  a  maths  teacher?   what  is  a  ma...</td>\n",
       "      <td>1.0</td>\n",
       "      <td>14147.0</td>\n",
       "      <td>lecture</td>\n",
       "    </tr>\n",
       "    <tr>\n",
       "      <th>1</th>\n",
       "      <td>332a511f1569444485cf7a7a556a5e54</td>\n",
       "      <td>8f6f374ffd834d258ab69d376dd998f5</td>\n",
       "      <td>2016-04-26 11:14:26 UTC+0000</td>\n",
       "      <td>Teacher   career   question</td>\n",
       "      <td>What  is  a  maths  teacher?   what  is  a  ma...</td>\n",
       "      <td>1.0</td>\n",
       "      <td>27490.0</td>\n",
       "      <td>college</td>\n",
       "    </tr>\n",
       "  </tbody>\n",
       "</table>\n",
       "</div>"
      ],
      "text/plain": [
       "                       questions_id               questions_author_id  \\\n",
       "0  332a511f1569444485cf7a7a556a5e54  8f6f374ffd834d258ab69d376dd998f5   \n",
       "1  332a511f1569444485cf7a7a556a5e54  8f6f374ffd834d258ab69d376dd998f5   \n",
       "\n",
       "           questions_date_added              questions_title  \\\n",
       "0  2016-04-26 11:14:26 UTC+0000  Teacher   career   question   \n",
       "1  2016-04-26 11:14:26 UTC+0000  Teacher   career   question   \n",
       "\n",
       "                                      questions_body  questions_score  \\\n",
       "0  What  is  a  maths  teacher?   what  is  a  ma...              1.0   \n",
       "1  What  is  a  maths  teacher?   what  is  a  ma...              1.0   \n",
       "\n",
       "    tag_id tag_name  \n",
       "0  14147.0  lecture  \n",
       "1  27490.0  college  "
      ]
     },
     "execution_count": 25,
     "metadata": {},
     "output_type": "execute_result"
    }
   ],
   "source": [
    "df_tag_ques = df_questions.merge(df_tags, on = 'questions_id', how='left')\n",
    "print(\"df_tag_ques shape:\", df_tag_ques.shape)\n",
    "df_tag_ques.head(2)"
   ]
  },
  {
   "cell_type": "markdown",
   "metadata": {},
   "source": [
    "## Export"
   ]
  },
  {
   "cell_type": "code",
   "execution_count": 26,
   "metadata": {},
   "outputs": [],
   "source": [
    "df_tag_ques.to_csv(\"./Datasets/df_tag_ques.csv\", index=False)"
   ]
  },
  {
   "cell_type": "markdown",
   "metadata": {},
   "source": [
    "# Questions + Answers"
   ]
  },
  {
   "cell_type": "code",
   "execution_count": 27,
   "metadata": {},
   "outputs": [
    {
     "name": "stdout",
     "output_type": "stream",
     "text": [
      "df_questions shape: (23931, 6)\n"
     ]
    },
    {
     "data": {
      "text/html": [
       "<div>\n",
       "<style scoped>\n",
       "    .dataframe tbody tr th:only-of-type {\n",
       "        vertical-align: middle;\n",
       "    }\n",
       "\n",
       "    .dataframe tbody tr th {\n",
       "        vertical-align: top;\n",
       "    }\n",
       "\n",
       "    .dataframe thead th {\n",
       "        text-align: right;\n",
       "    }\n",
       "</style>\n",
       "<table border=\"1\" class=\"dataframe\">\n",
       "  <thead>\n",
       "    <tr style=\"text-align: right;\">\n",
       "      <th></th>\n",
       "      <th>questions_id</th>\n",
       "      <th>questions_author_id</th>\n",
       "      <th>questions_date_added</th>\n",
       "      <th>questions_title</th>\n",
       "      <th>questions_body</th>\n",
       "      <th>questions_score</th>\n",
       "    </tr>\n",
       "  </thead>\n",
       "  <tbody>\n",
       "    <tr>\n",
       "      <th>0</th>\n",
       "      <td>332a511f1569444485cf7a7a556a5e54</td>\n",
       "      <td>8f6f374ffd834d258ab69d376dd998f5</td>\n",
       "      <td>2016-04-26 11:14:26 UTC+0000</td>\n",
       "      <td>Teacher   career   question</td>\n",
       "      <td>What  is  a  maths  teacher?   what  is  a  ma...</td>\n",
       "      <td>1.0</td>\n",
       "    </tr>\n",
       "    <tr>\n",
       "      <th>1</th>\n",
       "      <td>eb80205482e4424cad8f16bc25aa2d9c</td>\n",
       "      <td>acccbda28edd4362ab03fb8b6fd2d67b</td>\n",
       "      <td>2016-05-20 16:48:25 UTC+0000</td>\n",
       "      <td>I want to become an army officer. What can I d...</td>\n",
       "      <td>I am Priyanka from Bangalore . Now am in 10th ...</td>\n",
       "      <td>5.0</td>\n",
       "    </tr>\n",
       "  </tbody>\n",
       "</table>\n",
       "</div>"
      ],
      "text/plain": [
       "                       questions_id               questions_author_id  \\\n",
       "0  332a511f1569444485cf7a7a556a5e54  8f6f374ffd834d258ab69d376dd998f5   \n",
       "1  eb80205482e4424cad8f16bc25aa2d9c  acccbda28edd4362ab03fb8b6fd2d67b   \n",
       "\n",
       "           questions_date_added  \\\n",
       "0  2016-04-26 11:14:26 UTC+0000   \n",
       "1  2016-05-20 16:48:25 UTC+0000   \n",
       "\n",
       "                                     questions_title  \\\n",
       "0                        Teacher   career   question   \n",
       "1  I want to become an army officer. What can I d...   \n",
       "\n",
       "                                      questions_body  questions_score  \n",
       "0  What  is  a  maths  teacher?   what  is  a  ma...              1.0  \n",
       "1  I am Priyanka from Bangalore . Now am in 10th ...              5.0  "
      ]
     },
     "execution_count": 27,
     "metadata": {},
     "output_type": "execute_result"
    }
   ],
   "source": [
    "print(\"df_questions shape:\", df_questions.shape)\n",
    "df_questions.head(2)"
   ]
  },
  {
   "cell_type": "code",
   "execution_count": 28,
   "metadata": {},
   "outputs": [
    {
     "name": "stdout",
     "output_type": "stream",
     "text": [
      "df_answer shape: (51123, 6)\n"
     ]
    },
    {
     "data": {
      "text/html": [
       "<div>\n",
       "<style scoped>\n",
       "    .dataframe tbody tr th:only-of-type {\n",
       "        vertical-align: middle;\n",
       "    }\n",
       "\n",
       "    .dataframe tbody tr th {\n",
       "        vertical-align: top;\n",
       "    }\n",
       "\n",
       "    .dataframe thead th {\n",
       "        text-align: right;\n",
       "    }\n",
       "</style>\n",
       "<table border=\"1\" class=\"dataframe\">\n",
       "  <thead>\n",
       "    <tr style=\"text-align: right;\">\n",
       "      <th></th>\n",
       "      <th>answers_id</th>\n",
       "      <th>answers_author_id</th>\n",
       "      <th>questions_id</th>\n",
       "      <th>answers_date_added</th>\n",
       "      <th>answers_body</th>\n",
       "      <th>answers_score</th>\n",
       "    </tr>\n",
       "  </thead>\n",
       "  <tbody>\n",
       "    <tr>\n",
       "      <th>0</th>\n",
       "      <td>4e5f01128cae4f6d8fd697cec5dca60c</td>\n",
       "      <td>36ff3b3666df400f956f8335cf53e09e</td>\n",
       "      <td>332a511f1569444485cf7a7a556a5e54</td>\n",
       "      <td>2016-04-29 19:40:14 UTC+0000</td>\n",
       "      <td>&lt;p&gt;Hi!&lt;/p&gt;\\n&lt;p&gt;You are asking a very interesti...</td>\n",
       "      <td>0.0</td>\n",
       "    </tr>\n",
       "    <tr>\n",
       "      <th>1</th>\n",
       "      <td>ada720538c014e9b8a6dceed09385ee3</td>\n",
       "      <td>2aa47af241bf42a4b874c453f0381bd4</td>\n",
       "      <td>eb80205482e4424cad8f16bc25aa2d9c</td>\n",
       "      <td>2018-05-01 14:19:08 UTC+0000</td>\n",
       "      <td>&lt;p&gt;Hi. I joined the Army after I attended coll...</td>\n",
       "      <td>0.0</td>\n",
       "    </tr>\n",
       "  </tbody>\n",
       "</table>\n",
       "</div>"
      ],
      "text/plain": [
       "                         answers_id                 answers_author_id  \\\n",
       "0  4e5f01128cae4f6d8fd697cec5dca60c  36ff3b3666df400f956f8335cf53e09e   \n",
       "1  ada720538c014e9b8a6dceed09385ee3  2aa47af241bf42a4b874c453f0381bd4   \n",
       "\n",
       "                       questions_id            answers_date_added  \\\n",
       "0  332a511f1569444485cf7a7a556a5e54  2016-04-29 19:40:14 UTC+0000   \n",
       "1  eb80205482e4424cad8f16bc25aa2d9c  2018-05-01 14:19:08 UTC+0000   \n",
       "\n",
       "                                        answers_body  answers_score  \n",
       "0  <p>Hi!</p>\\n<p>You are asking a very interesti...            0.0  \n",
       "1  <p>Hi. I joined the Army after I attended coll...            0.0  "
      ]
     },
     "execution_count": 28,
     "metadata": {},
     "output_type": "execute_result"
    }
   ],
   "source": [
    "print(\"df_answer shape:\", df_answer.shape)\n",
    "df_answer.head(2)"
   ]
  },
  {
   "cell_type": "code",
   "execution_count": 29,
   "metadata": {},
   "outputs": [
    {
     "name": "stdout",
     "output_type": "stream",
     "text": [
      "shape: (51944, 11)\n"
     ]
    },
    {
     "data": {
      "text/html": [
       "<div>\n",
       "<style scoped>\n",
       "    .dataframe tbody tr th:only-of-type {\n",
       "        vertical-align: middle;\n",
       "    }\n",
       "\n",
       "    .dataframe tbody tr th {\n",
       "        vertical-align: top;\n",
       "    }\n",
       "\n",
       "    .dataframe thead th {\n",
       "        text-align: right;\n",
       "    }\n",
       "</style>\n",
       "<table border=\"1\" class=\"dataframe\">\n",
       "  <thead>\n",
       "    <tr style=\"text-align: right;\">\n",
       "      <th></th>\n",
       "      <th>questions_id</th>\n",
       "      <th>questions_author_id</th>\n",
       "      <th>questions_date_added</th>\n",
       "      <th>questions_title</th>\n",
       "      <th>questions_body</th>\n",
       "      <th>questions_score</th>\n",
       "      <th>answers_id</th>\n",
       "      <th>answers_author_id</th>\n",
       "      <th>answers_date_added</th>\n",
       "      <th>answers_body</th>\n",
       "      <th>answers_score</th>\n",
       "    </tr>\n",
       "  </thead>\n",
       "  <tbody>\n",
       "    <tr>\n",
       "      <th>0</th>\n",
       "      <td>332a511f1569444485cf7a7a556a5e54</td>\n",
       "      <td>8f6f374ffd834d258ab69d376dd998f5</td>\n",
       "      <td>2016-04-26 11:14:26 UTC+0000</td>\n",
       "      <td>Teacher   career   question</td>\n",
       "      <td>What  is  a  maths  teacher?   what  is  a  ma...</td>\n",
       "      <td>1.0</td>\n",
       "      <td>4e5f01128cae4f6d8fd697cec5dca60c</td>\n",
       "      <td>36ff3b3666df400f956f8335cf53e09e</td>\n",
       "      <td>2016-04-29 19:40:14 UTC+0000</td>\n",
       "      <td>&lt;p&gt;Hi!&lt;/p&gt;\\n&lt;p&gt;You are asking a very interesti...</td>\n",
       "      <td>0.0</td>\n",
       "    </tr>\n",
       "    <tr>\n",
       "      <th>1</th>\n",
       "      <td>eb80205482e4424cad8f16bc25aa2d9c</td>\n",
       "      <td>acccbda28edd4362ab03fb8b6fd2d67b</td>\n",
       "      <td>2016-05-20 16:48:25 UTC+0000</td>\n",
       "      <td>I want to become an army officer. What can I d...</td>\n",
       "      <td>I am Priyanka from Bangalore . Now am in 10th ...</td>\n",
       "      <td>5.0</td>\n",
       "      <td>ada720538c014e9b8a6dceed09385ee3</td>\n",
       "      <td>2aa47af241bf42a4b874c453f0381bd4</td>\n",
       "      <td>2018-05-01 14:19:08 UTC+0000</td>\n",
       "      <td>&lt;p&gt;Hi. I joined the Army after I attended coll...</td>\n",
       "      <td>0.0</td>\n",
       "    </tr>\n",
       "  </tbody>\n",
       "</table>\n",
       "</div>"
      ],
      "text/plain": [
       "                       questions_id               questions_author_id  \\\n",
       "0  332a511f1569444485cf7a7a556a5e54  8f6f374ffd834d258ab69d376dd998f5   \n",
       "1  eb80205482e4424cad8f16bc25aa2d9c  acccbda28edd4362ab03fb8b6fd2d67b   \n",
       "\n",
       "           questions_date_added  \\\n",
       "0  2016-04-26 11:14:26 UTC+0000   \n",
       "1  2016-05-20 16:48:25 UTC+0000   \n",
       "\n",
       "                                     questions_title  \\\n",
       "0                        Teacher   career   question   \n",
       "1  I want to become an army officer. What can I d...   \n",
       "\n",
       "                                      questions_body  questions_score  \\\n",
       "0  What  is  a  maths  teacher?   what  is  a  ma...              1.0   \n",
       "1  I am Priyanka from Bangalore . Now am in 10th ...              5.0   \n",
       "\n",
       "                         answers_id                 answers_author_id  \\\n",
       "0  4e5f01128cae4f6d8fd697cec5dca60c  36ff3b3666df400f956f8335cf53e09e   \n",
       "1  ada720538c014e9b8a6dceed09385ee3  2aa47af241bf42a4b874c453f0381bd4   \n",
       "\n",
       "             answers_date_added  \\\n",
       "0  2016-04-29 19:40:14 UTC+0000   \n",
       "1  2018-05-01 14:19:08 UTC+0000   \n",
       "\n",
       "                                        answers_body  answers_score  \n",
       "0  <p>Hi!</p>\\n<p>You are asking a very interesti...            0.0  \n",
       "1  <p>Hi. I joined the Army after I attended coll...            0.0  "
      ]
     },
     "execution_count": 29,
     "metadata": {},
     "output_type": "execute_result"
    }
   ],
   "source": [
    "df_qa_merged = df_questions.merge(df_answer, on='questions_id', how='left')\n",
    "\n",
    "print(\"shape:\", df_qa_merged.shape)\n",
    "df_qa_merged.head(2)"
   ]
  },
  {
   "cell_type": "markdown",
   "metadata": {},
   "source": [
    "## Export"
   ]
  },
  {
   "cell_type": "code",
   "execution_count": 30,
   "metadata": {},
   "outputs": [],
   "source": [
    "df_qa_merged.to_csv(\"./Datasets/df_qa_merged.csv\", index=False)"
   ]
  },
  {
   "cell_type": "markdown",
   "metadata": {},
   "source": [
    "# Tags/Questions + Answers\n",
    "\n",
    "`df_tag_ques` + `df_answer` "
   ]
  },
  {
   "cell_type": "code",
   "execution_count": 31,
   "metadata": {},
   "outputs": [
    {
     "name": "stdout",
     "output_type": "stream",
     "text": [
      "df_answer shape (51123, 6)\n"
     ]
    },
    {
     "data": {
      "text/html": [
       "<div>\n",
       "<style scoped>\n",
       "    .dataframe tbody tr th:only-of-type {\n",
       "        vertical-align: middle;\n",
       "    }\n",
       "\n",
       "    .dataframe tbody tr th {\n",
       "        vertical-align: top;\n",
       "    }\n",
       "\n",
       "    .dataframe thead th {\n",
       "        text-align: right;\n",
       "    }\n",
       "</style>\n",
       "<table border=\"1\" class=\"dataframe\">\n",
       "  <thead>\n",
       "    <tr style=\"text-align: right;\">\n",
       "      <th></th>\n",
       "      <th>answers_id</th>\n",
       "      <th>answers_author_id</th>\n",
       "      <th>questions_id</th>\n",
       "      <th>answers_date_added</th>\n",
       "      <th>answers_body</th>\n",
       "      <th>answers_score</th>\n",
       "    </tr>\n",
       "  </thead>\n",
       "  <tbody>\n",
       "    <tr>\n",
       "      <th>0</th>\n",
       "      <td>4e5f01128cae4f6d8fd697cec5dca60c</td>\n",
       "      <td>36ff3b3666df400f956f8335cf53e09e</td>\n",
       "      <td>332a511f1569444485cf7a7a556a5e54</td>\n",
       "      <td>2016-04-29 19:40:14 UTC+0000</td>\n",
       "      <td>&lt;p&gt;Hi!&lt;/p&gt;\\n&lt;p&gt;You are asking a very interesti...</td>\n",
       "      <td>0.0</td>\n",
       "    </tr>\n",
       "  </tbody>\n",
       "</table>\n",
       "</div>"
      ],
      "text/plain": [
       "                         answers_id                 answers_author_id  \\\n",
       "0  4e5f01128cae4f6d8fd697cec5dca60c  36ff3b3666df400f956f8335cf53e09e   \n",
       "\n",
       "                       questions_id            answers_date_added  \\\n",
       "0  332a511f1569444485cf7a7a556a5e54  2016-04-29 19:40:14 UTC+0000   \n",
       "\n",
       "                                        answers_body  answers_score  \n",
       "0  <p>Hi!</p>\\n<p>You are asking a very interesti...            0.0  "
      ]
     },
     "execution_count": 31,
     "metadata": {},
     "output_type": "execute_result"
    }
   ],
   "source": [
    "print(\"df_answer shape\", df_answer.shape)\n",
    "df_answer.head(1)"
   ]
  },
  {
   "cell_type": "code",
   "execution_count": 32,
   "metadata": {},
   "outputs": [
    {
     "name": "stdout",
     "output_type": "stream",
     "text": [
      "df_tag_ques shape (77196, 8)\n"
     ]
    },
    {
     "data": {
      "text/html": [
       "<div>\n",
       "<style scoped>\n",
       "    .dataframe tbody tr th:only-of-type {\n",
       "        vertical-align: middle;\n",
       "    }\n",
       "\n",
       "    .dataframe tbody tr th {\n",
       "        vertical-align: top;\n",
       "    }\n",
       "\n",
       "    .dataframe thead th {\n",
       "        text-align: right;\n",
       "    }\n",
       "</style>\n",
       "<table border=\"1\" class=\"dataframe\">\n",
       "  <thead>\n",
       "    <tr style=\"text-align: right;\">\n",
       "      <th></th>\n",
       "      <th>questions_id</th>\n",
       "      <th>questions_author_id</th>\n",
       "      <th>questions_date_added</th>\n",
       "      <th>questions_title</th>\n",
       "      <th>questions_body</th>\n",
       "      <th>questions_score</th>\n",
       "      <th>tag_id</th>\n",
       "      <th>tag_name</th>\n",
       "    </tr>\n",
       "  </thead>\n",
       "  <tbody>\n",
       "    <tr>\n",
       "      <th>0</th>\n",
       "      <td>332a511f1569444485cf7a7a556a5e54</td>\n",
       "      <td>8f6f374ffd834d258ab69d376dd998f5</td>\n",
       "      <td>2016-04-26 11:14:26 UTC+0000</td>\n",
       "      <td>Teacher   career   question</td>\n",
       "      <td>What  is  a  maths  teacher?   what  is  a  ma...</td>\n",
       "      <td>1.0</td>\n",
       "      <td>14147.0</td>\n",
       "      <td>lecture</td>\n",
       "    </tr>\n",
       "  </tbody>\n",
       "</table>\n",
       "</div>"
      ],
      "text/plain": [
       "                       questions_id               questions_author_id  \\\n",
       "0  332a511f1569444485cf7a7a556a5e54  8f6f374ffd834d258ab69d376dd998f5   \n",
       "\n",
       "           questions_date_added              questions_title  \\\n",
       "0  2016-04-26 11:14:26 UTC+0000  Teacher   career   question   \n",
       "\n",
       "                                      questions_body  questions_score  \\\n",
       "0  What  is  a  maths  teacher?   what  is  a  ma...              1.0   \n",
       "\n",
       "    tag_id tag_name  \n",
       "0  14147.0  lecture  "
      ]
     },
     "execution_count": 32,
     "metadata": {},
     "output_type": "execute_result"
    }
   ],
   "source": [
    "print(\"df_tag_ques shape\", df_tag_ques.shape)\n",
    "df_tag_ques.head(1)"
   ]
  },
  {
   "cell_type": "code",
   "execution_count": 33,
   "metadata": {},
   "outputs": [
    {
     "name": "stdout",
     "output_type": "stream",
     "text": [
      "df_merged shape: (180376, 13)\n"
     ]
    },
    {
     "data": {
      "text/html": [
       "<div>\n",
       "<style scoped>\n",
       "    .dataframe tbody tr th:only-of-type {\n",
       "        vertical-align: middle;\n",
       "    }\n",
       "\n",
       "    .dataframe tbody tr th {\n",
       "        vertical-align: top;\n",
       "    }\n",
       "\n",
       "    .dataframe thead th {\n",
       "        text-align: right;\n",
       "    }\n",
       "</style>\n",
       "<table border=\"1\" class=\"dataframe\">\n",
       "  <thead>\n",
       "    <tr style=\"text-align: right;\">\n",
       "      <th></th>\n",
       "      <th>questions_id</th>\n",
       "      <th>questions_author_id</th>\n",
       "      <th>questions_date_added</th>\n",
       "      <th>questions_title</th>\n",
       "      <th>questions_body</th>\n",
       "      <th>questions_score</th>\n",
       "      <th>tag_id</th>\n",
       "      <th>tag_name</th>\n",
       "      <th>answers_id</th>\n",
       "      <th>answers_author_id</th>\n",
       "      <th>answers_date_added</th>\n",
       "      <th>answers_body</th>\n",
       "      <th>answers_score</th>\n",
       "    </tr>\n",
       "  </thead>\n",
       "  <tbody>\n",
       "    <tr>\n",
       "      <th>0</th>\n",
       "      <td>332a511f1569444485cf7a7a556a5e54</td>\n",
       "      <td>8f6f374ffd834d258ab69d376dd998f5</td>\n",
       "      <td>2016-04-26 11:14:26 UTC+0000</td>\n",
       "      <td>Teacher   career   question</td>\n",
       "      <td>What  is  a  maths  teacher?   what  is  a  ma...</td>\n",
       "      <td>1.0</td>\n",
       "      <td>14147.0</td>\n",
       "      <td>lecture</td>\n",
       "      <td>4e5f01128cae4f6d8fd697cec5dca60c</td>\n",
       "      <td>36ff3b3666df400f956f8335cf53e09e</td>\n",
       "      <td>2016-04-29 19:40:14 UTC+0000</td>\n",
       "      <td>&lt;p&gt;Hi!&lt;/p&gt;\\n&lt;p&gt;You are asking a very interesti...</td>\n",
       "      <td>0.0</td>\n",
       "    </tr>\n",
       "    <tr>\n",
       "      <th>1</th>\n",
       "      <td>332a511f1569444485cf7a7a556a5e54</td>\n",
       "      <td>8f6f374ffd834d258ab69d376dd998f5</td>\n",
       "      <td>2016-04-26 11:14:26 UTC+0000</td>\n",
       "      <td>Teacher   career   question</td>\n",
       "      <td>What  is  a  maths  teacher?   what  is  a  ma...</td>\n",
       "      <td>1.0</td>\n",
       "      <td>27490.0</td>\n",
       "      <td>college</td>\n",
       "      <td>4e5f01128cae4f6d8fd697cec5dca60c</td>\n",
       "      <td>36ff3b3666df400f956f8335cf53e09e</td>\n",
       "      <td>2016-04-29 19:40:14 UTC+0000</td>\n",
       "      <td>&lt;p&gt;Hi!&lt;/p&gt;\\n&lt;p&gt;You are asking a very interesti...</td>\n",
       "      <td>0.0</td>\n",
       "    </tr>\n",
       "  </tbody>\n",
       "</table>\n",
       "</div>"
      ],
      "text/plain": [
       "                       questions_id               questions_author_id  \\\n",
       "0  332a511f1569444485cf7a7a556a5e54  8f6f374ffd834d258ab69d376dd998f5   \n",
       "1  332a511f1569444485cf7a7a556a5e54  8f6f374ffd834d258ab69d376dd998f5   \n",
       "\n",
       "           questions_date_added              questions_title  \\\n",
       "0  2016-04-26 11:14:26 UTC+0000  Teacher   career   question   \n",
       "1  2016-04-26 11:14:26 UTC+0000  Teacher   career   question   \n",
       "\n",
       "                                      questions_body  questions_score  \\\n",
       "0  What  is  a  maths  teacher?   what  is  a  ma...              1.0   \n",
       "1  What  is  a  maths  teacher?   what  is  a  ma...              1.0   \n",
       "\n",
       "    tag_id tag_name                        answers_id  \\\n",
       "0  14147.0  lecture  4e5f01128cae4f6d8fd697cec5dca60c   \n",
       "1  27490.0  college  4e5f01128cae4f6d8fd697cec5dca60c   \n",
       "\n",
       "                  answers_author_id            answers_date_added  \\\n",
       "0  36ff3b3666df400f956f8335cf53e09e  2016-04-29 19:40:14 UTC+0000   \n",
       "1  36ff3b3666df400f956f8335cf53e09e  2016-04-29 19:40:14 UTC+0000   \n",
       "\n",
       "                                        answers_body  answers_score  \n",
       "0  <p>Hi!</p>\\n<p>You are asking a very interesti...            0.0  \n",
       "1  <p>Hi!</p>\\n<p>You are asking a very interesti...            0.0  "
      ]
     },
     "execution_count": 33,
     "metadata": {},
     "output_type": "execute_result"
    }
   ],
   "source": [
    "df_merged = df_tag_ques.merge(df_answer, on='questions_id', how='left')\n",
    "\n",
    "print(\"df_merged shape:\", df_merged.shape)\n",
    "df_merged.head(2)"
   ]
  },
  {
   "cell_type": "markdown",
   "metadata": {},
   "source": [
    "## Export"
   ]
  },
  {
   "cell_type": "code",
   "execution_count": 34,
   "metadata": {},
   "outputs": [],
   "source": [
    "df_merged.to_csv(\"./Datasets/df_merged.csv\", index=False)"
   ]
  },
  {
   "cell_type": "markdown",
   "metadata": {},
   "source": [
    "---"
   ]
  },
  {
   "cell_type": "markdown",
   "metadata": {},
   "source": [
    "# Questions with Tagged + Answered Indicator\n",
    "\n",
    "Instead, we replace tag information with a column indicating if a tag was present on the question.\n",
    "\n",
    "(This approach taken because after some initial EDA, it was observed that a good dataframe to EDA on would be `answers_df`, `ques_df`, and `tag_q_df`)"
   ]
  },
  {
   "cell_type": "code",
   "execution_count": 35,
   "metadata": {},
   "outputs": [
    {
     "name": "stdout",
     "output_type": "stream",
     "text": [
      "shape: (23110, 2)\n"
     ]
    },
    {
     "data": {
      "text/html": [
       "<div>\n",
       "<style scoped>\n",
       "    .dataframe tbody tr th:only-of-type {\n",
       "        vertical-align: middle;\n",
       "    }\n",
       "\n",
       "    .dataframe tbody tr th {\n",
       "        vertical-align: top;\n",
       "    }\n",
       "\n",
       "    .dataframe thead th {\n",
       "        text-align: right;\n",
       "    }\n",
       "</style>\n",
       "<table border=\"1\" class=\"dataframe\">\n",
       "  <thead>\n",
       "    <tr style=\"text-align: right;\">\n",
       "      <th></th>\n",
       "      <th>questions_id</th>\n",
       "      <th>was_answered</th>\n",
       "    </tr>\n",
       "  </thead>\n",
       "  <tbody>\n",
       "    <tr>\n",
       "      <th>0</th>\n",
       "      <td>332a511f1569444485cf7a7a556a5e54</td>\n",
       "      <td>1</td>\n",
       "    </tr>\n",
       "    <tr>\n",
       "      <th>1</th>\n",
       "      <td>eb80205482e4424cad8f16bc25aa2d9c</td>\n",
       "      <td>1</td>\n",
       "    </tr>\n",
       "  </tbody>\n",
       "</table>\n",
       "</div>"
      ],
      "text/plain": [
       "                       questions_id  was_answered\n",
       "0  332a511f1569444485cf7a7a556a5e54             1\n",
       "1  eb80205482e4424cad8f16bc25aa2d9c             1"
      ]
     },
     "execution_count": 35,
     "metadata": {},
     "output_type": "execute_result"
    }
   ],
   "source": [
    "# duplicating answers_df so that operations are not performed on raw data\n",
    "df_has_answer = answers_df\n",
    "\n",
    "# create the was_answered indicator (all will be 1's for now)\n",
    "df_has_answer['was_answered'] = df_has_answer['answers_id'].notnull().astype(int)\n",
    "\n",
    "# remove the answers_id as it is not necessary for questions EDA\n",
    "df_has_answer = df_has_answer.drop(columns = ['answers_id', 'answers_author_id','answers_date_added', 'answers_body'])\n",
    "\n",
    "# remove duplicates (i.e. based on questions_id column) so that left merge\n",
    "#   does not dramatically increase size of dataframe due to duplicates\n",
    "#   (there are multiple answers per question)\n",
    "df_has_answer = df_has_answer.drop_duplicates()\n",
    "\n",
    "print(\"shape:\", df_has_answer.shape)\n",
    "df_has_answer.head(2)"
   ]
  },
  {
   "cell_type": "code",
   "execution_count": 36,
   "metadata": {},
   "outputs": [
    {
     "name": "stdout",
     "output_type": "stream",
     "text": [
      "shape: (23931, 5)\n"
     ]
    },
    {
     "data": {
      "text/html": [
       "<div>\n",
       "<style scoped>\n",
       "    .dataframe tbody tr th:only-of-type {\n",
       "        vertical-align: middle;\n",
       "    }\n",
       "\n",
       "    .dataframe tbody tr th {\n",
       "        vertical-align: top;\n",
       "    }\n",
       "\n",
       "    .dataframe thead th {\n",
       "        text-align: right;\n",
       "    }\n",
       "</style>\n",
       "<table border=\"1\" class=\"dataframe\">\n",
       "  <thead>\n",
       "    <tr style=\"text-align: right;\">\n",
       "      <th></th>\n",
       "      <th>questions_id</th>\n",
       "      <th>questions_author_id</th>\n",
       "      <th>questions_date_added</th>\n",
       "      <th>questions_title</th>\n",
       "      <th>questions_body</th>\n",
       "    </tr>\n",
       "  </thead>\n",
       "  <tbody>\n",
       "    <tr>\n",
       "      <th>0</th>\n",
       "      <td>332a511f1569444485cf7a7a556a5e54</td>\n",
       "      <td>8f6f374ffd834d258ab69d376dd998f5</td>\n",
       "      <td>2016-04-26 11:14:26 UTC+0000</td>\n",
       "      <td>Teacher   career   question</td>\n",
       "      <td>What  is  a  maths  teacher?   what  is  a  ma...</td>\n",
       "    </tr>\n",
       "    <tr>\n",
       "      <th>1</th>\n",
       "      <td>eb80205482e4424cad8f16bc25aa2d9c</td>\n",
       "      <td>acccbda28edd4362ab03fb8b6fd2d67b</td>\n",
       "      <td>2016-05-20 16:48:25 UTC+0000</td>\n",
       "      <td>I want to become an army officer. What can I d...</td>\n",
       "      <td>I am Priyanka from Bangalore . Now am in 10th ...</td>\n",
       "    </tr>\n",
       "  </tbody>\n",
       "</table>\n",
       "</div>"
      ],
      "text/plain": [
       "                       questions_id               questions_author_id  \\\n",
       "0  332a511f1569444485cf7a7a556a5e54  8f6f374ffd834d258ab69d376dd998f5   \n",
       "1  eb80205482e4424cad8f16bc25aa2d9c  acccbda28edd4362ab03fb8b6fd2d67b   \n",
       "\n",
       "           questions_date_added  \\\n",
       "0  2016-04-26 11:14:26 UTC+0000   \n",
       "1  2016-05-20 16:48:25 UTC+0000   \n",
       "\n",
       "                                     questions_title  \\\n",
       "0                        Teacher   career   question   \n",
       "1  I want to become an army officer. What can I d...   \n",
       "\n",
       "                                      questions_body  \n",
       "0  What  is  a  maths  teacher?   what  is  a  ma...  \n",
       "1  I am Priyanka from Bangalore . Now am in 10th ...  "
      ]
     },
     "execution_count": 36,
     "metadata": {},
     "output_type": "execute_result"
    }
   ],
   "source": [
    "print(\"shape:\", ques_df.shape)\n",
    "ques_df.head(2)"
   ]
  },
  {
   "cell_type": "code",
   "execution_count": 37,
   "metadata": {},
   "outputs": [
    {
     "name": "stdout",
     "output_type": "stream",
     "text": [
      "(23931, 6)\n"
     ]
    },
    {
     "data": {
      "text/html": [
       "<div>\n",
       "<style scoped>\n",
       "    .dataframe tbody tr th:only-of-type {\n",
       "        vertical-align: middle;\n",
       "    }\n",
       "\n",
       "    .dataframe tbody tr th {\n",
       "        vertical-align: top;\n",
       "    }\n",
       "\n",
       "    .dataframe thead th {\n",
       "        text-align: right;\n",
       "    }\n",
       "</style>\n",
       "<table border=\"1\" class=\"dataframe\">\n",
       "  <thead>\n",
       "    <tr style=\"text-align: right;\">\n",
       "      <th></th>\n",
       "      <th>questions_id</th>\n",
       "      <th>questions_author_id</th>\n",
       "      <th>questions_date_added</th>\n",
       "      <th>questions_title</th>\n",
       "      <th>questions_body</th>\n",
       "      <th>was_answered</th>\n",
       "    </tr>\n",
       "  </thead>\n",
       "  <tbody>\n",
       "    <tr>\n",
       "      <th>0</th>\n",
       "      <td>332a511f1569444485cf7a7a556a5e54</td>\n",
       "      <td>8f6f374ffd834d258ab69d376dd998f5</td>\n",
       "      <td>2016-04-26 11:14:26 UTC+0000</td>\n",
       "      <td>Teacher   career   question</td>\n",
       "      <td>What  is  a  maths  teacher?   what  is  a  ma...</td>\n",
       "      <td>1.0</td>\n",
       "    </tr>\n",
       "    <tr>\n",
       "      <th>1</th>\n",
       "      <td>eb80205482e4424cad8f16bc25aa2d9c</td>\n",
       "      <td>acccbda28edd4362ab03fb8b6fd2d67b</td>\n",
       "      <td>2016-05-20 16:48:25 UTC+0000</td>\n",
       "      <td>I want to become an army officer. What can I d...</td>\n",
       "      <td>I am Priyanka from Bangalore . Now am in 10th ...</td>\n",
       "      <td>1.0</td>\n",
       "    </tr>\n",
       "  </tbody>\n",
       "</table>\n",
       "</div>"
      ],
      "text/plain": [
       "                       questions_id               questions_author_id  \\\n",
       "0  332a511f1569444485cf7a7a556a5e54  8f6f374ffd834d258ab69d376dd998f5   \n",
       "1  eb80205482e4424cad8f16bc25aa2d9c  acccbda28edd4362ab03fb8b6fd2d67b   \n",
       "\n",
       "           questions_date_added  \\\n",
       "0  2016-04-26 11:14:26 UTC+0000   \n",
       "1  2016-05-20 16:48:25 UTC+0000   \n",
       "\n",
       "                                     questions_title  \\\n",
       "0                        Teacher   career   question   \n",
       "1  I want to become an army officer. What can I d...   \n",
       "\n",
       "                                      questions_body  was_answered  \n",
       "0  What  is  a  maths  teacher?   what  is  a  ma...           1.0  \n",
       "1  I am Priyanka from Bangalore . Now am in 10th ...           1.0  "
      ]
     },
     "execution_count": 37,
     "metadata": {},
     "output_type": "execute_result"
    }
   ],
   "source": [
    "df_qa = ques_df.merge(df_has_answer, on = 'questions_id', how = 'left')\n",
    "\n",
    "print(df_qa.shape)\n",
    "df_qa.head(2)"
   ]
  },
  {
   "cell_type": "code",
   "execution_count": 38,
   "metadata": {},
   "outputs": [
    {
     "data": {
      "text/plain": [
       "questions_id              0\n",
       "questions_author_id       0\n",
       "questions_date_added      0\n",
       "questions_title           0\n",
       "questions_body            0\n",
       "was_answered            821\n",
       "dtype: int64"
      ]
     },
     "execution_count": 38,
     "metadata": {},
     "output_type": "execute_result"
    }
   ],
   "source": [
    "df_qa.isnull().sum()"
   ]
  },
  {
   "cell_type": "code",
   "execution_count": 39,
   "metadata": {},
   "outputs": [
    {
     "name": "stdout",
     "output_type": "stream",
     "text": [
      "shape: (23931, 6)\n"
     ]
    },
    {
     "data": {
      "text/html": [
       "<div>\n",
       "<style scoped>\n",
       "    .dataframe tbody tr th:only-of-type {\n",
       "        vertical-align: middle;\n",
       "    }\n",
       "\n",
       "    .dataframe tbody tr th {\n",
       "        vertical-align: top;\n",
       "    }\n",
       "\n",
       "    .dataframe thead th {\n",
       "        text-align: right;\n",
       "    }\n",
       "</style>\n",
       "<table border=\"1\" class=\"dataframe\">\n",
       "  <thead>\n",
       "    <tr style=\"text-align: right;\">\n",
       "      <th></th>\n",
       "      <th>questions_id</th>\n",
       "      <th>questions_author_id</th>\n",
       "      <th>questions_date_added</th>\n",
       "      <th>questions_title</th>\n",
       "      <th>questions_body</th>\n",
       "      <th>was_answered</th>\n",
       "    </tr>\n",
       "  </thead>\n",
       "  <tbody>\n",
       "    <tr>\n",
       "      <th>0</th>\n",
       "      <td>332a511f1569444485cf7a7a556a5e54</td>\n",
       "      <td>8f6f374ffd834d258ab69d376dd998f5</td>\n",
       "      <td>2016-04-26 11:14:26 UTC+0000</td>\n",
       "      <td>Teacher   career   question</td>\n",
       "      <td>What  is  a  maths  teacher?   what  is  a  ma...</td>\n",
       "      <td>1.0</td>\n",
       "    </tr>\n",
       "    <tr>\n",
       "      <th>1</th>\n",
       "      <td>eb80205482e4424cad8f16bc25aa2d9c</td>\n",
       "      <td>acccbda28edd4362ab03fb8b6fd2d67b</td>\n",
       "      <td>2016-05-20 16:48:25 UTC+0000</td>\n",
       "      <td>I want to become an army officer. What can I d...</td>\n",
       "      <td>I am Priyanka from Bangalore . Now am in 10th ...</td>\n",
       "      <td>1.0</td>\n",
       "    </tr>\n",
       "  </tbody>\n",
       "</table>\n",
       "</div>"
      ],
      "text/plain": [
       "                       questions_id               questions_author_id  \\\n",
       "0  332a511f1569444485cf7a7a556a5e54  8f6f374ffd834d258ab69d376dd998f5   \n",
       "1  eb80205482e4424cad8f16bc25aa2d9c  acccbda28edd4362ab03fb8b6fd2d67b   \n",
       "\n",
       "           questions_date_added  \\\n",
       "0  2016-04-26 11:14:26 UTC+0000   \n",
       "1  2016-05-20 16:48:25 UTC+0000   \n",
       "\n",
       "                                     questions_title  \\\n",
       "0                        Teacher   career   question   \n",
       "1  I want to become an army officer. What can I d...   \n",
       "\n",
       "                                      questions_body  was_answered  \n",
       "0  What  is  a  maths  teacher?   what  is  a  ma...           1.0  \n",
       "1  I am Priyanka from Bangalore . Now am in 10th ...           1.0  "
      ]
     },
     "execution_count": 39,
     "metadata": {},
     "output_type": "execute_result"
    }
   ],
   "source": [
    "print(\"shape:\", df_qa.shape)\n",
    "df_qa.head(2)"
   ]
  },
  {
   "cell_type": "code",
   "execution_count": 41,
   "metadata": {},
   "outputs": [
    {
     "name": "stdout",
     "output_type": "stream",
     "text": [
      "shape: (76553, 2)\n"
     ]
    },
    {
     "data": {
      "text/html": [
       "<div>\n",
       "<style scoped>\n",
       "    .dataframe tbody tr th:only-of-type {\n",
       "        vertical-align: middle;\n",
       "    }\n",
       "\n",
       "    .dataframe tbody tr th {\n",
       "        vertical-align: top;\n",
       "    }\n",
       "\n",
       "    .dataframe thead th {\n",
       "        text-align: right;\n",
       "    }\n",
       "</style>\n",
       "<table border=\"1\" class=\"dataframe\">\n",
       "  <thead>\n",
       "    <tr style=\"text-align: right;\">\n",
       "      <th></th>\n",
       "      <th>tag_id</th>\n",
       "      <th>questions_id</th>\n",
       "    </tr>\n",
       "  </thead>\n",
       "  <tbody>\n",
       "    <tr>\n",
       "      <th>0</th>\n",
       "      <td>28930</td>\n",
       "      <td>cb43ebee01364c68ac61d347a393ae39</td>\n",
       "    </tr>\n",
       "    <tr>\n",
       "      <th>1</th>\n",
       "      <td>28930</td>\n",
       "      <td>47f55e85ce944242a5a347ab85a8ffb4</td>\n",
       "    </tr>\n",
       "    <tr>\n",
       "      <th>2</th>\n",
       "      <td>28930</td>\n",
       "      <td>ccc30a033a0f4dfdb2eb987012f25792</td>\n",
       "    </tr>\n",
       "    <tr>\n",
       "      <th>3</th>\n",
       "      <td>28930</td>\n",
       "      <td>e30b274e48d741f7bf50eb5e7171a3c0</td>\n",
       "    </tr>\n",
       "    <tr>\n",
       "      <th>4</th>\n",
       "      <td>28930</td>\n",
       "      <td>3d22742052df4989b311b4195cbb0f1a</td>\n",
       "    </tr>\n",
       "  </tbody>\n",
       "</table>\n",
       "</div>"
      ],
      "text/plain": [
       "   tag_id                      questions_id\n",
       "0   28930  cb43ebee01364c68ac61d347a393ae39\n",
       "1   28930  47f55e85ce944242a5a347ab85a8ffb4\n",
       "2   28930  ccc30a033a0f4dfdb2eb987012f25792\n",
       "3   28930  e30b274e48d741f7bf50eb5e7171a3c0\n",
       "4   28930  3d22742052df4989b311b4195cbb0f1a"
      ]
     },
     "execution_count": 41,
     "metadata": {},
     "output_type": "execute_result"
    }
   ],
   "source": [
    "print(\"shape:\", tag_q_df.shape)\n",
    "tag_q_df.head()"
   ]
  },
  {
   "cell_type": "code",
   "execution_count": 43,
   "metadata": {},
   "outputs": [
    {
     "name": "stdout",
     "output_type": "stream",
     "text": [
      "shape: (23288, 2)\n"
     ]
    },
    {
     "data": {
      "text/html": [
       "<div>\n",
       "<style scoped>\n",
       "    .dataframe tbody tr th:only-of-type {\n",
       "        vertical-align: middle;\n",
       "    }\n",
       "\n",
       "    .dataframe tbody tr th {\n",
       "        vertical-align: top;\n",
       "    }\n",
       "\n",
       "    .dataframe thead th {\n",
       "        text-align: right;\n",
       "    }\n",
       "</style>\n",
       "<table border=\"1\" class=\"dataframe\">\n",
       "  <thead>\n",
       "    <tr style=\"text-align: right;\">\n",
       "      <th></th>\n",
       "      <th>questions_id</th>\n",
       "      <th>has_tag</th>\n",
       "    </tr>\n",
       "  </thead>\n",
       "  <tbody>\n",
       "    <tr>\n",
       "      <th>0</th>\n",
       "      <td>cb43ebee01364c68ac61d347a393ae39</td>\n",
       "      <td>1</td>\n",
       "    </tr>\n",
       "    <tr>\n",
       "      <th>1</th>\n",
       "      <td>47f55e85ce944242a5a347ab85a8ffb4</td>\n",
       "      <td>1</td>\n",
       "    </tr>\n",
       "  </tbody>\n",
       "</table>\n",
       "</div>"
      ],
      "text/plain": [
       "                       questions_id  has_tag\n",
       "0  cb43ebee01364c68ac61d347a393ae39        1\n",
       "1  47f55e85ce944242a5a347ab85a8ffb4        1"
      ]
     },
     "execution_count": 43,
     "metadata": {},
     "output_type": "execute_result"
    }
   ],
   "source": [
    "# duplicating tag_q_df so that operations are not performed on raw data\n",
    "df_has_tag = tag_q_df\n",
    "\n",
    "# create the has_tag indicator (all will be 1's for now)\n",
    "df_has_tag['has_tag'] = df_has_tag['tag_id'].notnull().astype(int)\n",
    "\n",
    "# remove the tag_id as it is not necessary for questions EDA\n",
    "df_has_tag = df_has_tag.drop(columns = 'tag_id')\n",
    "\n",
    "# remove duplicates (i.e. based on questions_id column) so that left merge\n",
    "#   does not dramatically increase size of dataframe due to duplicates\n",
    "#   (there are multiple tags per question)\n",
    "df_has_tag = df_has_tag.drop_duplicates()\n",
    "\n",
    "print(\"shape:\", df_has_tag.shape)\n",
    "df_has_tag.head(2)"
   ]
  },
  {
   "cell_type": "code",
   "execution_count": 44,
   "metadata": {},
   "outputs": [
    {
     "name": "stdout",
     "output_type": "stream",
     "text": [
      "shape: (23931, 7)\n"
     ]
    },
    {
     "data": {
      "text/html": [
       "<div>\n",
       "<style scoped>\n",
       "    .dataframe tbody tr th:only-of-type {\n",
       "        vertical-align: middle;\n",
       "    }\n",
       "\n",
       "    .dataframe tbody tr th {\n",
       "        vertical-align: top;\n",
       "    }\n",
       "\n",
       "    .dataframe thead th {\n",
       "        text-align: right;\n",
       "    }\n",
       "</style>\n",
       "<table border=\"1\" class=\"dataframe\">\n",
       "  <thead>\n",
       "    <tr style=\"text-align: right;\">\n",
       "      <th></th>\n",
       "      <th>questions_id</th>\n",
       "      <th>questions_author_id</th>\n",
       "      <th>questions_date_added</th>\n",
       "      <th>questions_title</th>\n",
       "      <th>questions_body</th>\n",
       "      <th>was_answered</th>\n",
       "      <th>has_tag</th>\n",
       "    </tr>\n",
       "  </thead>\n",
       "  <tbody>\n",
       "    <tr>\n",
       "      <th>0</th>\n",
       "      <td>332a511f1569444485cf7a7a556a5e54</td>\n",
       "      <td>8f6f374ffd834d258ab69d376dd998f5</td>\n",
       "      <td>2016-04-26 11:14:26 UTC+0000</td>\n",
       "      <td>Teacher   career   question</td>\n",
       "      <td>What  is  a  maths  teacher?   what  is  a  ma...</td>\n",
       "      <td>1.0</td>\n",
       "      <td>1.0</td>\n",
       "    </tr>\n",
       "    <tr>\n",
       "      <th>1</th>\n",
       "      <td>eb80205482e4424cad8f16bc25aa2d9c</td>\n",
       "      <td>acccbda28edd4362ab03fb8b6fd2d67b</td>\n",
       "      <td>2016-05-20 16:48:25 UTC+0000</td>\n",
       "      <td>I want to become an army officer. What can I d...</td>\n",
       "      <td>I am Priyanka from Bangalore . Now am in 10th ...</td>\n",
       "      <td>1.0</td>\n",
       "      <td>1.0</td>\n",
       "    </tr>\n",
       "  </tbody>\n",
       "</table>\n",
       "</div>"
      ],
      "text/plain": [
       "                       questions_id               questions_author_id  \\\n",
       "0  332a511f1569444485cf7a7a556a5e54  8f6f374ffd834d258ab69d376dd998f5   \n",
       "1  eb80205482e4424cad8f16bc25aa2d9c  acccbda28edd4362ab03fb8b6fd2d67b   \n",
       "\n",
       "           questions_date_added  \\\n",
       "0  2016-04-26 11:14:26 UTC+0000   \n",
       "1  2016-05-20 16:48:25 UTC+0000   \n",
       "\n",
       "                                     questions_title  \\\n",
       "0                        Teacher   career   question   \n",
       "1  I want to become an army officer. What can I d...   \n",
       "\n",
       "                                      questions_body  was_answered  has_tag  \n",
       "0  What  is  a  maths  teacher?   what  is  a  ma...           1.0      1.0  \n",
       "1  I am Priyanka from Bangalore . Now am in 10th ...           1.0      1.0  "
      ]
     },
     "execution_count": 44,
     "metadata": {},
     "output_type": "execute_result"
    }
   ],
   "source": [
    "df_ques_with_ans_tag_indicator = df_qa.merge(df_has_tag, on=\"questions_id\", how='left')\n",
    "print(\"shape:\", df_ques_with_ans_tag_indicator.shape)\n",
    "df_ques_with_ans_tag_indicator.head(2)"
   ]
  },
  {
   "cell_type": "code",
   "execution_count": 46,
   "metadata": {},
   "outputs": [
    {
     "data": {
      "text/plain": [
       "questions_id              0\n",
       "questions_author_id       0\n",
       "questions_date_added      0\n",
       "questions_title           0\n",
       "questions_body            0\n",
       "was_answered            821\n",
       "has_tag                 643\n",
       "dtype: int64"
      ]
     },
     "execution_count": 46,
     "metadata": {},
     "output_type": "execute_result"
    }
   ],
   "source": [
    "df_ques_with_ans_tag_indicator.isnull().sum()"
   ]
  },
  {
   "cell_type": "markdown",
   "metadata": {},
   "source": [
    "## Exporting for EDA"
   ]
  },
  {
   "cell_type": "code",
   "execution_count": 47,
   "metadata": {},
   "outputs": [],
   "source": [
    "df_ques_with_ans_tag_indicator.to_csv('./Datasets/df_ques_with_ans_tag_indicator.csv', index=False)"
   ]
  },
  {
   "cell_type": "markdown",
   "metadata": {},
   "source": [
    "---"
   ]
  },
  {
   "cell_type": "markdown",
   "metadata": {},
   "source": [
    "# Identifying Answered Questions"
   ]
  },
  {
   "cell_type": "code",
   "execution_count": 49,
   "metadata": {},
   "outputs": [
    {
     "name": "stdout",
     "output_type": "stream",
     "text": [
      "shape: (51123, 6)\n"
     ]
    },
    {
     "data": {
      "text/html": [
       "<div>\n",
       "<style scoped>\n",
       "    .dataframe tbody tr th:only-of-type {\n",
       "        vertical-align: middle;\n",
       "    }\n",
       "\n",
       "    .dataframe tbody tr th {\n",
       "        vertical-align: top;\n",
       "    }\n",
       "\n",
       "    .dataframe thead th {\n",
       "        text-align: right;\n",
       "    }\n",
       "</style>\n",
       "<table border=\"1\" class=\"dataframe\">\n",
       "  <thead>\n",
       "    <tr style=\"text-align: right;\">\n",
       "      <th></th>\n",
       "      <th>answers_id</th>\n",
       "      <th>answers_author_id</th>\n",
       "      <th>questions_id</th>\n",
       "      <th>answers_date_added</th>\n",
       "      <th>answers_body</th>\n",
       "      <th>answers_score</th>\n",
       "    </tr>\n",
       "  </thead>\n",
       "  <tbody>\n",
       "    <tr>\n",
       "      <th>0</th>\n",
       "      <td>4e5f01128cae4f6d8fd697cec5dca60c</td>\n",
       "      <td>36ff3b3666df400f956f8335cf53e09e</td>\n",
       "      <td>332a511f1569444485cf7a7a556a5e54</td>\n",
       "      <td>2016-04-29 19:40:14 UTC+0000</td>\n",
       "      <td>&lt;p&gt;Hi!&lt;/p&gt;\\n&lt;p&gt;You are asking a very interesti...</td>\n",
       "      <td>0.0</td>\n",
       "    </tr>\n",
       "    <tr>\n",
       "      <th>1</th>\n",
       "      <td>ada720538c014e9b8a6dceed09385ee3</td>\n",
       "      <td>2aa47af241bf42a4b874c453f0381bd4</td>\n",
       "      <td>eb80205482e4424cad8f16bc25aa2d9c</td>\n",
       "      <td>2018-05-01 14:19:08 UTC+0000</td>\n",
       "      <td>&lt;p&gt;Hi. I joined the Army after I attended coll...</td>\n",
       "      <td>0.0</td>\n",
       "    </tr>\n",
       "  </tbody>\n",
       "</table>\n",
       "</div>"
      ],
      "text/plain": [
       "                         answers_id                 answers_author_id  \\\n",
       "0  4e5f01128cae4f6d8fd697cec5dca60c  36ff3b3666df400f956f8335cf53e09e   \n",
       "1  ada720538c014e9b8a6dceed09385ee3  2aa47af241bf42a4b874c453f0381bd4   \n",
       "\n",
       "                       questions_id            answers_date_added  \\\n",
       "0  332a511f1569444485cf7a7a556a5e54  2016-04-29 19:40:14 UTC+0000   \n",
       "1  eb80205482e4424cad8f16bc25aa2d9c  2018-05-01 14:19:08 UTC+0000   \n",
       "\n",
       "                                        answers_body  answers_score  \n",
       "0  <p>Hi!</p>\\n<p>You are asking a very interesti...            0.0  \n",
       "1  <p>Hi. I joined the Army after I attended coll...            0.0  "
      ]
     },
     "execution_count": 49,
     "metadata": {},
     "output_type": "execute_result"
    }
   ],
   "source": [
    "print(\"shape:\", df_answer.shape)\n",
    "df_answer.head(2)"
   ]
  },
  {
   "cell_type": "code",
   "execution_count": 50,
   "metadata": {},
   "outputs": [],
   "source": [
    "df_answer['was_answered'] = 1"
   ]
  },
  {
   "cell_type": "code",
   "execution_count": 51,
   "metadata": {},
   "outputs": [],
   "source": [
    "df_was_ans = df_answer[['questions_id', 'was_answered', 'answers_score']]"
   ]
  },
  {
   "cell_type": "code",
   "execution_count": 53,
   "metadata": {},
   "outputs": [
    {
     "name": "stdout",
     "output_type": "stream",
     "text": [
      "shape: (23931, 5)\n"
     ]
    },
    {
     "data": {
      "text/html": [
       "<div>\n",
       "<style scoped>\n",
       "    .dataframe tbody tr th:only-of-type {\n",
       "        vertical-align: middle;\n",
       "    }\n",
       "\n",
       "    .dataframe tbody tr th {\n",
       "        vertical-align: top;\n",
       "    }\n",
       "\n",
       "    .dataframe thead th {\n",
       "        text-align: right;\n",
       "    }\n",
       "</style>\n",
       "<table border=\"1\" class=\"dataframe\">\n",
       "  <thead>\n",
       "    <tr style=\"text-align: right;\">\n",
       "      <th></th>\n",
       "      <th>questions_id</th>\n",
       "      <th>questions_author_id</th>\n",
       "      <th>questions_date_added</th>\n",
       "      <th>questions_title</th>\n",
       "      <th>questions_body</th>\n",
       "    </tr>\n",
       "  </thead>\n",
       "  <tbody>\n",
       "    <tr>\n",
       "      <th>0</th>\n",
       "      <td>332a511f1569444485cf7a7a556a5e54</td>\n",
       "      <td>8f6f374ffd834d258ab69d376dd998f5</td>\n",
       "      <td>2016-04-26 11:14:26 UTC+0000</td>\n",
       "      <td>Teacher   career   question</td>\n",
       "      <td>What  is  a  maths  teacher?   what  is  a  ma...</td>\n",
       "    </tr>\n",
       "    <tr>\n",
       "      <th>1</th>\n",
       "      <td>eb80205482e4424cad8f16bc25aa2d9c</td>\n",
       "      <td>acccbda28edd4362ab03fb8b6fd2d67b</td>\n",
       "      <td>2016-05-20 16:48:25 UTC+0000</td>\n",
       "      <td>I want to become an army officer. What can I d...</td>\n",
       "      <td>I am Priyanka from Bangalore . Now am in 10th ...</td>\n",
       "    </tr>\n",
       "  </tbody>\n",
       "</table>\n",
       "</div>"
      ],
      "text/plain": [
       "                       questions_id               questions_author_id  \\\n",
       "0  332a511f1569444485cf7a7a556a5e54  8f6f374ffd834d258ab69d376dd998f5   \n",
       "1  eb80205482e4424cad8f16bc25aa2d9c  acccbda28edd4362ab03fb8b6fd2d67b   \n",
       "\n",
       "           questions_date_added  \\\n",
       "0  2016-04-26 11:14:26 UTC+0000   \n",
       "1  2016-05-20 16:48:25 UTC+0000   \n",
       "\n",
       "                                     questions_title  \\\n",
       "0                        Teacher   career   question   \n",
       "1  I want to become an army officer. What can I d...   \n",
       "\n",
       "                                      questions_body  \n",
       "0  What  is  a  maths  teacher?   what  is  a  ma...  \n",
       "1  I am Priyanka from Bangalore . Now am in 10th ...  "
      ]
     },
     "execution_count": 53,
     "metadata": {},
     "output_type": "execute_result"
    }
   ],
   "source": [
    "print(\"shape:\", ques_df.shape)\n",
    "ques_df.head(2)"
   ]
  },
  {
   "cell_type": "code",
   "execution_count": 54,
   "metadata": {},
   "outputs": [
    {
     "data": {
      "text/html": [
       "<div>\n",
       "<style scoped>\n",
       "    .dataframe tbody tr th:only-of-type {\n",
       "        vertical-align: middle;\n",
       "    }\n",
       "\n",
       "    .dataframe tbody tr th {\n",
       "        vertical-align: top;\n",
       "    }\n",
       "\n",
       "    .dataframe thead th {\n",
       "        text-align: right;\n",
       "    }\n",
       "</style>\n",
       "<table border=\"1\" class=\"dataframe\">\n",
       "  <thead>\n",
       "    <tr style=\"text-align: right;\">\n",
       "      <th></th>\n",
       "      <th>questions_id</th>\n",
       "      <th>questions_author_id</th>\n",
       "      <th>questions_date_added</th>\n",
       "      <th>questions_title</th>\n",
       "      <th>questions_body</th>\n",
       "      <th>questions_score</th>\n",
       "      <th>was_answered</th>\n",
       "      <th>answers_score</th>\n",
       "    </tr>\n",
       "  </thead>\n",
       "  <tbody>\n",
       "    <tr>\n",
       "      <th>0</th>\n",
       "      <td>332a511f1569444485cf7a7a556a5e54</td>\n",
       "      <td>8f6f374ffd834d258ab69d376dd998f5</td>\n",
       "      <td>2016-04-26 11:14:26 UTC+0000</td>\n",
       "      <td>Teacher   career   question</td>\n",
       "      <td>What  is  a  maths  teacher?   what  is  a  ma...</td>\n",
       "      <td>1.0</td>\n",
       "      <td>1.0</td>\n",
       "      <td>0.0</td>\n",
       "    </tr>\n",
       "    <tr>\n",
       "      <th>1</th>\n",
       "      <td>eb80205482e4424cad8f16bc25aa2d9c</td>\n",
       "      <td>acccbda28edd4362ab03fb8b6fd2d67b</td>\n",
       "      <td>2016-05-20 16:48:25 UTC+0000</td>\n",
       "      <td>I want to become an army officer. What can I d...</td>\n",
       "      <td>I am Priyanka from Bangalore . Now am in 10th ...</td>\n",
       "      <td>5.0</td>\n",
       "      <td>1.0</td>\n",
       "      <td>0.0</td>\n",
       "    </tr>\n",
       "    <tr>\n",
       "      <th>2</th>\n",
       "      <td>eb80205482e4424cad8f16bc25aa2d9c</td>\n",
       "      <td>acccbda28edd4362ab03fb8b6fd2d67b</td>\n",
       "      <td>2016-05-20 16:48:25 UTC+0000</td>\n",
       "      <td>I want to become an army officer. What can I d...</td>\n",
       "      <td>I am Priyanka from Bangalore . Now am in 10th ...</td>\n",
       "      <td>5.0</td>\n",
       "      <td>1.0</td>\n",
       "      <td>0.0</td>\n",
       "    </tr>\n",
       "    <tr>\n",
       "      <th>3</th>\n",
       "      <td>4ec31632938a40b98909416bdd0decff</td>\n",
       "      <td>f2c179a563024ccc927399ce529094b5</td>\n",
       "      <td>2017-02-08 19:13:38 UTC+0000</td>\n",
       "      <td>Will going abroad for your first job increase ...</td>\n",
       "      <td>I'm planning on going abroad for my first job....</td>\n",
       "      <td>2.0</td>\n",
       "      <td>1.0</td>\n",
       "      <td>0.0</td>\n",
       "    </tr>\n",
       "    <tr>\n",
       "      <th>4</th>\n",
       "      <td>2f6a9a99d9b24e5baa50d40d0ba50a75</td>\n",
       "      <td>2c30ffba444e40eabb4583b55233a5a4</td>\n",
       "      <td>2017-09-01 14:05:32 UTC+0000</td>\n",
       "      <td>To become a specialist in business  management...</td>\n",
       "      <td>i hear business management is a hard way to ge...</td>\n",
       "      <td>2.0</td>\n",
       "      <td>1.0</td>\n",
       "      <td>0.0</td>\n",
       "    </tr>\n",
       "  </tbody>\n",
       "</table>\n",
       "</div>"
      ],
      "text/plain": [
       "                       questions_id               questions_author_id  \\\n",
       "0  332a511f1569444485cf7a7a556a5e54  8f6f374ffd834d258ab69d376dd998f5   \n",
       "1  eb80205482e4424cad8f16bc25aa2d9c  acccbda28edd4362ab03fb8b6fd2d67b   \n",
       "2  eb80205482e4424cad8f16bc25aa2d9c  acccbda28edd4362ab03fb8b6fd2d67b   \n",
       "3  4ec31632938a40b98909416bdd0decff  f2c179a563024ccc927399ce529094b5   \n",
       "4  2f6a9a99d9b24e5baa50d40d0ba50a75  2c30ffba444e40eabb4583b55233a5a4   \n",
       "\n",
       "           questions_date_added  \\\n",
       "0  2016-04-26 11:14:26 UTC+0000   \n",
       "1  2016-05-20 16:48:25 UTC+0000   \n",
       "2  2016-05-20 16:48:25 UTC+0000   \n",
       "3  2017-02-08 19:13:38 UTC+0000   \n",
       "4  2017-09-01 14:05:32 UTC+0000   \n",
       "\n",
       "                                     questions_title  \\\n",
       "0                        Teacher   career   question   \n",
       "1  I want to become an army officer. What can I d...   \n",
       "2  I want to become an army officer. What can I d...   \n",
       "3  Will going abroad for your first job increase ...   \n",
       "4  To become a specialist in business  management...   \n",
       "\n",
       "                                      questions_body  questions_score  \\\n",
       "0  What  is  a  maths  teacher?   what  is  a  ma...              1.0   \n",
       "1  I am Priyanka from Bangalore . Now am in 10th ...              5.0   \n",
       "2  I am Priyanka from Bangalore . Now am in 10th ...              5.0   \n",
       "3  I'm planning on going abroad for my first job....              2.0   \n",
       "4  i hear business management is a hard way to ge...              2.0   \n",
       "\n",
       "   was_answered  answers_score  \n",
       "0           1.0            0.0  \n",
       "1           1.0            0.0  \n",
       "2           1.0            0.0  \n",
       "3           1.0            0.0  \n",
       "4           1.0            0.0  "
      ]
     },
     "execution_count": 54,
     "metadata": {},
     "output_type": "execute_result"
    }
   ],
   "source": [
    "df_q_answered = df_questions.merge(df_was_ans, on='questions_id', how='left')\n",
    "print(\"shape\", df_q_answered.shape)\n",
    "df_q_answered.head()"
   ]
  },
  {
   "cell_type": "markdown",
   "metadata": {},
   "source": [
    "## Exporting for Modeling"
   ]
  },
  {
   "cell_type": "code",
   "execution_count": 55,
   "metadata": {},
   "outputs": [],
   "source": [
    "df_q_answered.to_csv('./Datasets/df_merged_4_modeling.csv', index=False)"
   ]
  }
 ],
 "metadata": {
  "kernelspec": {
   "display_name": "Python 3 (ipykernel)",
   "language": "python",
   "name": "python3"
  },
  "language_info": {
   "codemirror_mode": {
    "name": "ipython",
    "version": 3
   },
   "file_extension": ".py",
   "mimetype": "text/x-python",
   "name": "python",
   "nbconvert_exporter": "python",
   "pygments_lexer": "ipython3",
   "version": "3.9.13"
  },
  "toc": {
   "base_numbering": 1,
   "nav_menu": {
    "height": "374px",
    "width": "425.847px"
   },
   "number_sections": true,
   "sideBar": true,
   "skip_h1_title": false,
   "title_cell": "Table of Contents",
   "title_sidebar": "Contents",
   "toc_cell": true,
   "toc_position": {
    "height": "382px",
    "left": "10px",
    "top": "10px",
    "width": "328.215px"
   },
   "toc_section_display": true,
   "toc_window_display": true
  },
  "varInspector": {
   "cols": {
    "lenName": 16,
    "lenType": 16,
    "lenVar": 40
   },
   "kernels_config": {
    "python": {
     "delete_cmd_postfix": "",
     "delete_cmd_prefix": "del ",
     "library": "var_list.py",
     "varRefreshCmd": "print(var_dic_list())"
    },
    "r": {
     "delete_cmd_postfix": ") ",
     "delete_cmd_prefix": "rm(",
     "library": "var_list.r",
     "varRefreshCmd": "cat(var_dic_list()) "
    }
   },
   "oldHeight": 365.737888,
   "position": {
    "height": "40px",
    "left": "1091.19px",
    "right": "20px",
    "top": "123.995px",
    "width": "462.995px"
   },
   "types_to_exclude": [
    "module",
    "function",
    "builtin_function_or_method",
    "instance",
    "_Feature"
   ],
   "varInspector_section_display": "none",
   "window_display": true
  },
  "vscode": {
   "interpreter": {
    "hash": "ad2bdc8ecc057115af97d19610ffacc2b4e99fae6737bb82f5d7fb13d2f2c186"
   }
  }
 },
 "nbformat": 4,
 "nbformat_minor": 4
}
