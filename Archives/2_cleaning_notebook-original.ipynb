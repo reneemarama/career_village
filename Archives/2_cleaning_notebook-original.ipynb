{
 "cells": [
  {
   "cell_type": "markdown",
   "metadata": {},
   "source": [
    "# Cleaning Notebook\n",
    "\n",
    "Before conducting EDA and building the data needs to be formatted in a way that won't throw errors. In a combination of initial exploration and later EDA the following steps are needed:\n",
    "\n",
    "1. Creating Columns \n",
    "2. Converting to Appropriate Datatype\n",
    "3. Handling Nulls\n",
    "4. Cleaning Text\n",
    "5. Dealing with Duplicate Values Left Over from Merging"
   ]
  },
  {
   "cell_type": "markdown",
   "metadata": {},
   "source": [
    "## Importing libarires\n",
    "\n",
    "For this notebook we'll use pandas, regex (for cleaning text), and seaborn (for visualizations)."
   ]
  },
  {
   "cell_type": "code",
   "execution_count": 1,
   "metadata": {},
   "outputs": [],
   "source": [
    "import pandas as pd\n",
    "import regex as re\n",
    "import seaborn as sns\n",
    "import matplotlib.pyplot as plt\n",
    "\n",
    "# from sklearn.feature_extraction.text import CountVectorizer, TfidfVectorizer\n",
    "# from nltk.tokenize import RegexpTokenizer\n",
    "# from nltk.sentiment.vader import SentimentIntensityAnalyzer\n",
    "# from sklearn.feature_extraction import stop_words, text\n",
    "\n",
    "# This creates HD resolution for visualizations\n",
    "\n",
    "%config InlineBackend.figure_format = 'retina'"
   ]
  },
  {
   "cell_type": "markdown",
   "metadata": {},
   "source": [
    "## Reading in the data\n",
    "\n",
    "An initial look at the dataframe reveals that the text for `answers_body` has several HTML artifacts. In the NLP cleaning later we'll remove these as well as clean other text columns are a precaution. \n",
    "\n",
    "<span style ='color:red'> include? Or move to merge notebook?? Should start off with a bang\n",
    "One of the things we notice off the bat is that size is 180K rows. From the merging we notebooks we know that this is an error from merging. Through EDA and cleaning this error persists and essentially gives us unbalanced classes while merging. Due to limited time, we weren't able to fix this error. For better results, I recommend fixing this issue. "
   ]
  },
  {
   "cell_type": "code",
   "execution_count": 2,
   "metadata": {},
   "outputs": [
    {
     "name": "stdout",
     "output_type": "stream",
     "text": [
      "shape: (180376, 13)\n"
     ]
    },
    {
     "data": {
      "text/html": [
       "<div>\n",
       "<style scoped>\n",
       "    .dataframe tbody tr th:only-of-type {\n",
       "        vertical-align: middle;\n",
       "    }\n",
       "\n",
       "    .dataframe tbody tr th {\n",
       "        vertical-align: top;\n",
       "    }\n",
       "\n",
       "    .dataframe thead th {\n",
       "        text-align: right;\n",
       "    }\n",
       "</style>\n",
       "<table border=\"1\" class=\"dataframe\">\n",
       "  <thead>\n",
       "    <tr style=\"text-align: right;\">\n",
       "      <th></th>\n",
       "      <th>questions_id</th>\n",
       "      <th>questions_author_id</th>\n",
       "      <th>questions_date_added</th>\n",
       "      <th>questions_title</th>\n",
       "      <th>questions_body</th>\n",
       "      <th>questions_score</th>\n",
       "      <th>tag_id</th>\n",
       "      <th>tag_name</th>\n",
       "      <th>answers_id</th>\n",
       "      <th>answers_author_id</th>\n",
       "      <th>answers_date_added</th>\n",
       "      <th>answers_body</th>\n",
       "      <th>answers_score</th>\n",
       "    </tr>\n",
       "  </thead>\n",
       "  <tbody>\n",
       "    <tr>\n",
       "      <th>0</th>\n",
       "      <td>332a511f1569444485cf7a7a556a5e54</td>\n",
       "      <td>8f6f374ffd834d258ab69d376dd998f5</td>\n",
       "      <td>2016-04-26 11:14:26 UTC+0000</td>\n",
       "      <td>Teacher   career   question</td>\n",
       "      <td>What  is  a  maths  teacher?   what  is  a  ma...</td>\n",
       "      <td>1.0</td>\n",
       "      <td>14147.0</td>\n",
       "      <td>lecture</td>\n",
       "      <td>4e5f01128cae4f6d8fd697cec5dca60c</td>\n",
       "      <td>36ff3b3666df400f956f8335cf53e09e</td>\n",
       "      <td>2016-04-29 19:40:14 UTC+0000</td>\n",
       "      <td>&lt;p&gt;Hi!&lt;/p&gt;\\n&lt;p&gt;You are asking a very interesti...</td>\n",
       "      <td>0.0</td>\n",
       "    </tr>\n",
       "    <tr>\n",
       "      <th>1</th>\n",
       "      <td>332a511f1569444485cf7a7a556a5e54</td>\n",
       "      <td>8f6f374ffd834d258ab69d376dd998f5</td>\n",
       "      <td>2016-04-26 11:14:26 UTC+0000</td>\n",
       "      <td>Teacher   career   question</td>\n",
       "      <td>What  is  a  maths  teacher?   what  is  a  ma...</td>\n",
       "      <td>1.0</td>\n",
       "      <td>27490.0</td>\n",
       "      <td>college</td>\n",
       "      <td>4e5f01128cae4f6d8fd697cec5dca60c</td>\n",
       "      <td>36ff3b3666df400f956f8335cf53e09e</td>\n",
       "      <td>2016-04-29 19:40:14 UTC+0000</td>\n",
       "      <td>&lt;p&gt;Hi!&lt;/p&gt;\\n&lt;p&gt;You are asking a very interesti...</td>\n",
       "      <td>0.0</td>\n",
       "    </tr>\n",
       "  </tbody>\n",
       "</table>\n",
       "</div>"
      ],
      "text/plain": [
       "                       questions_id               questions_author_id  \\\n",
       "0  332a511f1569444485cf7a7a556a5e54  8f6f374ffd834d258ab69d376dd998f5   \n",
       "1  332a511f1569444485cf7a7a556a5e54  8f6f374ffd834d258ab69d376dd998f5   \n",
       "\n",
       "           questions_date_added              questions_title  \\\n",
       "0  2016-04-26 11:14:26 UTC+0000  Teacher   career   question   \n",
       "1  2016-04-26 11:14:26 UTC+0000  Teacher   career   question   \n",
       "\n",
       "                                      questions_body  questions_score  \\\n",
       "0  What  is  a  maths  teacher?   what  is  a  ma...              1.0   \n",
       "1  What  is  a  maths  teacher?   what  is  a  ma...              1.0   \n",
       "\n",
       "    tag_id tag_name                        answers_id  \\\n",
       "0  14147.0  lecture  4e5f01128cae4f6d8fd697cec5dca60c   \n",
       "1  27490.0  college  4e5f01128cae4f6d8fd697cec5dca60c   \n",
       "\n",
       "                  answers_author_id            answers_date_added  \\\n",
       "0  36ff3b3666df400f956f8335cf53e09e  2016-04-29 19:40:14 UTC+0000   \n",
       "1  36ff3b3666df400f956f8335cf53e09e  2016-04-29 19:40:14 UTC+0000   \n",
       "\n",
       "                                        answers_body  answers_score  \n",
       "0  <p>Hi!</p>\\n<p>You are asking a very interesti...            0.0  \n",
       "1  <p>Hi!</p>\\n<p>You are asking a very interesti...            0.0  "
      ]
     },
     "execution_count": 2,
     "metadata": {},
     "output_type": "execute_result"
    }
   ],
   "source": [
    "data = pd.read_csv('./Datasets/df_merged.csv')\n",
    "print(\"shape:\", data.shape)\n",
    "data.head(2)"
   ]
  },
  {
   "cell_type": "markdown",
   "metadata": {},
   "source": [
    "Data.describe() reveals a quick overview of the numeric columns. A peruse over the stats shows that there are no noticible outliers that need to be cleaned."
   ]
  },
  {
   "cell_type": "code",
   "execution_count": 3,
   "metadata": {
    "scrolled": true
   },
   "outputs": [
    {
     "data": {
      "text/html": [
       "<div>\n",
       "<style scoped>\n",
       "    .dataframe tbody tr th:only-of-type {\n",
       "        vertical-align: middle;\n",
       "    }\n",
       "\n",
       "    .dataframe tbody tr th {\n",
       "        vertical-align: top;\n",
       "    }\n",
       "\n",
       "    .dataframe thead th {\n",
       "        text-align: right;\n",
       "    }\n",
       "</style>\n",
       "<table border=\"1\" class=\"dataframe\">\n",
       "  <thead>\n",
       "    <tr style=\"text-align: right;\">\n",
       "      <th></th>\n",
       "      <th>questions_score</th>\n",
       "      <th>tag_id</th>\n",
       "      <th>answers_score</th>\n",
       "    </tr>\n",
       "  </thead>\n",
       "  <tbody>\n",
       "    <tr>\n",
       "      <th>count</th>\n",
       "      <td>180350.000000</td>\n",
       "      <td>178676.000000</td>\n",
       "      <td>177990.000000</td>\n",
       "    </tr>\n",
       "    <tr>\n",
       "      <th>mean</th>\n",
       "      <td>4.873818</td>\n",
       "      <td>17010.555682</td>\n",
       "      <td>0.454424</td>\n",
       "    </tr>\n",
       "    <tr>\n",
       "      <th>std</th>\n",
       "      <td>7.537048</td>\n",
       "      <td>10196.886662</td>\n",
       "      <td>0.940910</td>\n",
       "    </tr>\n",
       "    <tr>\n",
       "      <th>min</th>\n",
       "      <td>0.000000</td>\n",
       "      <td>27.000000</td>\n",
       "      <td>0.000000</td>\n",
       "    </tr>\n",
       "    <tr>\n",
       "      <th>25%</th>\n",
       "      <td>2.000000</td>\n",
       "      <td>11051.000000</td>\n",
       "      <td>0.000000</td>\n",
       "    </tr>\n",
       "    <tr>\n",
       "      <th>50%</th>\n",
       "      <td>4.000000</td>\n",
       "      <td>18356.000000</td>\n",
       "      <td>0.000000</td>\n",
       "    </tr>\n",
       "    <tr>\n",
       "      <th>75%</th>\n",
       "      <td>5.000000</td>\n",
       "      <td>25647.000000</td>\n",
       "      <td>1.000000</td>\n",
       "    </tr>\n",
       "    <tr>\n",
       "      <th>max</th>\n",
       "      <td>125.000000</td>\n",
       "      <td>39250.000000</td>\n",
       "      <td>30.000000</td>\n",
       "    </tr>\n",
       "  </tbody>\n",
       "</table>\n",
       "</div>"
      ],
      "text/plain": [
       "       questions_score         tag_id  answers_score\n",
       "count    180350.000000  178676.000000  177990.000000\n",
       "mean          4.873818   17010.555682       0.454424\n",
       "std           7.537048   10196.886662       0.940910\n",
       "min           0.000000      27.000000       0.000000\n",
       "25%           2.000000   11051.000000       0.000000\n",
       "50%           4.000000   18356.000000       0.000000\n",
       "75%           5.000000   25647.000000       1.000000\n",
       "max         125.000000   39250.000000      30.000000"
      ]
     },
     "execution_count": 3,
     "metadata": {},
     "output_type": "execute_result"
    }
   ],
   "source": [
    "data.describe()"
   ]
  },
  {
   "cell_type": "markdown",
   "metadata": {},
   "source": [
    "## Sorting the Data"
   ]
  },
  {
   "cell_type": "markdown",
   "metadata": {},
   "source": [
    "By checking the datatypes I discovered:\n",
    "1. Dates are saved as *objects* we'll change these laters\n",
    "2. Id's are stored as *objects*, in checking the dataframe above we see that id's use both numbers and letters and shouldn't be converted to another datatype. That said, when doing our NLP training these should be treated differently than the other *object* columns"
   ]
  },
  {
   "cell_type": "code",
   "execution_count": 4,
   "metadata": {},
   "outputs": [
    {
     "data": {
      "text/plain": [
       "questions_id             object\n",
       "questions_author_id      object\n",
       "questions_date_added     object\n",
       "questions_title          object\n",
       "questions_body           object\n",
       "questions_score         float64\n",
       "tag_id                  float64\n",
       "tag_name                 object\n",
       "answers_id               object\n",
       "answers_author_id        object\n",
       "answers_date_added       object\n",
       "answers_body             object\n",
       "answers_score           float64\n",
       "dtype: object"
      ]
     },
     "execution_count": 4,
     "metadata": {},
     "output_type": "execute_result"
    }
   ],
   "source": [
    "data.dtypes"
   ]
  },
  {
   "cell_type": "markdown",
   "metadata": {},
   "source": [
    "### Configuring Data Types"
   ]
  },
  {
   "cell_type": "code",
   "execution_count": 5,
   "metadata": {},
   "outputs": [
    {
     "data": {
      "text/plain": [
       "questions_id                         object\n",
       "questions_author_id                  object\n",
       "questions_date_added    datetime64[ns, UTC]\n",
       "questions_title                      object\n",
       "questions_body                       object\n",
       "questions_score                     float64\n",
       "tag_id                              float64\n",
       "tag_name                             object\n",
       "answers_id                           object\n",
       "answers_author_id                    object\n",
       "answers_date_added      datetime64[ns, UTC]\n",
       "answers_body                         object\n",
       "answers_score                       float64\n",
       "dtype: object"
      ]
     },
     "execution_count": 5,
     "metadata": {},
     "output_type": "execute_result"
    }
   ],
   "source": [
    "#### Creating a `date_cols` list so we can loop through and convert dates to date_time data type\n",
    "\n",
    "date_cols = []\n",
    "\n",
    "for cols in data.columns:\n",
    "    if \"date\" in cols:\n",
    "        date_cols.append(cols)\n",
    "        \n",
    "date_cols\n",
    "\n",
    "#### Converting Date Columns to *Date* type\n",
    "\n",
    "for cols in date_cols:\n",
    "    data[cols] = pd.to_datetime(data[cols])\n",
    "    \n",
    "data.dtypes"
   ]
  },
  {
   "cell_type": "markdown",
   "metadata": {},
   "source": [
    "Extracting columns which are *object* oriented type and saving them as a list called `str_cols`. We do this so we can easily process all the *object* types in the `cleaning_text` function.\n"
   ]
  },
  {
   "cell_type": "code",
   "execution_count": 6,
   "metadata": {},
   "outputs": [
    {
     "data": {
      "text/plain": [
       "Index(['questions_id', 'questions_author_id', 'questions_title',\n",
       "       'questions_body', 'tag_name', 'answers_id', 'answers_author_id',\n",
       "       'answers_body'],\n",
       "      dtype='object')"
      ]
     },
     "execution_count": 6,
     "metadata": {},
     "output_type": "execute_result"
    }
   ],
   "source": [
    "str_cols = data.select_dtypes(include ='object').columns\n",
    "str_cols"
   ]
  },
  {
   "cell_type": "markdown",
   "metadata": {},
   "source": [
    "After looking at the various *object* type columns I realized that the `id` columns shouldn't be treated as a string. Since they include both numbers and letters, we cannot convert them into an integer. So instead let's create a list, `text_cols` that contains all the *object* type columns excluding the `id` columns."
   ]
  },
  {
   "cell_type": "code",
   "execution_count": 7,
   "metadata": {},
   "outputs": [
    {
     "data": {
      "text/plain": [
       "['questions_title', 'questions_body', 'tag_name', 'answers_body']"
      ]
     },
     "execution_count": 7,
     "metadata": {},
     "output_type": "execute_result"
    }
   ],
   "source": [
    "text_cols = [] #create a list\n",
    "\n",
    "for cols in str_cols: # looping through the `str_cols` variable\n",
    "\n",
    "    if \"id\" not in cols: # if `id` isn't in the name \n",
    "        text_cols.append(cols) # append to `text_cols` list\n",
    "\n",
    "text_cols"
   ]
  },
  {
   "cell_type": "markdown",
   "metadata": {},
   "source": [
    "### Creating Boolean Columns\n",
    "\n",
    "Before we handle nulls, we want to know if 1) the question was answered and 2) if the question was tagged or not. To do this, we selected an answer and tag column and mapped 0 where there were nulls and 1 for not-nulls to the new `qa_match` and `has_tag` columns. "
   ]
  },
  {
   "cell_type": "markdown",
   "metadata": {},
   "source": [
    "#### Creating an `answered` Column\n",
    "    \n",
    "Creating a column called `answered`, to indicate if the question was answered. `0` if there no answer and `1` if there is. "
   ]
  },
  {
   "cell_type": "code",
   "execution_count": 8,
   "metadata": {},
   "outputs": [
    {
     "data": {
      "text/plain": [
       "1    178036\n",
       "0      2340\n",
       "Name: answered, dtype: int64"
      ]
     },
     "execution_count": 8,
     "metadata": {},
     "output_type": "execute_result"
    }
   ],
   "source": [
    "# Create a new column called `answered`\n",
    "# Where there are notnulls in a `answer_id`: label 1, if there are nulls: label 0\n",
    "\n",
    "data['answered'] = data['answers_id'].notnull().astype(int)\n",
    "data['answered'].value_counts()"
   ]
  },
  {
   "cell_type": "markdown",
   "metadata": {},
   "source": [
    "#### Creating a `has_tag` column\n",
    "\n",
    "This column has 1 if the row has a tag, and 0, if it doesn't. "
   ]
  },
  {
   "cell_type": "code",
   "execution_count": 9,
   "metadata": {},
   "outputs": [],
   "source": [
    "# Create a new column called `has_tag`\n",
    "# Where there are notnulls in a `tag_id`: label 1, if there are nulls: label 0\n",
    "\n",
    "data['has_tag'] = data['tag_id'].notnull().astype(int)"
   ]
  },
  {
   "cell_type": "code",
   "execution_count": 10,
   "metadata": {},
   "outputs": [
    {
     "data": {
      "text/plain": [
       "1    178676\n",
       "0      1700\n",
       "Name: has_tag, dtype: int64"
      ]
     },
     "execution_count": 10,
     "metadata": {},
     "output_type": "execute_result"
    }
   ],
   "source": [
    "data['has_tag'].value_counts()"
   ]
  },
  {
   "cell_type": "markdown",
   "metadata": {},
   "source": [
    "### Handling Nulls:"
   ]
  },
  {
   "cell_type": "markdown",
   "metadata": {},
   "source": [
    "Many of our models and code doesn't work when null values are present. We need to either delete or fill the nulls so that later we won't incur any errors.\n",
    "\n",
    "A major contributor to nulls in this dataset is from how the data was given to us. There were 15 datasets that didn't perfectly match. We had to choose to either duplicate/create information or to lose information. Since making up information creates more issues, we choose to deal with a large number of nulls values. \n",
    "\n",
    "First, we need to check for nulls.\n",
    "\n",
    "## <span style = 'color:red'> For now we're just filling nulls.\n"
   ]
  },
  {
   "cell_type": "code",
   "execution_count": 11,
   "metadata": {},
   "outputs": [
    {
     "data": {
      "text/plain": [
       "questions_id               0\n",
       "questions_author_id        0\n",
       "questions_date_added       0\n",
       "questions_title            0\n",
       "questions_body             0\n",
       "questions_score           26\n",
       "tag_id                  1700\n",
       "tag_name                1700\n",
       "answers_id              2340\n",
       "answers_author_id       2340\n",
       "answers_date_added      2340\n",
       "answers_body            2344\n",
       "answers_score           2386\n",
       "answered                   0\n",
       "has_tag                    0\n",
       "dtype: int64"
      ]
     },
     "execution_count": 11,
     "metadata": {},
     "output_type": "execute_result"
    }
   ],
   "source": [
    "data.isnull().sum()"
   ]
  },
  {
   "cell_type": "markdown",
   "metadata": {},
   "source": [
    "#### Creating a visual to get an idea of where the nulls are. \n",
    "\n",
    "Null values are represented by black lines, as we can see there are systematic nulls"
   ]
  },
  {
   "cell_type": "code",
   "execution_count": 12,
   "metadata": {},
   "outputs": [],
   "source": [
    "# test_df = data.notnull().astype(int)\n",
    "\n",
    "# plt.subplots(figsize=(20,15))\n",
    "\n",
    "# sns.heatmap(test_df, yticklabels = \"\");"
   ]
  },
  {
   "cell_type": "markdown",
   "metadata": {},
   "source": [
    "## <span style = 'color:red'> Fix: this is just a place holder, need to fix in the long run\n",
    "\n",
    "#### Filling integer nulls with '0'\n",
    "    \n",
    "should have filled in with the mean - or could be dealing with the issue above where things got duplicated in a really weird way."
   ]
  },
  {
   "cell_type": "code",
   "execution_count": 13,
   "metadata": {},
   "outputs": [],
   "source": [
    "data['answers_score'].fillna(0, inplace=True)"
   ]
  },
  {
   "cell_type": "markdown",
   "metadata": {},
   "source": [
    "#### For columns with 'object' type data, we're replacing nulls with \"none\""
   ]
  },
  {
   "cell_type": "code",
   "execution_count": 14,
   "metadata": {},
   "outputs": [],
   "source": [
    "# str_nulls = ['answers_body', 'questions_author_id', 'questions_title', 'questions_body', 'tag_name']\n",
    "\n",
    "# for cols in str_nulls:\n",
    "#     data[cols].fillna(\"none\", inplace=True)"
   ]
  },
  {
   "cell_type": "markdown",
   "metadata": {},
   "source": [
    "#### Replace columns with `interger/float` data type with 0"
   ]
  },
  {
   "cell_type": "code",
   "execution_count": 15,
   "metadata": {},
   "outputs": [],
   "source": [
    "int_nulls = ['tag_id', 'questions_score']\n",
    "\n",
    "for cols in int_nulls:\n",
    "    data[cols].fillna(0, inplace=True)"
   ]
  },
  {
   "cell_type": "markdown",
   "metadata": {},
   "source": [
    "#### Checking if each column has duplicate values and how many\n",
    "\n",
    "Because of the complications with merging I wanted to check how dirty the data was. That is, how many rows have been duplicated with only one column being different. \n",
    "\n",
    "First, I checked if there are duplicate rows. There weren't, so we know that at least one value in a row is different. \n",
    "\n",
    "### <span style ='color:red'> insert image or make heatmap representing the data"
   ]
  },
  {
   "cell_type": "code",
   "execution_count": 16,
   "metadata": {},
   "outputs": [
    {
     "data": {
      "text/plain": [
       "0"
      ]
     },
     "execution_count": 16,
     "metadata": {},
     "output_type": "execute_result"
    }
   ],
   "source": [
    "data.duplicated().sum()"
   ]
  },
  {
   "cell_type": "markdown",
   "metadata": {},
   "source": [
    "Since there are no duplicate rows, we're no checking which columns have duplicate values. \n",
    "\n",
    "Below the for-loop iterates through each of the columns, runs the method `.duplicated()` to get boolean values then `.sum()` to get a count of how many duplicate values are in that column.\n",
    "\n",
    "### <span style ='color:red'> Keep in mind null values will show up as the same. Also, keep in mind where rows would be the same, maybe create a should be a unique variable"
   ]
  },
  {
   "cell_type": "code",
   "execution_count": 17,
   "metadata": {},
   "outputs": [
    {
     "name": "stdout",
     "output_type": "stream",
     "text": [
      "questions_id:   156445 duplicate values\n",
      "questions_author_id:   168047 duplicate values\n",
      "questions_date_added:   156507 duplicate values\n",
      "questions_title:   156637 duplicate values\n",
      "questions_body:   156695 duplicate values\n",
      "questions_score:   180301 duplicate values\n",
      "tag_id:   173284 duplicate values\n",
      "tag_name:   173284 duplicate values\n",
      "answers_id:   129252 duplicate values\n",
      "answers_author_id:   170206 duplicate values\n",
      "answers_date_added:   129313 duplicate values\n",
      "answers_body:   129974 duplicate values\n",
      "answers_score:   180353 duplicate values\n",
      "answered:   180374 duplicate values\n",
      "has_tag:   180374 duplicate values\n"
     ]
    }
   ],
   "source": [
    "for col in data.columns:  #Iterates through all the columns in the data frame\n",
    "    duplicate_sum = data[col].duplicated().sum()  #saves the sum\n",
    "    if duplicate_sum > 0:                                     #If there are more than 0 sums, print:\n",
    "        print(f\"{col}:   {duplicate_sum} duplicate values\")\n",
    "    else:\n",
    "        continue"
   ]
  },
  {
   "cell_type": "markdown",
   "metadata": {},
   "source": [
    "Similiarly to checking duplicates, we're also checking how many unique values are in each column. \n",
    "\n",
    "#### <span style='color:red'> explain more"
   ]
  },
  {
   "cell_type": "code",
   "execution_count": 18,
   "metadata": {},
   "outputs": [
    {
     "name": "stdout",
     "output_type": "stream",
     "text": [
      "unique values per column:\n",
      "\n",
      "23931 - questions_id\n",
      "12329 - questions_author_id\n",
      "23869 - questions_date_added\n",
      "23739 - questions_title\n",
      "23681 - questions_body\n",
      "75 - questions_score\n",
      "7092 - tag_id\n",
      "7091 - tag_name\n",
      "51123 - answers_id\n",
      "10169 - answers_author_id\n",
      "51062 - answers_date_added\n",
      "50401 - answers_body\n",
      "23 - answers_score\n",
      "2 - answered\n",
      "2 - has_tag\n"
     ]
    }
   ],
   "source": [
    "print(\"unique values per column:\")\n",
    "print(\"\")\n",
    "\n",
    "for col in data.columns:  #Iterates through all the columns in the data frame\n",
    "    print(f\"{data[col].nunique()} - {col}\")"
   ]
  },
  {
   "cell_type": "markdown",
   "metadata": {},
   "source": [
    "## Natural Language Processing Cleaning"
   ]
  },
  {
   "cell_type": "markdown",
   "metadata": {},
   "source": [
    "Since we want to explore the text data and build models form the text we need to clean the text to get the best results. \n",
    "\n",
    "#### <span style='color:red'> explain more"
   ]
  },
  {
   "cell_type": "markdown",
   "metadata": {},
   "source": [
    "#### Setting up a Cleaning Text Function: \n",
    "\n",
    "The function takes in a column and cleans the text for preproccessing. It removes html artifacts as well as punctuation and numbers, and converts the text to all lower case. "
   ]
  },
  {
   "cell_type": "code",
   "execution_count": 19,
   "metadata": {},
   "outputs": [],
   "source": [
    "def cleaning_text(df, df_col):\n",
    "    \"\"\"\n",
    "    df: is the name of Dataframe \n",
    "    df_col: takes in a column name formated as string i.e. \"column_name\" \n",
    "    \n",
    "    This function takes a column and cleans the text for that column. \n",
    "    It removes HTML artifacts suchs as <p> and <br> as as well as punctuation, \n",
    "    and numbers preparing it for processing and modeling. \n",
    "    In addition it makes all the text lower case.\n",
    "    It utilizes the .replace method as well as regex. \n",
    "    It outputs the top 2 rows\n",
    "    \n",
    "    If you haven't yet, the code to import regex is:\n",
    "    import regex as re \n",
    "    #you need to regex import as re or else this code will break\n",
    "    \"\"\"\n",
    "\n",
    "    # Uses .str.reaplce\n",
    "    df[df_col] = df[df_col].str.replace(\"<p>\", \"\") #removes <p>\n",
    "    df[df_col] = df[df_col].str.replace(\"</p>\",\"\") #removes </p>\n",
    "    df[df_col] = df[df_col].str.replace(\"<br>\", \"\") #removes <br>\n",
    "    df[df_col] = df[df_col].str.replace(\"\\n\", \"\")   #removes <\\n>\n",
    "    \n",
    "    #Makes everything lower case\n",
    "    df[df_col] = df[df_col].str.lower()\n",
    "    \n",
    "    # Using regex and lambda \n",
    "    df[df_col] = df[df_col].map(lambda x: re.sub('\\/\\/', ' ', x)) # Removing line breaks\n",
    "    df[df_col] = df[df_col].map(lambda x: re.sub('[\\\\][\\']', '', x)) # Removing apostrophes\n",
    "    df[df_col] = df[df_col].map(lambda x: re.sub('[^\\w\\s]', ' ', x)) # Removing all punctuation \n",
    "    df[df_col] = df[df_col].map(lambda x: re.sub('\\xa0', ' ', x)) # removing xa0\n",
    "    df[df_col] = df[df_col].map(lambda x: re.sub('\\s[\\/]?r\\/[^\\s]+', ' ', x)) # removing mentions of any subreddit\n",
    "    df[df_col] = df[df_col].map(lambda x: re.sub('http[s]?:\\/\\/[^\\s]*', ' ', x)) # removing urls\n",
    "    \n",
    "    # Keeping numbers for now, if we want to strip numbers, use the below\n",
    "    df[df_col] = df[df_col].map(lambda x: re.sub(\"[^a-zA-Z]\", \" \", x)) # Removes all numbers only keeping letters\n",
    "    \n",
    "    #Displays the top 2 rows\n",
    "    return df[df_col].head(2)"
   ]
  },
  {
   "cell_type": "markdown",
   "metadata": {},
   "source": [
    "#### For loop interates through `text_cols` list (all the *object* oriented columns) and cleans the text using `cleaning_text()` function. "
   ]
  },
  {
   "cell_type": "code",
   "execution_count": 20,
   "metadata": {},
   "outputs": [
    {
     "name": "stdout",
     "output_type": "stream",
     "text": [
      "tag_name has null values, so we're filling with 'none', then calling `cleaning_tex()` function\n",
      "answers_body has null values, so we're filling with 'none', then calling `cleaning_tex()` function\n"
     ]
    }
   ],
   "source": [
    "for cols in text_cols:\n",
    "    if data[cols].isnull().sum() == 0: #If there aren't any nulls \n",
    "        cleaning_text(data, cols) #Call `cleaning_text` function\n",
    "    else:\n",
    "        print(f\"{cols} has null values, so we're filling with 'none', then calling `cleaning_tex()` function\") #print which columns have nulls \n",
    "        \n",
    "        #Filling nulls with 'none'\n",
    "        data[cols].fillna('none', inplace =True)\n",
    "        \n",
    "        #Then calling the function\n",
    "        cleaning_text(data, cols) #Call `cleaning_text` function"
   ]
  },
  {
   "cell_type": "code",
   "execution_count": 21,
   "metadata": {},
   "outputs": [
    {
     "data": {
      "text/html": [
       "<div>\n",
       "<style scoped>\n",
       "    .dataframe tbody tr th:only-of-type {\n",
       "        vertical-align: middle;\n",
       "    }\n",
       "\n",
       "    .dataframe tbody tr th {\n",
       "        vertical-align: top;\n",
       "    }\n",
       "\n",
       "    .dataframe thead th {\n",
       "        text-align: right;\n",
       "    }\n",
       "</style>\n",
       "<table border=\"1\" class=\"dataframe\">\n",
       "  <thead>\n",
       "    <tr style=\"text-align: right;\">\n",
       "      <th></th>\n",
       "      <th>questions_id</th>\n",
       "      <th>questions_author_id</th>\n",
       "      <th>questions_date_added</th>\n",
       "      <th>questions_title</th>\n",
       "      <th>questions_body</th>\n",
       "      <th>questions_score</th>\n",
       "      <th>tag_id</th>\n",
       "      <th>tag_name</th>\n",
       "      <th>answers_id</th>\n",
       "      <th>answers_author_id</th>\n",
       "      <th>answers_date_added</th>\n",
       "      <th>answers_body</th>\n",
       "      <th>answers_score</th>\n",
       "      <th>answered</th>\n",
       "      <th>has_tag</th>\n",
       "    </tr>\n",
       "  </thead>\n",
       "  <tbody>\n",
       "    <tr>\n",
       "      <th>0</th>\n",
       "      <td>332a511f1569444485cf7a7a556a5e54</td>\n",
       "      <td>8f6f374ffd834d258ab69d376dd998f5</td>\n",
       "      <td>2016-04-26 11:14:26+00:00</td>\n",
       "      <td>teacher   career   question</td>\n",
       "      <td>what  is  a  maths  teacher    what  is  a  ma...</td>\n",
       "      <td>1.0</td>\n",
       "      <td>14147.0</td>\n",
       "      <td>lecture</td>\n",
       "      <td>4e5f01128cae4f6d8fd697cec5dca60c</td>\n",
       "      <td>36ff3b3666df400f956f8335cf53e09e</td>\n",
       "      <td>2016-04-29 19:40:14+00:00</td>\n",
       "      <td>hi you are asking a very interesting question ...</td>\n",
       "      <td>0.0</td>\n",
       "      <td>1</td>\n",
       "      <td>1</td>\n",
       "    </tr>\n",
       "    <tr>\n",
       "      <th>1</th>\n",
       "      <td>332a511f1569444485cf7a7a556a5e54</td>\n",
       "      <td>8f6f374ffd834d258ab69d376dd998f5</td>\n",
       "      <td>2016-04-26 11:14:26+00:00</td>\n",
       "      <td>teacher   career   question</td>\n",
       "      <td>what  is  a  maths  teacher    what  is  a  ma...</td>\n",
       "      <td>1.0</td>\n",
       "      <td>27490.0</td>\n",
       "      <td>college</td>\n",
       "      <td>4e5f01128cae4f6d8fd697cec5dca60c</td>\n",
       "      <td>36ff3b3666df400f956f8335cf53e09e</td>\n",
       "      <td>2016-04-29 19:40:14+00:00</td>\n",
       "      <td>hi you are asking a very interesting question ...</td>\n",
       "      <td>0.0</td>\n",
       "      <td>1</td>\n",
       "      <td>1</td>\n",
       "    </tr>\n",
       "  </tbody>\n",
       "</table>\n",
       "</div>"
      ],
      "text/plain": [
       "                       questions_id               questions_author_id  \\\n",
       "0  332a511f1569444485cf7a7a556a5e54  8f6f374ffd834d258ab69d376dd998f5   \n",
       "1  332a511f1569444485cf7a7a556a5e54  8f6f374ffd834d258ab69d376dd998f5   \n",
       "\n",
       "       questions_date_added              questions_title  \\\n",
       "0 2016-04-26 11:14:26+00:00  teacher   career   question   \n",
       "1 2016-04-26 11:14:26+00:00  teacher   career   question   \n",
       "\n",
       "                                      questions_body  questions_score  \\\n",
       "0  what  is  a  maths  teacher    what  is  a  ma...              1.0   \n",
       "1  what  is  a  maths  teacher    what  is  a  ma...              1.0   \n",
       "\n",
       "    tag_id tag_name                        answers_id  \\\n",
       "0  14147.0  lecture  4e5f01128cae4f6d8fd697cec5dca60c   \n",
       "1  27490.0  college  4e5f01128cae4f6d8fd697cec5dca60c   \n",
       "\n",
       "                  answers_author_id        answers_date_added  \\\n",
       "0  36ff3b3666df400f956f8335cf53e09e 2016-04-29 19:40:14+00:00   \n",
       "1  36ff3b3666df400f956f8335cf53e09e 2016-04-29 19:40:14+00:00   \n",
       "\n",
       "                                        answers_body  answers_score  answered  \\\n",
       "0  hi you are asking a very interesting question ...            0.0         1   \n",
       "1  hi you are asking a very interesting question ...            0.0         1   \n",
       "\n",
       "   has_tag  \n",
       "0        1  \n",
       "1        1  "
      ]
     },
     "execution_count": 21,
     "metadata": {},
     "output_type": "execute_result"
    }
   ],
   "source": [
    "data.head(2)"
   ]
  },
  {
   "cell_type": "markdown",
   "metadata": {},
   "source": [
    "## Exporting Data"
   ]
  },
  {
   "cell_type": "code",
   "execution_count": 22,
   "metadata": {},
   "outputs": [],
   "source": [
    "data.to_csv('./Datasets/cleaned.csv', index=False)"
   ]
  }
 ],
 "metadata": {
  "kernelspec": {
   "display_name": "Python 3 (ipykernel)",
   "language": "python",
   "name": "python3"
  },
  "language_info": {
   "codemirror_mode": {
    "name": "ipython",
    "version": 3
   },
   "file_extension": ".py",
   "mimetype": "text/x-python",
   "name": "python",
   "nbconvert_exporter": "python",
   "pygments_lexer": "ipython3",
   "version": "3.8.16"
  },
  "toc": {
   "base_numbering": 1,
   "nav_menu": {
    "height": "452.222px",
    "width": "577.438px"
   },
   "number_sections": true,
   "sideBar": true,
   "skip_h1_title": false,
   "title_cell": "Table of Contents",
   "title_sidebar": "Contents",
   "toc_cell": false,
   "toc_position": {},
   "toc_section_display": true,
   "toc_window_display": true
  },
  "varInspector": {
   "cols": {
    "lenName": 16,
    "lenType": 16,
    "lenVar": 40
   },
   "kernels_config": {
    "python": {
     "delete_cmd_postfix": "",
     "delete_cmd_prefix": "del ",
     "library": "var_list.py",
     "varRefreshCmd": "print(var_dic_list())"
    },
    "r": {
     "delete_cmd_postfix": ") ",
     "delete_cmd_prefix": "rm(",
     "library": "var_list.r",
     "varRefreshCmd": "cat(var_dic_list()) "
    }
   },
   "types_to_exclude": [
    "module",
    "function",
    "builtin_function_or_method",
    "instance",
    "_Feature"
   ],
   "window_display": false
  }
 },
 "nbformat": 4,
 "nbformat_minor": 4
}
