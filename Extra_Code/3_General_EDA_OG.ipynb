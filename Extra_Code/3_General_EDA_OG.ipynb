{
 "cells": [
  {
   "cell_type": "code",
   "execution_count": 93,
   "metadata": {},
   "outputs": [],
   "source": [
    "import pandas as pd\n",
    "# import regex as re\n",
    "\n",
    "import matplotlib.pyplot as plt\n",
    "import seaborn as sns\n",
    "\n",
    "# from sklearn.feature_extraction.text import CountVectorizer, TfidfVectorizer\n",
    "# from nltk.tokenize import RegexpTokenizer\n",
    "# from nltk.sentiment.vader import SentimentIntensityAnalyzer\n",
    "# from sklearn.feature_extraction import stop_words, text\n",
    "\n",
    "%config InlineBackend.figure_format = 'retina'\n"
   ]
  },
  {
   "cell_type": "code",
   "execution_count": 94,
   "metadata": {},
   "outputs": [
    {
     "data": {
      "text/html": [
       "<div>\n",
       "<style scoped>\n",
       "    .dataframe tbody tr th:only-of-type {\n",
       "        vertical-align: middle;\n",
       "    }\n",
       "\n",
       "    .dataframe tbody tr th {\n",
       "        vertical-align: top;\n",
       "    }\n",
       "\n",
       "    .dataframe thead th {\n",
       "        text-align: right;\n",
       "    }\n",
       "</style>\n",
       "<table border=\"1\" class=\"dataframe\">\n",
       "  <thead>\n",
       "    <tr style=\"text-align: right;\">\n",
       "      <th></th>\n",
       "      <th>questions_id</th>\n",
       "      <th>questions_author_id</th>\n",
       "      <th>questions_date_added</th>\n",
       "      <th>questions_title</th>\n",
       "      <th>questions_body</th>\n",
       "      <th>questions_score</th>\n",
       "      <th>answers_id</th>\n",
       "      <th>answers_author_id</th>\n",
       "      <th>answers_date_added</th>\n",
       "      <th>answers_body</th>\n",
       "      <th>answers_score</th>\n",
       "    </tr>\n",
       "  </thead>\n",
       "  <tbody>\n",
       "    <tr>\n",
       "      <th>0</th>\n",
       "      <td>332a511f1569444485cf7a7a556a5e54</td>\n",
       "      <td>8f6f374ffd834d258ab69d376dd998f5</td>\n",
       "      <td>2016-04-26 11:14:26 UTC+0000</td>\n",
       "      <td>Teacher   career   question</td>\n",
       "      <td>What  is  a  maths  teacher?   what  is  a  ma...</td>\n",
       "      <td>1.0</td>\n",
       "      <td>4e5f01128cae4f6d8fd697cec5dca60c</td>\n",
       "      <td>36ff3b3666df400f956f8335cf53e09e</td>\n",
       "      <td>2016-04-29 19:40:14 UTC+0000</td>\n",
       "      <td>&lt;p&gt;Hi!&lt;/p&gt;\\n&lt;p&gt;You are asking a very interesti...</td>\n",
       "      <td>0.0</td>\n",
       "    </tr>\n",
       "    <tr>\n",
       "      <th>1</th>\n",
       "      <td>eb80205482e4424cad8f16bc25aa2d9c</td>\n",
       "      <td>acccbda28edd4362ab03fb8b6fd2d67b</td>\n",
       "      <td>2016-05-20 16:48:25 UTC+0000</td>\n",
       "      <td>I want to become an army officer. What can I d...</td>\n",
       "      <td>I am Priyanka from Bangalore . Now am in 10th ...</td>\n",
       "      <td>5.0</td>\n",
       "      <td>ada720538c014e9b8a6dceed09385ee3</td>\n",
       "      <td>2aa47af241bf42a4b874c453f0381bd4</td>\n",
       "      <td>2018-05-01 14:19:08 UTC+0000</td>\n",
       "      <td>&lt;p&gt;Hi. I joined the Army after I attended coll...</td>\n",
       "      <td>0.0</td>\n",
       "    </tr>\n",
       "  </tbody>\n",
       "</table>\n",
       "</div>"
      ],
      "text/plain": [
       "                       questions_id               questions_author_id  \\\n",
       "0  332a511f1569444485cf7a7a556a5e54  8f6f374ffd834d258ab69d376dd998f5   \n",
       "1  eb80205482e4424cad8f16bc25aa2d9c  acccbda28edd4362ab03fb8b6fd2d67b   \n",
       "\n",
       "           questions_date_added  \\\n",
       "0  2016-04-26 11:14:26 UTC+0000   \n",
       "1  2016-05-20 16:48:25 UTC+0000   \n",
       "\n",
       "                                     questions_title  \\\n",
       "0                        Teacher   career   question   \n",
       "1  I want to become an army officer. What can I d...   \n",
       "\n",
       "                                      questions_body  questions_score  \\\n",
       "0  What  is  a  maths  teacher?   what  is  a  ma...              1.0   \n",
       "1  I am Priyanka from Bangalore . Now am in 10th ...              5.0   \n",
       "\n",
       "                         answers_id                 answers_author_id  \\\n",
       "0  4e5f01128cae4f6d8fd697cec5dca60c  36ff3b3666df400f956f8335cf53e09e   \n",
       "1  ada720538c014e9b8a6dceed09385ee3  2aa47af241bf42a4b874c453f0381bd4   \n",
       "\n",
       "             answers_date_added  \\\n",
       "0  2016-04-29 19:40:14 UTC+0000   \n",
       "1  2018-05-01 14:19:08 UTC+0000   \n",
       "\n",
       "                                        answers_body  answers_score  \n",
       "0  <p>Hi!</p>\\n<p>You are asking a very interesti...            0.0  \n",
       "1  <p>Hi. I joined the Army after I attended coll...            0.0  "
      ]
     },
     "execution_count": 94,
     "metadata": {},
     "output_type": "execute_result"
    }
   ],
   "source": [
    "data = pd.read_csv('./Datasets/qa_merged_df.csv')\n",
    "data.head(2)"
   ]
  },
  {
   "cell_type": "markdown",
   "metadata": {},
   "source": [
    "#### General EDA on the dataframe"
   ]
  },
  {
   "cell_type": "code",
   "execution_count": 95,
   "metadata": {},
   "outputs": [
    {
     "data": {
      "text/html": [
       "<div>\n",
       "<style scoped>\n",
       "    .dataframe tbody tr th:only-of-type {\n",
       "        vertical-align: middle;\n",
       "    }\n",
       "\n",
       "    .dataframe tbody tr th {\n",
       "        vertical-align: top;\n",
       "    }\n",
       "\n",
       "    .dataframe thead th {\n",
       "        text-align: right;\n",
       "    }\n",
       "</style>\n",
       "<table border=\"1\" class=\"dataframe\">\n",
       "  <thead>\n",
       "    <tr style=\"text-align: right;\">\n",
       "      <th></th>\n",
       "      <th>questions_score</th>\n",
       "      <th>answers_score</th>\n",
       "    </tr>\n",
       "  </thead>\n",
       "  <tbody>\n",
       "    <tr>\n",
       "      <th>count</th>\n",
       "      <td>51936.000000</td>\n",
       "      <td>51107.000000</td>\n",
       "    </tr>\n",
       "    <tr>\n",
       "      <th>mean</th>\n",
       "      <td>4.530980</td>\n",
       "      <td>0.415501</td>\n",
       "    </tr>\n",
       "    <tr>\n",
       "      <th>std</th>\n",
       "      <td>6.651972</td>\n",
       "      <td>0.921442</td>\n",
       "    </tr>\n",
       "    <tr>\n",
       "      <th>min</th>\n",
       "      <td>0.000000</td>\n",
       "      <td>0.000000</td>\n",
       "    </tr>\n",
       "    <tr>\n",
       "      <th>25%</th>\n",
       "      <td>2.000000</td>\n",
       "      <td>0.000000</td>\n",
       "    </tr>\n",
       "    <tr>\n",
       "      <th>50%</th>\n",
       "      <td>3.000000</td>\n",
       "      <td>0.000000</td>\n",
       "    </tr>\n",
       "    <tr>\n",
       "      <th>75%</th>\n",
       "      <td>5.000000</td>\n",
       "      <td>1.000000</td>\n",
       "    </tr>\n",
       "    <tr>\n",
       "      <th>max</th>\n",
       "      <td>125.000000</td>\n",
       "      <td>30.000000</td>\n",
       "    </tr>\n",
       "  </tbody>\n",
       "</table>\n",
       "</div>"
      ],
      "text/plain": [
       "       questions_score  answers_score\n",
       "count     51936.000000   51107.000000\n",
       "mean          4.530980       0.415501\n",
       "std           6.651972       0.921442\n",
       "min           0.000000       0.000000\n",
       "25%           2.000000       0.000000\n",
       "50%           3.000000       0.000000\n",
       "75%           5.000000       1.000000\n",
       "max         125.000000      30.000000"
      ]
     },
     "execution_count": 95,
     "metadata": {},
     "output_type": "execute_result"
    }
   ],
   "source": [
    "data.describe()"
   ]
  },
  {
   "cell_type": "code",
   "execution_count": 96,
   "metadata": {},
   "outputs": [
    {
     "data": {
      "text/plain": [
       "(51944, 11)"
      ]
     },
     "execution_count": 96,
     "metadata": {},
     "output_type": "execute_result"
    }
   ],
   "source": [
    "data.shape"
   ]
  },
  {
   "cell_type": "code",
   "execution_count": 97,
   "metadata": {},
   "outputs": [
    {
     "data": {
      "text/plain": [
       "questions_id             object\n",
       "questions_author_id      object\n",
       "questions_date_added     object\n",
       "questions_title          object\n",
       "questions_body           object\n",
       "questions_score         float64\n",
       "answers_id               object\n",
       "answers_author_id        object\n",
       "answers_date_added       object\n",
       "answers_body             object\n",
       "answers_score           float64\n",
       "dtype: object"
      ]
     },
     "execution_count": 97,
     "metadata": {},
     "output_type": "execute_result"
    }
   ],
   "source": [
    "data.dtypes"
   ]
  },
  {
   "cell_type": "markdown",
   "metadata": {},
   "source": [
    "Since our cleaning and EDA process was fluid and iterative there are a few artifacts for past iterations that need to be cleaned. Though these were cleaned in the cleaning data, this notebook is currently using \"clean_w_sentiment.csv\" an older version. We use this data because it provides the sentiment score which takes a while to process and calculating it on the newer data would take longer than allotted. Besides the few touch-ups, using this older version shouldn't negatively impact our EDA."
   ]
  },
  {
   "cell_type": "markdown",
   "metadata": {},
   "source": [
    "#### Changing dates to datetime data type"
   ]
  },
  {
   "cell_type": "code",
   "execution_count": 98,
   "metadata": {},
   "outputs": [],
   "source": [
    "data['answers_date_added'] = pd.to_datetime(data['answers_date_added'])\n",
    "data['questions_date_added'] = pd.to_datetime(data['questions_date_added'])"
   ]
  },
  {
   "cell_type": "code",
   "execution_count": 99,
   "metadata": {},
   "outputs": [
    {
     "data": {
      "text/plain": [
       "0       2016-04-26 11:14:26+00:00\n",
       "1       2016-05-20 16:48:25+00:00\n",
       "2       2016-05-20 16:48:25+00:00\n",
       "3       2017-02-08 19:13:38+00:00\n",
       "4       2017-09-01 14:05:32+00:00\n",
       "                   ...           \n",
       "51939   2016-05-28 03:08:07+00:00\n",
       "51940   2015-10-21 20:16:38+00:00\n",
       "51941   2015-10-21 20:16:38+00:00\n",
       "51942   2015-10-21 20:16:38+00:00\n",
       "51943   2015-10-21 20:16:38+00:00\n",
       "Name: questions_date_added, Length: 51944, dtype: datetime64[ns, UTC]"
      ]
     },
     "execution_count": 99,
     "metadata": {},
     "output_type": "execute_result"
    }
   ],
   "source": [
    "data['questions_date_added']"
   ]
  },
  {
   "cell_type": "markdown",
   "metadata": {},
   "source": [
    "#### Renaming 'qa_match' to 'was_answered' to match the column name in the tag EDA notebook and for clarity"
   ]
  },
  {
   "cell_type": "code",
   "execution_count": 100,
   "metadata": {},
   "outputs": [],
   "source": [
    "data.rename(columns = {'qa_match':'was_answered'}, inplace=True)"
   ]
  },
  {
   "cell_type": "markdown",
   "metadata": {},
   "source": [
    "#### Filling Nulls\n",
    "\n",
    "I noticed there are still some null values, though we imputed some values in the cleaning notebook, we needed further EDA to understand how to impute nulls impacts the data. For now, we're just filling the 24 null values in `answers_body` with the string 'none'. Since this is such a small fraction of the data, it shouldn't have a significant impact on results.\n",
    "\n"
   ]
  },
  {
   "cell_type": "code",
   "execution_count": 101,
   "metadata": {},
   "outputs": [
    {
     "data": {
      "text/plain": [
       "questions_id              0\n",
       "questions_author_id       0\n",
       "questions_date_added      0\n",
       "questions_title           0\n",
       "questions_body            0\n",
       "questions_score           8\n",
       "answers_id              821\n",
       "answers_author_id       821\n",
       "answers_date_added      821\n",
       "answers_body            822\n",
       "answers_score           837\n",
       "dtype: int64"
      ]
     },
     "execution_count": 101,
     "metadata": {},
     "output_type": "execute_result"
    }
   ],
   "source": [
    "data.isnull().sum()"
   ]
  },
  {
   "cell_type": "markdown",
   "metadata": {},
   "source": [
    "#### Exploring `was_answered` - if the question was answered\n",
    "\n",
    "An initial look at `was_answered` stats shows that the majority of questions are answered."
   ]
  },
  {
   "cell_type": "code",
   "execution_count": 103,
   "metadata": {},
   "outputs": [],
   "source": [
    "# data.groupby('was_answered')[['was_answered']].describe()"
   ]
  },
  {
   "cell_type": "markdown",
   "metadata": {},
   "source": [
    "We can see that the average question score for where questions weren't answered was 0.75 and when answered 4.9 (the highest score is 125, with most between 0-10). The scores work similar to \"upvotes\" or \"likes\", 0 means 0 \"upvotes\", 5 means 5 \"upvotes\" etc. This intuitively makes sense, because questions with low or now upvotes are likely to go unanswered. \n",
    "\n",
    "The other thing to note is that the average answers_score is .45. Again, on the scale above, so it looks like the majority of answers aren't getting \"upvotes\". \n"
   ]
  },
  {
   "cell_type": "code",
   "execution_count": null,
   "metadata": {},
   "outputs": [],
   "source": [
    "# data.groupby('was_answered').mean()"
   ]
  },
  {
   "cell_type": "markdown",
   "metadata": {},
   "source": [
    "The majority of questions are answered (1: answered, 0:not answered)"
   ]
  },
  {
   "cell_type": "code",
   "execution_count": null,
   "metadata": {},
   "outputs": [],
   "source": [
    "# data['was_answered'].hist()\n",
    "# plt.ylabel(\"Count\");"
   ]
  },
  {
   "cell_type": "code",
   "execution_count": null,
   "metadata": {},
   "outputs": [],
   "source": [
    "# qa_corr = data.drop(columns='tag_id').corr()[['was_answered']].dropna().sort_values('was_answered', ascending=False)\n",
    "\n",
    "# sns.heatmap(qa_corr, annot=True);"
   ]
  },
  {
   "cell_type": "markdown",
   "metadata": {},
   "source": [
    "### Exploring Sentiment Scores"
   ]
  },
  {
   "cell_type": "markdown",
   "metadata": {},
   "source": [
    "In the NLP EDA notebook, I calculated the 'sentiment score' of the questions and answers body. I did this using the Natural Language Tool Kit (NLTK) library. The sentiment score parses through the text and awards words a positive or negative score. Words like \"like\", \"love\" \"happy\" etc. are attributed to a positive score, while \"dislike\", \"annoyed\" etc. are given negative scores. Words like \"the\", \"it\" etc. are considered neutral. NLTK then aggregates a score based on all the words in the passage. Though this is an imperfect approach (i.e. attributing a positive score to \"don't like\"  or the reverse), it provides a general understanding of the tone of the text. \n",
    "\n",
    "In the stats over below, grouped by 'was_answered', one can see that the average questions_score if relatively similar for questions that were answered and were not answered. Since not all the questions are answered, there are all 0's in the `answers_sentiment` score where `was_answered` is 0.\n",
    "\n",
    "**The scores range from -1 to 1.** With 1 being positive, -1: negative."
   ]
  },
  {
   "cell_type": "code",
   "execution_count": null,
   "metadata": {},
   "outputs": [],
   "source": [
    "# data.groupby('was_answered')[['questions_sentiment', 'answers_sentiment']].describe()"
   ]
  },
  {
   "cell_type": "markdown",
   "metadata": {},
   "source": [
    "#### Distribution of Answers Sentiment Scores:\n",
    "\n",
    "The majority of `answers_sentiment` scores are close to 1, with a small bump just below 0. This is good and expected; the point of the platform is to empower and serve youth by answering their career questions. Negative sentiment scores would indicate that the professionals on the platform are not answering kindly, and should be flagged for investigation and possible removal from the platform. That said, humans are much better at discovering tone from the text, and should be reviewed manually or with further analysis before any action is taken."
   ]
  },
  {
   "cell_type": "code",
   "execution_count": 143,
   "metadata": {},
   "outputs": [],
   "source": [
    "# #Overall\n",
    "# data['answers_sentiment'].hist(alpha=.5);\n",
    "# plt.title('Answers Sentiment Score, range -1 to 1');\n",
    "# plt.ylabel(\"Count\")\n",
    "# plt.xlabel(\"Sentiment Score\");"
   ]
  },
  {
   "cell_type": "markdown",
   "metadata": {},
   "source": [
    "#### Graphing Questions Sentiment Scores\n",
    "\n",
    "Though there is a general trend for questions to have a positive sentiment score, we can see that the distribution of scores varies more than the answer scores.\n",
    "## <span style ='color:red'> In further analysis, it'd be interesting to see how the sentiment score correlates to how quickly a question is answered.\n"
   ]
  },
  {
   "cell_type": "code",
   "execution_count": 142,
   "metadata": {},
   "outputs": [],
   "source": [
    "# data['questions_sentiment'].hist(alpha=.5)\n",
    "# plt.title('Questions Sentiment Score, range -1 to 1');\n",
    "# plt.ylabel(\"Count\")\n",
    "# plt.xlabel(\"Sentiment Score\");"
   ]
  },
  {
   "cell_type": "markdown",
   "metadata": {},
   "source": [
    "## Exploring Answers Authors\n",
    "\n",
    "We wanted to know more about who's answering the questions. Below we're looking at how many people are answering questions and how many questions they're answering.\n",
    "\n",
    "The total number of unique authors is 10,169.\n",
    "\n",
    "Out of x unique questions <span style = 'color:red'> (since the data is dirty, this isn't a true number).\n",
    "\n",
    "<span style = 'color:red'> What tags are they answering. Is there a most popular tag? Are the tags they're answering part of their specialty. "
   ]
  },
  {
   "cell_type": "markdown",
   "metadata": {},
   "source": [
    "#### Checking the answers author Id's"
   ]
  },
  {
   "cell_type": "code",
   "execution_count": 104,
   "metadata": {},
   "outputs": [
    {
     "data": {
      "text/html": [
       "<div>\n",
       "<style scoped>\n",
       "    .dataframe tbody tr th:only-of-type {\n",
       "        vertical-align: middle;\n",
       "    }\n",
       "\n",
       "    .dataframe tbody tr th {\n",
       "        vertical-align: top;\n",
       "    }\n",
       "\n",
       "    .dataframe thead th {\n",
       "        text-align: right;\n",
       "    }\n",
       "</style>\n",
       "<table border=\"1\" class=\"dataframe\">\n",
       "  <thead>\n",
       "    <tr style=\"text-align: right;\">\n",
       "      <th></th>\n",
       "      <th>questions_score</th>\n",
       "      <th>answers_score</th>\n",
       "    </tr>\n",
       "    <tr>\n",
       "      <th>answers_author_id</th>\n",
       "      <th></th>\n",
       "      <th></th>\n",
       "    </tr>\n",
       "  </thead>\n",
       "  <tbody>\n",
       "    <tr>\n",
       "      <th>00009a0f9bda43eba47104e9ac62aff5</th>\n",
       "      <td>5.000</td>\n",
       "      <td>0.000000</td>\n",
       "    </tr>\n",
       "    <tr>\n",
       "      <th>000d4635e5da41e3bfd83677ee11dda4</th>\n",
       "      <td>4.000</td>\n",
       "      <td>0.000000</td>\n",
       "    </tr>\n",
       "    <tr>\n",
       "      <th>00271cc10e0245fba4a35e76e669c281</th>\n",
       "      <td>3.125</td>\n",
       "      <td>0.000000</td>\n",
       "    </tr>\n",
       "    <tr>\n",
       "      <th>003cc21be89d4e42bc4424131a378e86</th>\n",
       "      <td>3.500</td>\n",
       "      <td>0.000000</td>\n",
       "    </tr>\n",
       "    <tr>\n",
       "      <th>0046ab8089c04b3a8df3f8c28621a818</th>\n",
       "      <td>9.400</td>\n",
       "      <td>0.400000</td>\n",
       "    </tr>\n",
       "    <tr>\n",
       "      <th>...</th>\n",
       "      <td>...</td>\n",
       "      <td>...</td>\n",
       "    </tr>\n",
       "    <tr>\n",
       "      <th>ffdeaf7003a14c80aa237b35f6f636dc</th>\n",
       "      <td>4.000</td>\n",
       "      <td>2.000000</td>\n",
       "    </tr>\n",
       "    <tr>\n",
       "      <th>ffe2f26d5c174e13b565d026e1d8c503</th>\n",
       "      <td>3.500</td>\n",
       "      <td>0.333333</td>\n",
       "    </tr>\n",
       "    <tr>\n",
       "      <th>ffeaf7114b59443581b8acb5a9bfb38a</th>\n",
       "      <td>1.000</td>\n",
       "      <td>0.000000</td>\n",
       "    </tr>\n",
       "    <tr>\n",
       "      <th>fffa0ff907ff4a9a84cb1b142911eee1</th>\n",
       "      <td>1.000</td>\n",
       "      <td>1.000000</td>\n",
       "    </tr>\n",
       "    <tr>\n",
       "      <th>ffffbe8d854a4a5a8ab1a381224f5b80</th>\n",
       "      <td>2.500</td>\n",
       "      <td>0.000000</td>\n",
       "    </tr>\n",
       "  </tbody>\n",
       "</table>\n",
       "<p>10169 rows × 2 columns</p>\n",
       "</div>"
      ],
      "text/plain": [
       "                                  questions_score  answers_score\n",
       "answers_author_id                                               \n",
       "00009a0f9bda43eba47104e9ac62aff5            5.000       0.000000\n",
       "000d4635e5da41e3bfd83677ee11dda4            4.000       0.000000\n",
       "00271cc10e0245fba4a35e76e669c281            3.125       0.000000\n",
       "003cc21be89d4e42bc4424131a378e86            3.500       0.000000\n",
       "0046ab8089c04b3a8df3f8c28621a818            9.400       0.400000\n",
       "...                                           ...            ...\n",
       "ffdeaf7003a14c80aa237b35f6f636dc            4.000       2.000000\n",
       "ffe2f26d5c174e13b565d026e1d8c503            3.500       0.333333\n",
       "ffeaf7114b59443581b8acb5a9bfb38a            1.000       0.000000\n",
       "fffa0ff907ff4a9a84cb1b142911eee1            1.000       1.000000\n",
       "ffffbe8d854a4a5a8ab1a381224f5b80            2.500       0.000000\n",
       "\n",
       "[10169 rows x 2 columns]"
      ]
     },
     "execution_count": 104,
     "metadata": {},
     "output_type": "execute_result"
    }
   ],
   "source": [
    "data.groupby('answers_author_id').mean()"
   ]
  },
  {
   "cell_type": "code",
   "execution_count": 133,
   "metadata": {},
   "outputs": [
    {
     "data": {
      "image/png": "[encoded data removed]",
      "text/plain": [
       "<Figure size 720x720 with 1 Axes>"
      ]
     },
     "metadata": {
      "image/png": {
       "height": 592,
       "width": 575
      },
      "needs_background": "light"
     },
     "output_type": "display_data"
    }
   ],
   "source": [
    "plt.figure(figsize=(10,10))\n",
    "sns.boxplot(data.groupby('answers_author_id').mean()['answers_score'], color='teal');\n",
    "plt.xlabel(\"Answer Scores\", fontsize=14);"
   ]
  },
  {
   "cell_type": "markdown",
   "metadata": {},
   "source": [
    "In looking at the initial stats above, I wanted to understand how many professionals had a high average answer score. Below are a few graphs outputs that look top average `answers_score`."
   ]
  },
  {
   "cell_type": "markdown",
   "metadata": {},
   "source": [
    "Authors with top 50 average `answer_scores`:"
   ]
  },
  {
   "cell_type": "code",
   "execution_count": 106,
   "metadata": {},
   "outputs": [
    {
     "data": {
      "text/html": [
       "<div>\n",
       "<style scoped>\n",
       "    .dataframe tbody tr th:only-of-type {\n",
       "        vertical-align: middle;\n",
       "    }\n",
       "\n",
       "    .dataframe tbody tr th {\n",
       "        vertical-align: top;\n",
       "    }\n",
       "\n",
       "    .dataframe thead th {\n",
       "        text-align: right;\n",
       "    }\n",
       "</style>\n",
       "<table border=\"1\" class=\"dataframe\">\n",
       "  <thead>\n",
       "    <tr style=\"text-align: right;\">\n",
       "      <th></th>\n",
       "      <th>answers_score</th>\n",
       "      <th>questions_score</th>\n",
       "    </tr>\n",
       "    <tr>\n",
       "      <th>answers_author_id</th>\n",
       "      <th></th>\n",
       "      <th></th>\n",
       "    </tr>\n",
       "  </thead>\n",
       "  <tbody>\n",
       "    <tr>\n",
       "      <th>4dbdd4b99f80446798b3ab477f049285</th>\n",
       "      <td>11.000000</td>\n",
       "      <td>9.000000</td>\n",
       "    </tr>\n",
       "    <tr>\n",
       "      <th>1ec14aee9311480681dfa81b0f193de8</th>\n",
       "      <td>9.666667</td>\n",
       "      <td>15.666667</td>\n",
       "    </tr>\n",
       "    <tr>\n",
       "      <th>bdcdf938f015413fb3cb981836ca3dab</th>\n",
       "      <td>9.000000</td>\n",
       "      <td>24.000000</td>\n",
       "    </tr>\n",
       "    <tr>\n",
       "      <th>9ce1a6a0bb3c4cc49bc6414788b80c49</th>\n",
       "      <td>8.000000</td>\n",
       "      <td>6.000000</td>\n",
       "    </tr>\n",
       "    <tr>\n",
       "      <th>39a60344b603488ba9bb62c5c8b3be97</th>\n",
       "      <td>8.000000</td>\n",
       "      <td>14.000000</td>\n",
       "    </tr>\n",
       "    <tr>\n",
       "      <th>664a948f3d014b0d9251af1f0469c43e</th>\n",
       "      <td>8.000000</td>\n",
       "      <td>43.000000</td>\n",
       "    </tr>\n",
       "    <tr>\n",
       "      <th>5cbd4a64a328414781df8b75e47ffad3</th>\n",
       "      <td>7.000000</td>\n",
       "      <td>60.000000</td>\n",
       "    </tr>\n",
       "    <tr>\n",
       "      <th>64acecc36386468eae3bbb6f22c2aef9</th>\n",
       "      <td>7.000000</td>\n",
       "      <td>8.000000</td>\n",
       "    </tr>\n",
       "    <tr>\n",
       "      <th>f96c2cdbeb314deb911adcead45b4280</th>\n",
       "      <td>7.000000</td>\n",
       "      <td>5.000000</td>\n",
       "    </tr>\n",
       "    <tr>\n",
       "      <th>716d3d3bd66a45dd9c6ff3e4d627bb14</th>\n",
       "      <td>7.000000</td>\n",
       "      <td>13.000000</td>\n",
       "    </tr>\n",
       "    <tr>\n",
       "      <th>25947a0c475f44139a75e2d3ccd00824</th>\n",
       "      <td>7.000000</td>\n",
       "      <td>5.000000</td>\n",
       "    </tr>\n",
       "    <tr>\n",
       "      <th>a96726e8c1e14e099965898bf2c4d2d5</th>\n",
       "      <td>7.000000</td>\n",
       "      <td>3.000000</td>\n",
       "    </tr>\n",
       "    <tr>\n",
       "      <th>e68c903a318244d8988b978879f94e8d</th>\n",
       "      <td>7.000000</td>\n",
       "      <td>17.000000</td>\n",
       "    </tr>\n",
       "    <tr>\n",
       "      <th>f567405e9b6d4b58978ff2074c1fe1a6</th>\n",
       "      <td>7.000000</td>\n",
       "      <td>5.000000</td>\n",
       "    </tr>\n",
       "    <tr>\n",
       "      <th>c97347e2441b40a69577cf1627b81a6a</th>\n",
       "      <td>6.500000</td>\n",
       "      <td>10.500000</td>\n",
       "    </tr>\n",
       "    <tr>\n",
       "      <th>34df5c19a4044e9791978f8ed867a350</th>\n",
       "      <td>6.333333</td>\n",
       "      <td>13.000000</td>\n",
       "    </tr>\n",
       "    <tr>\n",
       "      <th>d2c9d0b9fff54e5f932144d5eb5015f0</th>\n",
       "      <td>6.333333</td>\n",
       "      <td>11.000000</td>\n",
       "    </tr>\n",
       "    <tr>\n",
       "      <th>f29723e24646426e935274a15e0f13bb</th>\n",
       "      <td>6.000000</td>\n",
       "      <td>3.000000</td>\n",
       "    </tr>\n",
       "    <tr>\n",
       "      <th>7aa36954229345f28bf2434f90c3f282</th>\n",
       "      <td>6.000000</td>\n",
       "      <td>15.000000</td>\n",
       "    </tr>\n",
       "    <tr>\n",
       "      <th>52e237099b0c471aae4b84c597372145</th>\n",
       "      <td>6.000000</td>\n",
       "      <td>5.000000</td>\n",
       "    </tr>\n",
       "    <tr>\n",
       "      <th>7cf19084fb1740dba5aa35797c046dee</th>\n",
       "      <td>6.000000</td>\n",
       "      <td>4.000000</td>\n",
       "    </tr>\n",
       "    <tr>\n",
       "      <th>0380464990eb44668ad558d5624aa895</th>\n",
       "      <td>6.000000</td>\n",
       "      <td>3.000000</td>\n",
       "    </tr>\n",
       "    <tr>\n",
       "      <th>2e77a7e4d0d34385bc175a9efb61408c</th>\n",
       "      <td>6.000000</td>\n",
       "      <td>10.000000</td>\n",
       "    </tr>\n",
       "    <tr>\n",
       "      <th>eb571112e2974ecf942da89a7ece3a02</th>\n",
       "      <td>6.000000</td>\n",
       "      <td>6.000000</td>\n",
       "    </tr>\n",
       "    <tr>\n",
       "      <th>fc993910544c483bb1d8cea5e7120377</th>\n",
       "      <td>6.000000</td>\n",
       "      <td>13.000000</td>\n",
       "    </tr>\n",
       "    <tr>\n",
       "      <th>861a5e2a40bd4d8cb7322ee9bc9b2f81</th>\n",
       "      <td>5.666667</td>\n",
       "      <td>3.666667</td>\n",
       "    </tr>\n",
       "    <tr>\n",
       "      <th>a61aa494aed848cc87ba745a24178922</th>\n",
       "      <td>5.666667</td>\n",
       "      <td>10.666667</td>\n",
       "    </tr>\n",
       "    <tr>\n",
       "      <th>5f77e0a2c3a144dda336df2294a64530</th>\n",
       "      <td>5.500000</td>\n",
       "      <td>5.000000</td>\n",
       "    </tr>\n",
       "    <tr>\n",
       "      <th>43da54406c50437890635d06acfba548</th>\n",
       "      <td>5.500000</td>\n",
       "      <td>9.250000</td>\n",
       "    </tr>\n",
       "    <tr>\n",
       "      <th>3cc5c8daa33c4888874b5b94c0f98810</th>\n",
       "      <td>5.333333</td>\n",
       "      <td>18.000000</td>\n",
       "    </tr>\n",
       "    <tr>\n",
       "      <th>9ced4ce7519049c0944147afb75a8ce3</th>\n",
       "      <td>5.000000</td>\n",
       "      <td>6.000000</td>\n",
       "    </tr>\n",
       "    <tr>\n",
       "      <th>60bfb575b826434b84eeaf578854696c</th>\n",
       "      <td>5.000000</td>\n",
       "      <td>4.000000</td>\n",
       "    </tr>\n",
       "    <tr>\n",
       "      <th>ff347be2a46543598867792e3e6a54b9</th>\n",
       "      <td>5.000000</td>\n",
       "      <td>15.750000</td>\n",
       "    </tr>\n",
       "    <tr>\n",
       "      <th>0a709e8b011c4ae5a30373643cae34cb</th>\n",
       "      <td>5.000000</td>\n",
       "      <td>4.000000</td>\n",
       "    </tr>\n",
       "    <tr>\n",
       "      <th>615cdd5c43864c17b832ad5378ba4641</th>\n",
       "      <td>5.000000</td>\n",
       "      <td>7.000000</td>\n",
       "    </tr>\n",
       "    <tr>\n",
       "      <th>577476bad15d4e3885f71451fb9150c9</th>\n",
       "      <td>5.000000</td>\n",
       "      <td>3.000000</td>\n",
       "    </tr>\n",
       "    <tr>\n",
       "      <th>ac75fb8c9f884d0fbbce259074ded429</th>\n",
       "      <td>5.000000</td>\n",
       "      <td>6.000000</td>\n",
       "    </tr>\n",
       "    <tr>\n",
       "      <th>94ba583b81ed4e98acd15f291172bf8b</th>\n",
       "      <td>5.000000</td>\n",
       "      <td>6.000000</td>\n",
       "    </tr>\n",
       "    <tr>\n",
       "      <th>a988338992704827839b76fd8421728d</th>\n",
       "      <td>5.000000</td>\n",
       "      <td>4.000000</td>\n",
       "    </tr>\n",
       "    <tr>\n",
       "      <th>9c6312f59b624c309242ed7b87988e0b</th>\n",
       "      <td>5.000000</td>\n",
       "      <td>15.000000</td>\n",
       "    </tr>\n",
       "    <tr>\n",
       "      <th>d7a053e2ffe844689bc22ed963f6a7e4</th>\n",
       "      <td>5.000000</td>\n",
       "      <td>4.000000</td>\n",
       "    </tr>\n",
       "    <tr>\n",
       "      <th>ead33e7a093544028d75155f698a4de9</th>\n",
       "      <td>5.000000</td>\n",
       "      <td>22.000000</td>\n",
       "    </tr>\n",
       "    <tr>\n",
       "      <th>9a80df78bb644ec5876c8206ca5cc3c7</th>\n",
       "      <td>4.666667</td>\n",
       "      <td>6.333333</td>\n",
       "    </tr>\n",
       "    <tr>\n",
       "      <th>00680f924e8f49d4962876df5b38eb94</th>\n",
       "      <td>4.666667</td>\n",
       "      <td>16.000000</td>\n",
       "    </tr>\n",
       "    <tr>\n",
       "      <th>9041a0c74a9b4988a04908b9cb4accfc</th>\n",
       "      <td>4.666667</td>\n",
       "      <td>14.666667</td>\n",
       "    </tr>\n",
       "    <tr>\n",
       "      <th>0826bc169092451d850bcbe9759b93a3</th>\n",
       "      <td>4.500000</td>\n",
       "      <td>6.000000</td>\n",
       "    </tr>\n",
       "    <tr>\n",
       "      <th>ce77b73a684a45088a3736eda7a57c41</th>\n",
       "      <td>4.500000</td>\n",
       "      <td>5.000000</td>\n",
       "    </tr>\n",
       "    <tr>\n",
       "      <th>c08a0cc55fe9429d93aaa18fddc5266e</th>\n",
       "      <td>4.500000</td>\n",
       "      <td>3.500000</td>\n",
       "    </tr>\n",
       "    <tr>\n",
       "      <th>c1014a1846bd46e0ac35716dc20c58f2</th>\n",
       "      <td>4.500000</td>\n",
       "      <td>14.000000</td>\n",
       "    </tr>\n",
       "    <tr>\n",
       "      <th>591938d455ae4a428589ba3f1c5cf0fb</th>\n",
       "      <td>4.500000</td>\n",
       "      <td>6.500000</td>\n",
       "    </tr>\n",
       "  </tbody>\n",
       "</table>\n",
       "</div>"
      ],
      "text/plain": [
       "                                  answers_score  questions_score\n",
       "answers_author_id                                               \n",
       "4dbdd4b99f80446798b3ab477f049285      11.000000         9.000000\n",
       "1ec14aee9311480681dfa81b0f193de8       9.666667        15.666667\n",
       "bdcdf938f015413fb3cb981836ca3dab       9.000000        24.000000\n",
       "9ce1a6a0bb3c4cc49bc6414788b80c49       8.000000         6.000000\n",
       "39a60344b603488ba9bb62c5c8b3be97       8.000000        14.000000\n",
       "664a948f3d014b0d9251af1f0469c43e       8.000000        43.000000\n",
       "5cbd4a64a328414781df8b75e47ffad3       7.000000        60.000000\n",
       "64acecc36386468eae3bbb6f22c2aef9       7.000000         8.000000\n",
       "f96c2cdbeb314deb911adcead45b4280       7.000000         5.000000\n",
       "716d3d3bd66a45dd9c6ff3e4d627bb14       7.000000        13.000000\n",
       "25947a0c475f44139a75e2d3ccd00824       7.000000         5.000000\n",
       "a96726e8c1e14e099965898bf2c4d2d5       7.000000         3.000000\n",
       "e68c903a318244d8988b978879f94e8d       7.000000        17.000000\n",
       "f567405e9b6d4b58978ff2074c1fe1a6       7.000000         5.000000\n",
       "c97347e2441b40a69577cf1627b81a6a       6.500000        10.500000\n",
       "34df5c19a4044e9791978f8ed867a350       6.333333        13.000000\n",
       "d2c9d0b9fff54e5f932144d5eb5015f0       6.333333        11.000000\n",
       "f29723e24646426e935274a15e0f13bb       6.000000         3.000000\n",
       "7aa36954229345f28bf2434f90c3f282       6.000000        15.000000\n",
       "52e237099b0c471aae4b84c597372145       6.000000         5.000000\n",
       "7cf19084fb1740dba5aa35797c046dee       6.000000         4.000000\n",
       "0380464990eb44668ad558d5624aa895       6.000000         3.000000\n",
       "2e77a7e4d0d34385bc175a9efb61408c       6.000000        10.000000\n",
       "eb571112e2974ecf942da89a7ece3a02       6.000000         6.000000\n",
       "fc993910544c483bb1d8cea5e7120377       6.000000        13.000000\n",
       "861a5e2a40bd4d8cb7322ee9bc9b2f81       5.666667         3.666667\n",
       "a61aa494aed848cc87ba745a24178922       5.666667        10.666667\n",
       "5f77e0a2c3a144dda336df2294a64530       5.500000         5.000000\n",
       "43da54406c50437890635d06acfba548       5.500000         9.250000\n",
       "3cc5c8daa33c4888874b5b94c0f98810       5.333333        18.000000\n",
       "9ced4ce7519049c0944147afb75a8ce3       5.000000         6.000000\n",
       "60bfb575b826434b84eeaf578854696c       5.000000         4.000000\n",
       "ff347be2a46543598867792e3e6a54b9       5.000000        15.750000\n",
       "0a709e8b011c4ae5a30373643cae34cb       5.000000         4.000000\n",
       "615cdd5c43864c17b832ad5378ba4641       5.000000         7.000000\n",
       "577476bad15d4e3885f71451fb9150c9       5.000000         3.000000\n",
       "ac75fb8c9f884d0fbbce259074ded429       5.000000         6.000000\n",
       "94ba583b81ed4e98acd15f291172bf8b       5.000000         6.000000\n",
       "a988338992704827839b76fd8421728d       5.000000         4.000000\n",
       "9c6312f59b624c309242ed7b87988e0b       5.000000        15.000000\n",
       "d7a053e2ffe844689bc22ed963f6a7e4       5.000000         4.000000\n",
       "ead33e7a093544028d75155f698a4de9       5.000000        22.000000\n",
       "9a80df78bb644ec5876c8206ca5cc3c7       4.666667         6.333333\n",
       "00680f924e8f49d4962876df5b38eb94       4.666667        16.000000\n",
       "9041a0c74a9b4988a04908b9cb4accfc       4.666667        14.666667\n",
       "0826bc169092451d850bcbe9759b93a3       4.500000         6.000000\n",
       "ce77b73a684a45088a3736eda7a57c41       4.500000         5.000000\n",
       "c08a0cc55fe9429d93aaa18fddc5266e       4.500000         3.500000\n",
       "c1014a1846bd46e0ac35716dc20c58f2       4.500000        14.000000\n",
       "591938d455ae4a428589ba3f1c5cf0fb       4.500000         6.500000"
      ]
     },
     "execution_count": 106,
     "metadata": {},
     "output_type": "execute_result"
    }
   ],
   "source": [
    "data.groupby('answers_author_id').mean().sort_values('answers_score', ascending=False).head(50)[['answers_score', 'questions_score']]"
   ]
  },
  {
   "cell_type": "markdown",
   "metadata": {},
   "source": [
    "How many professionals had an average `answers_score` above 2.0? After some trial and error we can see that 319 out of 10169 professionals have an `answers_score` above 2.0"
   ]
  },
  {
   "cell_type": "code",
   "execution_count": 107,
   "metadata": {},
   "outputs": [
    {
     "data": {
      "text/html": [
       "<div>\n",
       "<style scoped>\n",
       "    .dataframe tbody tr th:only-of-type {\n",
       "        vertical-align: middle;\n",
       "    }\n",
       "\n",
       "    .dataframe tbody tr th {\n",
       "        vertical-align: top;\n",
       "    }\n",
       "\n",
       "    .dataframe thead th {\n",
       "        text-align: right;\n",
       "    }\n",
       "</style>\n",
       "<table border=\"1\" class=\"dataframe\">\n",
       "  <thead>\n",
       "    <tr style=\"text-align: right;\">\n",
       "      <th></th>\n",
       "      <th>answers_score</th>\n",
       "      <th>questions_score</th>\n",
       "    </tr>\n",
       "    <tr>\n",
       "      <th>answers_author_id</th>\n",
       "      <th></th>\n",
       "      <th></th>\n",
       "    </tr>\n",
       "  </thead>\n",
       "  <tbody>\n",
       "    <tr>\n",
       "      <th>4dbdd4b99f80446798b3ab477f049285</th>\n",
       "      <td>11.000000</td>\n",
       "      <td>9.000000</td>\n",
       "    </tr>\n",
       "    <tr>\n",
       "      <th>1ec14aee9311480681dfa81b0f193de8</th>\n",
       "      <td>9.666667</td>\n",
       "      <td>15.666667</td>\n",
       "    </tr>\n",
       "    <tr>\n",
       "      <th>bdcdf938f015413fb3cb981836ca3dab</th>\n",
       "      <td>9.000000</td>\n",
       "      <td>24.000000</td>\n",
       "    </tr>\n",
       "    <tr>\n",
       "      <th>9ce1a6a0bb3c4cc49bc6414788b80c49</th>\n",
       "      <td>8.000000</td>\n",
       "      <td>6.000000</td>\n",
       "    </tr>\n",
       "    <tr>\n",
       "      <th>39a60344b603488ba9bb62c5c8b3be97</th>\n",
       "      <td>8.000000</td>\n",
       "      <td>14.000000</td>\n",
       "    </tr>\n",
       "    <tr>\n",
       "      <th>...</th>\n",
       "      <td>...</td>\n",
       "      <td>...</td>\n",
       "    </tr>\n",
       "    <tr>\n",
       "      <th>55b940e77e854835b366a776d61b2fa2</th>\n",
       "      <td>2.000000</td>\n",
       "      <td>5.000000</td>\n",
       "    </tr>\n",
       "    <tr>\n",
       "      <th>61dce1c4c0a648fc9e04f7f5762e9210</th>\n",
       "      <td>2.000000</td>\n",
       "      <td>2.000000</td>\n",
       "    </tr>\n",
       "    <tr>\n",
       "      <th>88bcaee5379a47a48a655ed386a7bc41</th>\n",
       "      <td>2.000000</td>\n",
       "      <td>9.000000</td>\n",
       "    </tr>\n",
       "    <tr>\n",
       "      <th>d819fc08150948ae98745c6e13c0a261</th>\n",
       "      <td>2.000000</td>\n",
       "      <td>5.000000</td>\n",
       "    </tr>\n",
       "    <tr>\n",
       "      <th>e03217f18c3c471ea8752937192af01e</th>\n",
       "      <td>2.000000</td>\n",
       "      <td>10.500000</td>\n",
       "    </tr>\n",
       "  </tbody>\n",
       "</table>\n",
       "<p>320 rows × 2 columns</p>\n",
       "</div>"
      ],
      "text/plain": [
       "                                  answers_score  questions_score\n",
       "answers_author_id                                               \n",
       "4dbdd4b99f80446798b3ab477f049285      11.000000         9.000000\n",
       "1ec14aee9311480681dfa81b0f193de8       9.666667        15.666667\n",
       "bdcdf938f015413fb3cb981836ca3dab       9.000000        24.000000\n",
       "9ce1a6a0bb3c4cc49bc6414788b80c49       8.000000         6.000000\n",
       "39a60344b603488ba9bb62c5c8b3be97       8.000000        14.000000\n",
       "...                                         ...              ...\n",
       "55b940e77e854835b366a776d61b2fa2       2.000000         5.000000\n",
       "61dce1c4c0a648fc9e04f7f5762e9210       2.000000         2.000000\n",
       "88bcaee5379a47a48a655ed386a7bc41       2.000000         9.000000\n",
       "d819fc08150948ae98745c6e13c0a261       2.000000         5.000000\n",
       "e03217f18c3c471ea8752937192af01e       2.000000        10.500000\n",
       "\n",
       "[320 rows x 2 columns]"
      ]
     },
     "execution_count": 107,
     "metadata": {},
     "output_type": "execute_result"
    }
   ],
   "source": [
    "# Saving the professionals with the highest questions_score in a dataframe called: top_prof_df\n",
    "top_prof_df = data.groupby('answers_author_id').mean().sort_values('answers_score', ascending=False).head(319)\n",
    "\n",
    "# Viewing the professionals with the highest questions_score in a dataframe called: top_prof_df\n",
    "data.groupby('answers_author_id').mean().sort_values('answers_score', ascending=False).head(320)[['answers_score', 'questions_score']]"
   ]
  },
  {
   "cell_type": "markdown",
   "metadata": {},
   "source": [
    "How many professionals had average answers_score above 1.0? After some trial and error, we can see that 1017 out of 10169 professionals have answers_score above 1.0."
   ]
  },
  {
   "cell_type": "code",
   "execution_count": 108,
   "metadata": {},
   "outputs": [
    {
     "data": {
      "text/html": [
       "<div>\n",
       "<style scoped>\n",
       "    .dataframe tbody tr th:only-of-type {\n",
       "        vertical-align: middle;\n",
       "    }\n",
       "\n",
       "    .dataframe tbody tr th {\n",
       "        vertical-align: top;\n",
       "    }\n",
       "\n",
       "    .dataframe thead th {\n",
       "        text-align: right;\n",
       "    }\n",
       "</style>\n",
       "<table border=\"1\" class=\"dataframe\">\n",
       "  <thead>\n",
       "    <tr style=\"text-align: right;\">\n",
       "      <th></th>\n",
       "      <th>answers_score</th>\n",
       "      <th>questions_score</th>\n",
       "    </tr>\n",
       "    <tr>\n",
       "      <th>answers_author_id</th>\n",
       "      <th></th>\n",
       "      <th></th>\n",
       "    </tr>\n",
       "  </thead>\n",
       "  <tbody>\n",
       "    <tr>\n",
       "      <th>4dbdd4b99f80446798b3ab477f049285</th>\n",
       "      <td>11.000000</td>\n",
       "      <td>9.000000</td>\n",
       "    </tr>\n",
       "    <tr>\n",
       "      <th>1ec14aee9311480681dfa81b0f193de8</th>\n",
       "      <td>9.666667</td>\n",
       "      <td>15.666667</td>\n",
       "    </tr>\n",
       "    <tr>\n",
       "      <th>bdcdf938f015413fb3cb981836ca3dab</th>\n",
       "      <td>9.000000</td>\n",
       "      <td>24.000000</td>\n",
       "    </tr>\n",
       "    <tr>\n",
       "      <th>9ce1a6a0bb3c4cc49bc6414788b80c49</th>\n",
       "      <td>8.000000</td>\n",
       "      <td>6.000000</td>\n",
       "    </tr>\n",
       "    <tr>\n",
       "      <th>39a60344b603488ba9bb62c5c8b3be97</th>\n",
       "      <td>8.000000</td>\n",
       "      <td>14.000000</td>\n",
       "    </tr>\n",
       "    <tr>\n",
       "      <th>...</th>\n",
       "      <td>...</td>\n",
       "      <td>...</td>\n",
       "    </tr>\n",
       "    <tr>\n",
       "      <th>2be67b772d294aeabee603c5eaa98669</th>\n",
       "      <td>1.000000</td>\n",
       "      <td>4.000000</td>\n",
       "    </tr>\n",
       "    <tr>\n",
       "      <th>e97d7f0c31954288a592863e977569ea</th>\n",
       "      <td>1.000000</td>\n",
       "      <td>12.000000</td>\n",
       "    </tr>\n",
       "    <tr>\n",
       "      <th>2bc49eecdab6499293afd40d19503b14</th>\n",
       "      <td>1.000000</td>\n",
       "      <td>3.500000</td>\n",
       "    </tr>\n",
       "    <tr>\n",
       "      <th>2bb6a82091304b9693e11443c19edb80</th>\n",
       "      <td>1.000000</td>\n",
       "      <td>3.000000</td>\n",
       "    </tr>\n",
       "    <tr>\n",
       "      <th>751ce59fb621448093996a4cb9a6f88d</th>\n",
       "      <td>1.000000</td>\n",
       "      <td>1.000000</td>\n",
       "    </tr>\n",
       "  </tbody>\n",
       "</table>\n",
       "<p>1020 rows × 2 columns</p>\n",
       "</div>"
      ],
      "text/plain": [
       "                                  answers_score  questions_score\n",
       "answers_author_id                                               \n",
       "4dbdd4b99f80446798b3ab477f049285      11.000000         9.000000\n",
       "1ec14aee9311480681dfa81b0f193de8       9.666667        15.666667\n",
       "bdcdf938f015413fb3cb981836ca3dab       9.000000        24.000000\n",
       "9ce1a6a0bb3c4cc49bc6414788b80c49       8.000000         6.000000\n",
       "39a60344b603488ba9bb62c5c8b3be97       8.000000        14.000000\n",
       "...                                         ...              ...\n",
       "2be67b772d294aeabee603c5eaa98669       1.000000         4.000000\n",
       "e97d7f0c31954288a592863e977569ea       1.000000        12.000000\n",
       "2bc49eecdab6499293afd40d19503b14       1.000000         3.500000\n",
       "2bb6a82091304b9693e11443c19edb80       1.000000         3.000000\n",
       "751ce59fb621448093996a4cb9a6f88d       1.000000         1.000000\n",
       "\n",
       "[1020 rows x 2 columns]"
      ]
     },
     "execution_count": 108,
     "metadata": {},
     "output_type": "execute_result"
    }
   ],
   "source": [
    "data.groupby('answers_author_id').mean().sort_values('answers_score', ascending=False).head(1020)[['answers_score', 'questions_score']]"
   ]
  },
  {
   "cell_type": "markdown",
   "metadata": {},
   "source": [
    "### Exploring Scores\n",
    "\n",
    "Below is a look at the general stats, grouped by `was_answered` for question and answer scores. Unsurprisingly the average question score for questions that were answered is several points higher than wasn't answered. That said, it's interesting to see that the average score for questions that weren't answered was above 0, or almost zero. In looking at the max `question_score` for questions that weren't answered, we see a question had 123 \"upvotes\" and still wasn't answered. This is an anomaly, but interesting. \n",
    "\n",
    "#### General Stats for Question and Answer Scores:"
   ]
  },
  {
   "cell_type": "code",
   "execution_count": 141,
   "metadata": {},
   "outputs": [],
   "source": [
    "# data.groupby('was_answered')[['questions_score', 'answers_score']].describe()"
   ]
  },
  {
   "cell_type": "markdown",
   "metadata": {},
   "source": [
    "### Exploring `answer_scores`"
   ]
  },
  {
   "cell_type": "code",
   "execution_count": 111,
   "metadata": {},
   "outputs": [
    {
     "data": {
      "image/png": "[encoded data removed]",
      "text/plain": [
       "<Figure size 432x288 with 1 Axes>"
      ]
     },
     "metadata": {
      "image/png": {
       "height": 248,
       "width": 388
      },
      "needs_background": "light"
     },
     "output_type": "display_data"
    }
   ],
   "source": [
    "data['answers_score'].hist();"
   ]
  },
  {
   "cell_type": "markdown",
   "metadata": {},
   "source": [
    "There are 23 unique values for answer scores"
   ]
  },
  {
   "cell_type": "code",
   "execution_count": 112,
   "metadata": {},
   "outputs": [
    {
     "data": {
      "text/plain": [
       "23"
      ]
     },
     "execution_count": 112,
     "metadata": {},
     "output_type": "execute_result"
    }
   ],
   "source": [
    "data['answers_score'].nunique()"
   ]
  },
  {
   "cell_type": "markdown",
   "metadata": {},
   "source": [
    "Below outputs the frequency for how often each answer score value occurs:"
   ]
  },
  {
   "cell_type": "code",
   "execution_count": 113,
   "metadata": {},
   "outputs": [
    {
     "data": {
      "text/plain": [
       "0.0     37286\n",
       "1.0      9607\n",
       "2.0      2655\n",
       "3.0       852\n",
       "4.0       362\n",
       "5.0       158\n",
       "6.0        67\n",
       "7.0        45\n",
       "8.0        28\n",
       "9.0        13\n",
       "10.0        8\n",
       "12.0        7\n",
       "11.0        5\n",
       "13.0        3\n",
       "14.0        3\n",
       "22.0        1\n",
       "19.0        1\n",
       "18.0        1\n",
       "20.0        1\n",
       "30.0        1\n",
       "25.0        1\n",
       "17.0        1\n",
       "15.0        1\n",
       "Name: answers_score, dtype: int64"
      ]
     },
     "execution_count": 113,
     "metadata": {},
     "output_type": "execute_result"
    }
   ],
   "source": [
    "data['answers_score'].value_counts()"
   ]
  },
  {
   "cell_type": "markdown",
   "metadata": {},
   "source": [
    "Similar to above, below graphs the frequency for how often each answer score value occurs:"
   ]
  },
  {
   "cell_type": "code",
   "execution_count": 114,
   "metadata": {},
   "outputs": [
    {
     "data": {
      "image/png": "[encoded data removed]",
      "text/plain": [
       "<Figure size 432x288 with 1 Axes>"
      ]
     },
     "metadata": {
      "image/png": {
       "height": 248,
       "width": 378
      },
      "needs_background": "light"
     },
     "output_type": "display_data"
    }
   ],
   "source": [
    "data['answers_score'].value_counts().hist();"
   ]
  },
  {
   "cell_type": "markdown",
   "metadata": {},
   "source": [
    "Taking a closer look at the general stats, distribution, and quartiles for answer_scores:"
   ]
  },
  {
   "cell_type": "code",
   "execution_count": 115,
   "metadata": {},
   "outputs": [
    {
     "data": {
      "text/plain": [
       "count    51107.000000\n",
       "mean         0.415501\n",
       "std          0.921442\n",
       "min          0.000000\n",
       "25%          0.000000\n",
       "50%          0.000000\n",
       "75%          1.000000\n",
       "max         30.000000\n",
       "Name: answers_score, dtype: float64"
      ]
     },
     "execution_count": 115,
     "metadata": {},
     "output_type": "execute_result"
    }
   ],
   "source": [
    "data['answers_score'].describe()"
   ]
  },
  {
   "cell_type": "markdown",
   "metadata": {},
   "source": [
    "The boxplot provides a good visual for how the answer scores and spread. The majority of scores are between 0 and 1. With outliers above about 2. Since there can't be negative scores, there are no outliers to the left of the graph."
   ]
  },
  {
   "cell_type": "code",
   "execution_count": 134,
   "metadata": {},
   "outputs": [
    {
     "data": {
      "image/png": "[encoded data removed]",
      "text/plain": [
       "<Figure size 720x720 with 1 Axes>"
      ]
     },
     "metadata": {
      "image/png": {
       "height": 592,
       "width": 575
      },
      "needs_background": "light"
     },
     "output_type": "display_data"
    }
   ],
   "source": [
    "plt.figure(figsize=(10,10))\n",
    "sns.boxplot(data['answers_score'], color='teal');\n",
    "plt.xlabel(\"Answer Scores\", fontsize=14);"
   ]
  },
  {
   "cell_type": "markdown",
   "metadata": {},
   "source": [
    "### Exploring `questions_score`"
   ]
  },
  {
   "cell_type": "markdown",
   "metadata": {},
   "source": [
    "There are 75 unique question scores"
   ]
  },
  {
   "cell_type": "code",
   "execution_count": 117,
   "metadata": {},
   "outputs": [
    {
     "data": {
      "text/plain": [
       "75"
      ]
     },
     "execution_count": 117,
     "metadata": {},
     "output_type": "execute_result"
    }
   ],
   "source": [
    "data['questions_score'].nunique()"
   ]
  },
  {
   "cell_type": "markdown",
   "metadata": {},
   "source": [
    "Taking a closer look at the general stats, distribution, and quartiles for answer_scores:"
   ]
  },
  {
   "cell_type": "code",
   "execution_count": 118,
   "metadata": {},
   "outputs": [
    {
     "data": {
      "text/plain": [
       "count    51936.000000\n",
       "mean         4.530980\n",
       "std          6.651972\n",
       "min          0.000000\n",
       "25%          2.000000\n",
       "50%          3.000000\n",
       "75%          5.000000\n",
       "max        125.000000\n",
       "Name: questions_score, dtype: float64"
      ]
     },
     "execution_count": 118,
     "metadata": {},
     "output_type": "execute_result"
    }
   ],
   "source": [
    "data['questions_score'].describe()"
   ]
  },
  {
   "cell_type": "markdown",
   "metadata": {},
   "source": [
    "The boxplot provides a good visual for how the question scores and spread. The majority of scores are between 2 and 4. With outliers above about 9. "
   ]
  },
  {
   "cell_type": "code",
   "execution_count": 119,
   "metadata": {},
   "outputs": [
    {
     "data": {
      "image/png": "[encoded data removed]",
      "text/plain": [
       "<Figure size 432x288 with 1 Axes>"
      ]
     },
     "metadata": {
      "image/png": {
       "height": 262,
       "width": 352
      },
      "needs_background": "light"
     },
     "output_type": "display_data"
    }
   ],
   "source": [
    "sns.boxplot(data['questions_score']);"
   ]
  },
  {
   "cell_type": "markdown",
   "metadata": {},
   "source": [
    "A deeper dive into the distribution of `questions_scores` shows just how many of the scores are between 0-5, and how few are above 5."
   ]
  },
  {
   "cell_type": "code",
   "execution_count": 140,
   "metadata": {},
   "outputs": [
    {
     "data": {
      "image/png": "[encoded data removed]",
      "text/plain": [
       "<Figure size 720x720 with 1 Axes>"
      ]
     },
     "metadata": {
      "image/png": {
       "height": 588,
       "width": 629
      },
      "needs_background": "light"
     },
     "output_type": "display_data"
    }
   ],
   "source": [
    "plt.figure(figsize=(10,10))\n",
    "data['questions_score'].plot(kind='hist', bins=100, color='teal');\n",
    "plt.ylabel(\"Frequency\", size=14)\n",
    "plt.xlabel(\"Question Score\");"
   ]
  },
  {
   "cell_type": "markdown",
   "metadata": {},
   "source": [
    "#### Exploring dates and lengths of time answered"
   ]
  },
  {
   "cell_type": "markdown",
   "metadata": {},
   "source": [
    "Creating a column called `time_to_answer` that is a calculation of the `answers_date_added` minus `questions_date_added` columns. The data is in date-time units."
   ]
  },
  {
   "cell_type": "code",
   "execution_count": 121,
   "metadata": {},
   "outputs": [
    {
     "data": {
      "text/html": [
       "<div>\n",
       "<style scoped>\n",
       "    .dataframe tbody tr th:only-of-type {\n",
       "        vertical-align: middle;\n",
       "    }\n",
       "\n",
       "    .dataframe tbody tr th {\n",
       "        vertical-align: top;\n",
       "    }\n",
       "\n",
       "    .dataframe thead th {\n",
       "        text-align: right;\n",
       "    }\n",
       "</style>\n",
       "<table border=\"1\" class=\"dataframe\">\n",
       "  <thead>\n",
       "    <tr style=\"text-align: right;\">\n",
       "      <th></th>\n",
       "      <th>questions_id</th>\n",
       "      <th>questions_author_id</th>\n",
       "      <th>questions_date_added</th>\n",
       "      <th>questions_title</th>\n",
       "      <th>questions_body</th>\n",
       "      <th>questions_score</th>\n",
       "      <th>answers_id</th>\n",
       "      <th>answers_author_id</th>\n",
       "      <th>answers_date_added</th>\n",
       "      <th>answers_body</th>\n",
       "      <th>answers_score</th>\n",
       "      <th>time_to_answer</th>\n",
       "    </tr>\n",
       "  </thead>\n",
       "  <tbody>\n",
       "    <tr>\n",
       "      <th>0</th>\n",
       "      <td>332a511f1569444485cf7a7a556a5e54</td>\n",
       "      <td>8f6f374ffd834d258ab69d376dd998f5</td>\n",
       "      <td>2016-04-26 11:14:26+00:00</td>\n",
       "      <td>Teacher   career   question</td>\n",
       "      <td>What  is  a  maths  teacher?   what  is  a  ma...</td>\n",
       "      <td>1.0</td>\n",
       "      <td>4e5f01128cae4f6d8fd697cec5dca60c</td>\n",
       "      <td>36ff3b3666df400f956f8335cf53e09e</td>\n",
       "      <td>2016-04-29 19:40:14+00:00</td>\n",
       "      <td>&lt;p&gt;Hi!&lt;/p&gt;\\n&lt;p&gt;You are asking a very interesti...</td>\n",
       "      <td>0.0</td>\n",
       "      <td>3 days 08:25:48</td>\n",
       "    </tr>\n",
       "    <tr>\n",
       "      <th>1</th>\n",
       "      <td>eb80205482e4424cad8f16bc25aa2d9c</td>\n",
       "      <td>acccbda28edd4362ab03fb8b6fd2d67b</td>\n",
       "      <td>2016-05-20 16:48:25+00:00</td>\n",
       "      <td>I want to become an army officer. What can I d...</td>\n",
       "      <td>I am Priyanka from Bangalore . Now am in 10th ...</td>\n",
       "      <td>5.0</td>\n",
       "      <td>ada720538c014e9b8a6dceed09385ee3</td>\n",
       "      <td>2aa47af241bf42a4b874c453f0381bd4</td>\n",
       "      <td>2018-05-01 14:19:08+00:00</td>\n",
       "      <td>&lt;p&gt;Hi. I joined the Army after I attended coll...</td>\n",
       "      <td>0.0</td>\n",
       "      <td>710 days 21:30:43</td>\n",
       "    </tr>\n",
       "  </tbody>\n",
       "</table>\n",
       "</div>"
      ],
      "text/plain": [
       "                       questions_id               questions_author_id  \\\n",
       "0  332a511f1569444485cf7a7a556a5e54  8f6f374ffd834d258ab69d376dd998f5   \n",
       "1  eb80205482e4424cad8f16bc25aa2d9c  acccbda28edd4362ab03fb8b6fd2d67b   \n",
       "\n",
       "       questions_date_added  \\\n",
       "0 2016-04-26 11:14:26+00:00   \n",
       "1 2016-05-20 16:48:25+00:00   \n",
       "\n",
       "                                     questions_title  \\\n",
       "0                        Teacher   career   question   \n",
       "1  I want to become an army officer. What can I d...   \n",
       "\n",
       "                                      questions_body  questions_score  \\\n",
       "0  What  is  a  maths  teacher?   what  is  a  ma...              1.0   \n",
       "1  I am Priyanka from Bangalore . Now am in 10th ...              5.0   \n",
       "\n",
       "                         answers_id                 answers_author_id  \\\n",
       "0  4e5f01128cae4f6d8fd697cec5dca60c  36ff3b3666df400f956f8335cf53e09e   \n",
       "1  ada720538c014e9b8a6dceed09385ee3  2aa47af241bf42a4b874c453f0381bd4   \n",
       "\n",
       "         answers_date_added  \\\n",
       "0 2016-04-29 19:40:14+00:00   \n",
       "1 2018-05-01 14:19:08+00:00   \n",
       "\n",
       "                                        answers_body  answers_score  \\\n",
       "0  <p>Hi!</p>\\n<p>You are asking a very interesti...            0.0   \n",
       "1  <p>Hi. I joined the Army after I attended coll...            0.0   \n",
       "\n",
       "     time_to_answer  \n",
       "0   3 days 08:25:48  \n",
       "1 710 days 21:30:43  "
      ]
     },
     "execution_count": 121,
     "metadata": {},
     "output_type": "execute_result"
    }
   ],
   "source": [
    "data['time_to_answer'] = data['answers_date_added'] - data['questions_date_added']\n",
    "\n",
    "# [x.strftime(\"%Y-%m-%d %H:%M:%S\") for x in data['time_to_answer']]\n",
    "data.head(2)"
   ]
  },
  {
   "cell_type": "code",
   "execution_count": 122,
   "metadata": {},
   "outputs": [
    {
     "data": {
      "text/html": [
       "<div>\n",
       "<style scoped>\n",
       "    .dataframe tbody tr th:only-of-type {\n",
       "        vertical-align: middle;\n",
       "    }\n",
       "\n",
       "    .dataframe tbody tr th {\n",
       "        vertical-align: top;\n",
       "    }\n",
       "\n",
       "    .dataframe thead th {\n",
       "        text-align: right;\n",
       "    }\n",
       "</style>\n",
       "<table border=\"1\" class=\"dataframe\">\n",
       "  <thead>\n",
       "    <tr style=\"text-align: right;\">\n",
       "      <th></th>\n",
       "      <th>time_to_answer</th>\n",
       "    </tr>\n",
       "  </thead>\n",
       "  <tbody>\n",
       "    <tr>\n",
       "      <th>0</th>\n",
       "      <td>3 days 08:25:48</td>\n",
       "    </tr>\n",
       "    <tr>\n",
       "      <th>1</th>\n",
       "      <td>710 days 21:30:43</td>\n",
       "    </tr>\n",
       "    <tr>\n",
       "      <th>2</th>\n",
       "      <td>711 days 09:52:37</td>\n",
       "    </tr>\n",
       "    <tr>\n",
       "      <th>3</th>\n",
       "      <td>90 days 23:47:09</td>\n",
       "    </tr>\n",
       "    <tr>\n",
       "      <th>4</th>\n",
       "      <td>42 days 08:02:01</td>\n",
       "    </tr>\n",
       "  </tbody>\n",
       "</table>\n",
       "</div>"
      ],
      "text/plain": [
       "     time_to_answer\n",
       "0   3 days 08:25:48\n",
       "1 710 days 21:30:43\n",
       "2 711 days 09:52:37\n",
       "3  90 days 23:47:09\n",
       "4  42 days 08:02:01"
      ]
     },
     "execution_count": 122,
     "metadata": {},
     "output_type": "execute_result"
    }
   ],
   "source": [
    "data[['time_to_answer']].head()"
   ]
  },
  {
   "cell_type": "markdown",
   "metadata": {},
   "source": [
    "General stats for how long it takes for a question to be answered. As we can see here that the mean is 142 days, while the median is 22 days. The average is heavily skewed by the max amount of days it took to answer a question; 2,562, which is about 7 years. This is highly suspicious that a question took 7 years to be answered. Additionally, the min is negative, and an answer to a question can't be posted before it was asked. Since the data was likely auto-generated from the site, it's unlikely it's an imputation error. It may be a merging error due to how messy the data has been in general. The other possibility is that if an answer was posted for a different similar question, it might be linked to the new question (this would have to be confirmed by careervillage.com)."
   ]
  },
  {
   "cell_type": "code",
   "execution_count": 123,
   "metadata": {},
   "outputs": [],
   "source": [
    "# data[data['was_answered'] ==1][['time_to_answer']].describe()"
   ]
  },
  {
   "cell_type": "code",
   "execution_count": 124,
   "metadata": {},
   "outputs": [],
   "source": [
    "# data[data['was_answered'] ==1][['time_to_answer']].sort_values('time_to_answer')"
   ]
  },
  {
   "cell_type": "code",
   "execution_count": 125,
   "metadata": {},
   "outputs": [
    {
     "data": {
      "text/plain": [
       "time_to_answer   139 days 02:32:34.330927\n",
       "dtype: timedelta64[ns]"
      ]
     },
     "execution_count": 125,
     "metadata": {},
     "output_type": "execute_result"
    }
   ],
   "source": [
    "data[['time_to_answer']].mean()"
   ]
  },
  {
   "cell_type": "code",
   "execution_count": 126,
   "metadata": {},
   "outputs": [
    {
     "data": {
      "image/png": "[encoded data removed]",
      "text/plain": [
       "<Figure size 432x288 with 1 Axes>"
      ]
     },
     "metadata": {
      "image/png": {
       "height": 276,
       "width": 388
      },
      "needs_background": "light"
     },
     "output_type": "display_data"
    }
   ],
   "source": [
    "time_nulless = data[['time_to_answer']].dropna().astype(int)\n",
    "time_nulless.hist();"
   ]
  },
  {
   "cell_type": "markdown",
   "metadata": {},
   "source": [
    "## Exporting Data"
   ]
  },
  {
   "cell_type": "code",
   "execution_count": null,
   "metadata": {},
   "outputs": [],
   "source": [
    "# data.to_csv('./Datasets/cleaned_w_sentiment.csv', index=False)"
   ]
  },
  {
   "cell_type": "code",
   "execution_count": null,
   "metadata": {},
   "outputs": [],
   "source": []
  }
 ],
 "metadata": {
  "kernelspec": {
   "display_name": "Python 3",
   "language": "python",
   "name": "python3"
  },
  "language_info": {
   "codemirror_mode": {
    "name": "ipython",
    "version": 3
   },
   "file_extension": ".py",
   "mimetype": "text/x-python",
   "name": "python",
   "nbconvert_exporter": "python",
   "pygments_lexer": "ipython3",
   "version": "3.7.4"
  }
 },
 "nbformat": 4,
 "nbformat_minor": 4
}
